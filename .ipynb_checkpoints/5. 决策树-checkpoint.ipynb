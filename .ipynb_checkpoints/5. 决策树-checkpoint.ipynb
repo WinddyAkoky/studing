{
 "cells": [
  {
   "cell_type": "markdown",
   "metadata": {},
   "source": [
    "# 第五章 决策树"
   ]
  },
  {
   "cell_type": "markdown",
   "metadata": {},
   "source": [
    "1. 什么是决策树？\n",
    "2. 决策树算法包括哪些？\n",
    "3. 如何进行特征选择？"
   ]
  },
  {
   "cell_type": "markdown",
   "metadata": {},
   "source": [
    "1. 分类决策树模型是表示基于特征对实例进行分类的树形结构。决策树可以转换成if-then规则的集合。也可以看做是定义在特征空间划分上的类的条件概率分布。\n",
    "2. 决策树学习旨在构建一个与训练数据拟合很好，并且复杂度小的决策树。因为从可能的决策树中直接选取最优决策树是个NP完全问题。现实中采用启发式方法学习次优的决策树。\n",
    "决策树学习算法包括3部分：特征选择、树的生成和树的剪枝。常用的算法有ID3、C4.5、CART。\n",
    "3. 特征选择的目的在于选取对训练数据能够分类的特征。特征选择的关键是准则。常用准则如下：\n",
    "\n",
    "（1）样本集合D对特征A的信息增益（ID3）\n",
    "$$g(D,A)=H(D) - H(D|A)$$\n",
    "$$H(D) = -\\sum_{k=1}^K{\\frac{|C_k|}{|D|}log_2 \\frac{|C_k|}{|D|}}$$\n",
    "$$H(D|A) = \\sum_{i=1}^{n}{\\frac{|D_i|}{|D|}H(D_i)}$$\n",
    "\n",
    "其中H(D)是数据集$D$的熵，$D(D_i)$是数据集$D_i$的熵，$H(H|A)$是数据集D对特征A的条件熵。$D_i$是D中特征A取第i个值的样本子集，$C_k$是D中属于第k类的样本的子集。$n$是特征A取值的个数，K是类的个数。\n",
    "\n",
    "（2）样本集合D对特征A的信息增益比（C4.5）\n",
    "$$g_R(D,A)=\\frac{g(D,A)}{H(D)}$$\n",
    "其中，$g(D,A)$是信息增益，$H(D)$是数据集D的熵。\n",
    "\n",
    "（3）样本集合D的基尼指数（CART）\n",
    "$$Gini(D)=1-\\sum_{k=1}^{K}{(\\frac{|C_k|}{|D|})^2}$$\n",
    "特征A条件下集合D的基尼指数：\n",
    "$$Gini(D,A)=\\frac{|D_1|}{|D|}Gini(|D_1|)+\\frac{|D_2|}{|D|}Gini(D_2)$$\n",
    "\n",
    "4. 决策树的生成。通常使用信息增益最大、信息增益比最大或基尼指数最小作为特征选择的准则。决策树的生成往往通过计算信息增益或者其他指标，从根节点开始，递归的产生决策树。这相当于用信息增益或其他准则不断地选取局部最优的特征，或将训练集分割为能够基本正确分类的子集。\n",
    "\n",
    "5. 决策树的剪枝。由于生产决策树存在过拟合问题，需要对它进行剪枝，以简化学到的决策树。决策树的剪枝，往往从已生产的树上剪掉一些叶节点或叶节点以上的子树，并将其父节点或跟节点作为新的叶节点，从而简化生成的决策树。"
   ]
  },
  {
   "cell_type": "code",
   "execution_count": 1,
   "metadata": {},
   "outputs": [
    {
     "name": "stderr",
     "output_type": "stream",
     "text": [
      "D:\\software\\anaconda\\lib\\site-packages\\numpy\\_distributor_init.py:32: UserWarning: loaded more than 1 DLL from .libs:\n",
      "D:\\software\\anaconda\\lib\\site-packages\\numpy\\.libs\\libopenblas.PYQHXLVVQ7VESDPUVUADXEVJOBGHJPAY.gfortran-win_amd64.dll\n",
      "D:\\software\\anaconda\\lib\\site-packages\\numpy\\.libs\\libopenblas.TXA6YQSD3GCQQC22GEQ54J2UDCXDXHWN.gfortran-win_amd64.dll\n",
      "  stacklevel=1)\n"
     ]
    }
   ],
   "source": [
    "import numpy as np\n",
    "import pandas as pd"
   ]
  },
  {
   "cell_type": "code",
   "execution_count": 2,
   "metadata": {},
   "outputs": [],
   "source": [
    "# 数据集\n",
    "# 样本数 x 特征数\n",
    "# 书上题目5.1\n",
    "def create_data():\n",
    "    datasets = [['青年', '否', '否', '一般', '否'],\n",
    "               ['青年', '否', '否', '好', '否'],\n",
    "               ['青年', '是', '否', '好', '是'],\n",
    "               ['青年', '是', '是', '一般', '是'],\n",
    "               ['青年', '否', '否', '一般', '否'],\n",
    "               ['中年', '否', '否', '一般', '否'],\n",
    "               ['中年', '否', '否', '好', '否'],\n",
    "               ['中年', '是', '是', '好', '是'],\n",
    "               ['中年', '否', '是', '非常好', '是'],\n",
    "               ['中年', '否', '是', '非常好', '是'],\n",
    "               ['老年', '否', '是', '非常好', '是'],\n",
    "               ['老年', '否', '是', '好', '是'],\n",
    "               ['老年', '是', '否', '好', '是'],\n",
    "               ['老年', '是', '否', '非常好', '是'],\n",
    "               ['老年', '否', '否', '一般', '否'],\n",
    "               ]\n",
    "    labels = [u'年龄', u'有工作', u'有自己的房子', u'信贷情况', u'类别']\n",
    "    # 返回数据集和每个维度的名称\n",
    "    return datasets, labels"
   ]
  },
  {
   "cell_type": "code",
   "execution_count": null,
   "metadata": {},
   "outputs": [],
   "source": []
  }
 ],
 "metadata": {
  "hide_input": false,
  "kernelspec": {
   "display_name": "Python 3",
   "language": "python",
   "name": "python3"
  },
  "language_info": {
   "codemirror_mode": {
    "name": "ipython",
    "version": 3
   },
   "file_extension": ".py",
   "mimetype": "text/x-python",
   "name": "python",
   "nbconvert_exporter": "python",
   "pygments_lexer": "ipython3",
   "version": "3.6.5"
  },
  "latex_envs": {
   "LaTeX_envs_menu_present": true,
   "autoclose": false,
   "autocomplete": true,
   "bibliofile": "biblio.bib",
   "cite_by": "apalike",
   "current_citInitial": 1,
   "eqLabelWithNumbers": true,
   "eqNumInitial": 1,
   "hotkeys": {
    "equation": "Ctrl-E",
    "itemize": "Ctrl-I"
   },
   "labels_anchors": false,
   "latex_user_defs": false,
   "report_style_numbering": false,
   "user_envs_cfg": false
  },
  "toc": {
   "base_numbering": 1,
   "nav_menu": {},
   "number_sections": true,
   "sideBar": true,
   "skip_h1_title": false,
   "title_cell": "Table of Contents",
   "title_sidebar": "Contents",
   "toc_cell": false,
   "toc_position": {},
   "toc_section_display": true,
   "toc_window_display": false
  }
 },
 "nbformat": 4,
 "nbformat_minor": 2
}
