{
 "metadata": {
  "language_info": {
   "codemirror_mode": {
    "name": "ipython",
    "version": 3
   },
   "file_extension": ".py",
   "mimetype": "text/x-python",
   "name": "python",
   "nbconvert_exporter": "python",
   "pygments_lexer": "ipython3",
   "version": 3
  },
  "orig_nbformat": 2
 },
 "nbformat": 4,
 "nbformat_minor": 2,
 "cells": [
  {
   "source": [
    "# BiLSTM&GRU\n",
    "\n",
    "## BiLSTM\n",
    "\n",
    "BILSTM是Bi-directional Long Short-Term Memory的缩写，是由前向LSTM与后向LSTM组合而成。LSTM能很好的解决长依赖问题，捕捉到历史信息。但是LSTM很难结合下文的信息来对当前的信息进行预测。因此BiLISTM就是在LSTM的基础上加了一个后向的LSTM。"
   ],
   "cell_type": "markdown",
   "metadata": {}
  },
  {
   "source": [
    "![](./BiLSTM-1.png)\n",
    "\n",
    "![](./BiLSTM-2.png)"
   ],
   "cell_type": "markdown",
   "metadata": {}
  },
  {
   "source": [
    "## GRU\n",
    "\n",
    "- GRU是LSTM网络的一种效果很好的变体，它较LSTM网络的结构更加简单，而且效果也很好。\n",
    "- LSTM中有三个门：输入门、遗忘门和输出门。而在GRU模型中只有两个门：**更新门**和**重置门**。\n",
    "\n",
    "![](./GRU.png)\n",
    "\n",
    "- $z_t$和$r_t$分别表示更新门和重置门。\n",
    "- 更新门用于控制前一时刻状态信息被带入到当前状态中的程度，更新门的值越大说明前一时刻的状态信息带入越多。\n",
    "- 重置门控制前一状态有多少信息被写入到当前的候选集$\\hat{h}_t$，重置门越小，前一状态的信息被写入的越少。\n",
    "\n",
    "![](./GRU-2.png)"
   ],
   "cell_type": "markdown",
   "metadata": {}
  },
  {
   "source": [],
   "cell_type": "markdown",
   "metadata": {}
  },
  {
   "source": [],
   "cell_type": "markdown",
   "metadata": {}
  },
  {
   "source": [],
   "cell_type": "markdown",
   "metadata": {}
  },
  {
   "source": [],
   "cell_type": "markdown",
   "metadata": {}
  },
  {
   "source": [],
   "cell_type": "markdown",
   "metadata": {}
  },
  {
   "cell_type": "code",
   "execution_count": null,
   "metadata": {},
   "outputs": [],
   "source": []
  }
 ]
}