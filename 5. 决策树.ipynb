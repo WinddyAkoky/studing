{
 "cells": [
  {
   "cell_type": "markdown",
   "metadata": {},
   "source": [
    "# 第五章 决策树"
   ]
  },
  {
   "cell_type": "markdown",
   "metadata": {},
   "source": [
    "1. 什么是决策树？\n",
    "2. 决策树算法包括哪些？\n",
    "3. 如何进行特征选择？\n",
    "4. 信息增益比是什么？相比于信息增益有什么好处？"
   ]
  },
  {
   "source": [
    "## 1. 概念"
   ],
   "cell_type": "markdown",
   "metadata": {}
  },
  {
   "source": [
    "1. 分类决策树模型是表示基于特征对实例进行分类的树形结构。决策树可以转换成if-then规则的集合。也可以看做是定义在特征空间划分上的类的条件概率分布。\n",
    "2. 决策树学习旨在构建一个与训练数据拟合很好，并且复杂度小的决策树。因为从可能的决策树中直接选取最优决策树是个NP完全问题。现实中采用启发式方法学习次优的决策树。\n",
    "决策树学习算法包括3部分：特征选择、树的生成和树的剪枝。常用的算法有ID3、C4.5、CART。\n",
    "3. 特征选择的目的在于选取对训练数据能够分类的特征。特征选择的关键是准则。\n",
    "\n",
    "4. 决策树的生成。通常使用信息增益最大、信息增益比最大或基尼指数最小作为特征选择的准则。决策树的生成往往通过计算信息增益或者其他指标，从根节点开始，递归的产生决策树。这相当于用信息增益或其他准则不断地选取局部最优的特征，或将训练集分割为能够基本正确分类的子集。\n",
    "\n",
    "5. 决策树的剪枝。由于生产决策树存在过拟合问题，需要对它进行剪枝，以简化学到的决策树。决策树的剪枝，往往从已生产的树上剪掉一些叶节点或叶节点以上的子树，并将其父节点或跟节点作为新的叶节点，从而简化生成的决策树。"
   ],
   "cell_type": "markdown",
   "metadata": {}
  },
  {
   "source": [
    "## 2. ID3算法"
   ],
   "cell_type": "markdown",
   "metadata": {}
  },
  {
   "source": [
    "**信息增益：信息不确定性的减少程度**\n",
    "\n",
    "样本集合D对特征A的信息增益（ID3）\n",
    "\n",
    "$$g(D,A)=H(D) - H(D|A)$$\n",
    "$$H(D) = -\\sum_{k=1}^K{\\frac{|C_k|}{|D|}log_2 \\frac{|C_k|}{|D|}}$$\n",
    "$$H(D|A) = \\sum_{i=1}^{n}{\\frac{|D_i|}{|D|}H(D_i)}$$\n",
    "\n",
    "其中H(D)是数据集$D$的熵，$H(D_i)$是数据集$D_i$的熵，$H(D|A)$是数据集D对特征$A$的条件熵。$D_i$是$D$中特征$A$取第i个值的样本子集，$C_k$是$D$中属于第k类的样本的子集。$n$是特征$A$取值的个数，$K$是类的个数。\n",
    "\n",
    "优点：\n",
    "- 决策树构建速度快；实现简单\n",
    "\n",
    "缺点：\n",
    "- 不能处理缺失值\n",
    "- 不能处理连续型特征\n",
    "- 采用信息增益作为选择最优划分特征的标准，会偏向那些取值比较多的特征\n"
   ],
   "cell_type": "markdown",
   "metadata": {}
  },
  {
   "source": [
    "## 3. C4.5算法"
   ],
   "cell_type": "markdown",
   "metadata": {}
  },
  {
   "source": [
    "样本集合D对特征A的信息增益比（C4.5）\n",
    "\n",
    "$$g_R(D,A)=\\frac{g(D,A)}{H(D)}$$\n",
    "其中，$g(D,A)$是信息增益，$H(D)$是数据集D的熵。\n",
    "\n",
    "- 改用信息增益率来选择划分特征，克服了用信息增益选择的不足，但信息增益率对可选取值数目较少的属性有所偏好。\n",
    "- 能够处理离散型和连续型的属性类型。（连续型的属性进行离散化处理）\n",
    "- 能够处理具有缺失属性值的训练数据。\n",
    "\n",
    "\n",
    "### 对连续特征的处理\n",
    "\n",
    "**对数据进行离散化：**\n",
    "\n",
    "1. m个样本的连续特征A有m个值，从小到大排列 $a_1,a_2,...,a_m$，取相邻两个样本值的平均值做划分点，一共有m-1个，其中第i个划分点$T_i$表示为：$T_i=(a_i+a_{i+1})/2$\n",
    "2. 分别计算以这$m-1$个点作为二元切分点时的信息增益率，选择信息增益率最大的点为该连续特征的最佳切分点。比如取到的信息增益率最大的点为$a_t$，则小于$a_t$的值类别为1，大于$a_t$的类别为2，这样就做到了连续特征的离散化。\n",
    "\n",
    "### 对缺失值的处理\n",
    "\n",
    "采用概率权重的方法，主要有三种情况：\n",
    "\n",
    "1. 在有缺失值的特征上如何计算信息增益率？\n",
    "\n",
    "**根据缺失比例，折算信息增益（无缺失值样本所占的比例乘以无缺失值样本子集的信息增益）和信息增益率**\n",
    "\n",
    "2. 选定了划分属性后，若样本在该属性上的值是缺失的，那么如何对这个样本进行划分？\n",
    "\n",
    "**将样本以不同概率同时划分到不同节点中，概率是根据其他非缺失属性的比例来得到的**\n",
    "\n",
    "3. 对新样本进行分类时，如果测试样本特征有缺失值如何判断其类别？\n",
    "\n",
    "**走所有分支，计算每个类别的概率，取概率最大的类别赋值给该样本**\n",
    "\n",
    "\n",
    "### 剪枝\n",
    "\n",
    "为什么要剪枝？ 减少过拟合。\n",
    "\n",
    "剪枝分为前剪枝和后剪枝，前剪枝是指在构造的过程中就知道哪些节点可以剪掉。后剪枝是指构造出完整的决策树之后再来考虑哪些子树可以剪掉。\n",
    "\n",
    "前剪枝：\n",
    "\n",
    "- 节点内的数据样本数小于切分最小样本数阈值；\n",
    "- 所有节点特征都已分裂\n",
    "- 节点划分前准确率比划分后准确率高\n",
    "\n",
    "后剪枝：\n",
    "\n",
    "C4.5算法采用悲观剪枝方法。根据剪枝前后的误判率来判定是否进行子树的修剪， 如果剪枝后与剪枝前相比其误判率是保持或者下降，则这棵子树就可以被替换为一个叶子节点。 因此，不需要单独的剪枝数据集。C4.5 通过训练数据集上的错误分类数量来估算未知样本上的错误率。\n"
   ],
   "cell_type": "markdown",
   "metadata": {}
  },
  {
   "source": [
    "## 4. CART树-分类树"
   ],
   "cell_type": "markdown",
   "metadata": {}
  },
  {
   "cell_type": "markdown",
   "metadata": {},
   "source": [
    "ID3和C4.5算法，生成的决策树是多叉树，只能处理分类不能处理回归。而CART(classification and regression tree)分类回归树算法，即可用于分类也可用于回归。分类树的输出是样本的类别，回归树的输出是一个实数。\n",
    "\n",
    "\n",
    "样本集合D的基尼指数（CART）\n",
    "\n",
    "$$Gini(D)=1-\\sum_{k=1}^{K}{(\\frac{|C_k|}{|D|})^2}$$\n",
    "\n",
    "特征A条件下集合D的基尼指数：\n",
    "$$Gini(D,A)=\\frac{|D_1|}{|D|}Gini(|D_1|)+\\frac{|D_2|}{|D|}Gini(D_2)$$\n",
    "\n",
    "**Gini(D)越小，则数据集D的纯度越高**\n",
    "\n",
    "分类过程：对于样本D，个数为$|D|$，根据特征A是否取某一可能值a，把样本D分成两部分$D_1$和$D_2$，所以CART分类树算法建立起来的是二叉树，而不是多叉树。\n",
    "\n",
    "在ID3和C4.5算法中，每一个特征只参与一次划分。而在CART中，特征被划分一次后，还能接着往下被划分。\n"
   ]
  },
  {
   "source": [
    "## 5 CART树-回归树"
   ],
   "cell_type": "markdown",
   "metadata": {}
  },
  {
   "source": [
    "**采用误差平方和来度量划分好坏**\n",
    "\n",
    "建立CART回归树的步骤：\n",
    "\n",
    "1. 计算各个特征各个值划分的两部分$D_1$和$D_2$的误差平方和，选择误差平方和最小的作为最优特征和最优切分点：\n",
    "\n",
    "$$\\min_{A,a}[\\min_{c_1} \\sum_{x_i \\in D_1 (A,a)}{(y_i-c_1)^2} + \\min_{c_2} \\sum_{x_i\\in D_2(A,a)}{(y_i-c_2)^2}]$$\n",
    "\n",
    "其中，$c_1$是$D_1$的样本输出均值，$c_2$为$D_2$的样本输出均值。\n",
    "\n",
    "2. 根据最优特征A和最优特征切分点a，将本节点的数据集划分两部分$D_1$和$D_2$，并给出相应的输出值。\n",
    "\n",
    "$$D_1(A,a)=(x,y) \\in D|A(x) <= a$$\n",
    "$$D_2(A,a)=(x,y) \\in D|A(x) > a$$\n",
    "$$c_1 = mean(y_i|x_i \\in D_1(A,a))$$\n",
    "$$c_2 = mean(y_i|x_i \\in D_2(A,a))$$\n",
    "\n",
    "3. 继续对两个子集调用1-2步骤，直到满足停止条件。\n",
    "\n",
    "4. 生成回归树\n",
    "\n",
    "决策树：\n",
    "$$f(x)=\\sum_{m=1}^M \\hat{c_m} I$$\n",
    "$$\\hat{c_m}=\\frac{1}{N_m}\\sum_{x_i\\in D_m}y_i$$"
   ],
   "cell_type": "markdown",
   "metadata": {}
  },
  {
   "source": [
    "# ID3代码"
   ],
   "cell_type": "markdown",
   "metadata": {}
  },
  {
   "cell_type": "code",
   "execution_count": 1,
   "metadata": {},
   "outputs": [
    {
     "name": "stderr",
     "output_type": "stream",
     "text": [
      "D:\\software\\anaconda\\lib\\site-packages\\numpy\\_distributor_init.py:32: UserWarning: loaded more than 1 DLL from .libs:\n",
      "D:\\software\\anaconda\\lib\\site-packages\\numpy\\.libs\\libopenblas.PYQHXLVVQ7VESDPUVUADXEVJOBGHJPAY.gfortran-win_amd64.dll\n",
      "D:\\software\\anaconda\\lib\\site-packages\\numpy\\.libs\\libopenblas.TXA6YQSD3GCQQC22GEQ54J2UDCXDXHWN.gfortran-win_amd64.dll\n",
      "  stacklevel=1)\n"
     ]
    }
   ],
   "source": [
    "import numpy as np\n",
    "import pandas as pd\n",
    "from math import log"
   ]
  },
  {
   "cell_type": "code",
   "execution_count": 2,
   "metadata": {},
   "outputs": [],
   "source": [
    "# 数据集\n",
    "# 样本数 x 特征数\n",
    "# 书上题目5.1\n",
    "def create_data():\n",
    "    datasets = [['青年', '否', '否', '一般', '否'],\n",
    "               ['青年', '否', '否', '好', '否'],\n",
    "               ['青年', '是', '否', '好', '是'],\n",
    "               ['青年', '是', '是', '一般', '是'],\n",
    "               ['青年', '否', '否', '一般', '否'],\n",
    "               ['中年', '否', '否', '一般', '否'],\n",
    "               ['中年', '否', '否', '好', '否'],\n",
    "               ['中年', '是', '是', '好', '是'],\n",
    "               ['中年', '否', '是', '非常好', '是'],\n",
    "               ['中年', '否', '是', '非常好', '是'],\n",
    "               ['老年', '否', '是', '非常好', '是'],\n",
    "               ['老年', '否', '是', '好', '是'],\n",
    "               ['老年', '是', '否', '好', '是'],\n",
    "               ['老年', '是', '否', '非常好', '是'],\n",
    "               ['老年', '否', '否', '一般', '否'],\n",
    "               ]\n",
    "    labels = [u'年龄', u'有工作', u'有自己的房子', u'信贷情况', u'类别']\n",
    "    # 返回数据集和每个维度的名称\n",
    "    return datasets, labels"
   ]
  },
  {
   "cell_type": "code",
   "execution_count": 3,
   "metadata": {},
   "outputs": [],
   "source": [
    "datasets, labels = create_data()"
   ]
  },
  {
   "cell_type": "code",
   "execution_count": 4,
   "metadata": {},
   "outputs": [],
   "source": [
    "train_data = pd.DataFrame(datasets, columns=labels)"
   ]
  },
  {
   "cell_type": "code",
   "execution_count": 5,
   "metadata": {},
   "outputs": [
    {
     "data": {
      "text/html": [
       "<div>\n",
       "<style scoped>\n",
       "    .dataframe tbody tr th:only-of-type {\n",
       "        vertical-align: middle;\n",
       "    }\n",
       "\n",
       "    .dataframe tbody tr th {\n",
       "        vertical-align: top;\n",
       "    }\n",
       "\n",
       "    .dataframe thead th {\n",
       "        text-align: right;\n",
       "    }\n",
       "</style>\n",
       "<table border=\"1\" class=\"dataframe\">\n",
       "  <thead>\n",
       "    <tr style=\"text-align: right;\">\n",
       "      <th></th>\n",
       "      <th>年龄</th>\n",
       "      <th>有工作</th>\n",
       "      <th>有自己的房子</th>\n",
       "      <th>信贷情况</th>\n",
       "      <th>类别</th>\n",
       "    </tr>\n",
       "  </thead>\n",
       "  <tbody>\n",
       "    <tr>\n",
       "      <th>0</th>\n",
       "      <td>青年</td>\n",
       "      <td>否</td>\n",
       "      <td>否</td>\n",
       "      <td>一般</td>\n",
       "      <td>否</td>\n",
       "    </tr>\n",
       "    <tr>\n",
       "      <th>1</th>\n",
       "      <td>青年</td>\n",
       "      <td>否</td>\n",
       "      <td>否</td>\n",
       "      <td>好</td>\n",
       "      <td>否</td>\n",
       "    </tr>\n",
       "    <tr>\n",
       "      <th>2</th>\n",
       "      <td>青年</td>\n",
       "      <td>是</td>\n",
       "      <td>否</td>\n",
       "      <td>好</td>\n",
       "      <td>是</td>\n",
       "    </tr>\n",
       "    <tr>\n",
       "      <th>3</th>\n",
       "      <td>青年</td>\n",
       "      <td>是</td>\n",
       "      <td>是</td>\n",
       "      <td>一般</td>\n",
       "      <td>是</td>\n",
       "    </tr>\n",
       "    <tr>\n",
       "      <th>4</th>\n",
       "      <td>青年</td>\n",
       "      <td>否</td>\n",
       "      <td>否</td>\n",
       "      <td>一般</td>\n",
       "      <td>否</td>\n",
       "    </tr>\n",
       "    <tr>\n",
       "      <th>5</th>\n",
       "      <td>中年</td>\n",
       "      <td>否</td>\n",
       "      <td>否</td>\n",
       "      <td>一般</td>\n",
       "      <td>否</td>\n",
       "    </tr>\n",
       "    <tr>\n",
       "      <th>6</th>\n",
       "      <td>中年</td>\n",
       "      <td>否</td>\n",
       "      <td>否</td>\n",
       "      <td>好</td>\n",
       "      <td>否</td>\n",
       "    </tr>\n",
       "    <tr>\n",
       "      <th>7</th>\n",
       "      <td>中年</td>\n",
       "      <td>是</td>\n",
       "      <td>是</td>\n",
       "      <td>好</td>\n",
       "      <td>是</td>\n",
       "    </tr>\n",
       "    <tr>\n",
       "      <th>8</th>\n",
       "      <td>中年</td>\n",
       "      <td>否</td>\n",
       "      <td>是</td>\n",
       "      <td>非常好</td>\n",
       "      <td>是</td>\n",
       "    </tr>\n",
       "    <tr>\n",
       "      <th>9</th>\n",
       "      <td>中年</td>\n",
       "      <td>否</td>\n",
       "      <td>是</td>\n",
       "      <td>非常好</td>\n",
       "      <td>是</td>\n",
       "    </tr>\n",
       "    <tr>\n",
       "      <th>10</th>\n",
       "      <td>老年</td>\n",
       "      <td>否</td>\n",
       "      <td>是</td>\n",
       "      <td>非常好</td>\n",
       "      <td>是</td>\n",
       "    </tr>\n",
       "    <tr>\n",
       "      <th>11</th>\n",
       "      <td>老年</td>\n",
       "      <td>否</td>\n",
       "      <td>是</td>\n",
       "      <td>好</td>\n",
       "      <td>是</td>\n",
       "    </tr>\n",
       "    <tr>\n",
       "      <th>12</th>\n",
       "      <td>老年</td>\n",
       "      <td>是</td>\n",
       "      <td>否</td>\n",
       "      <td>好</td>\n",
       "      <td>是</td>\n",
       "    </tr>\n",
       "    <tr>\n",
       "      <th>13</th>\n",
       "      <td>老年</td>\n",
       "      <td>是</td>\n",
       "      <td>否</td>\n",
       "      <td>非常好</td>\n",
       "      <td>是</td>\n",
       "    </tr>\n",
       "    <tr>\n",
       "      <th>14</th>\n",
       "      <td>老年</td>\n",
       "      <td>否</td>\n",
       "      <td>否</td>\n",
       "      <td>一般</td>\n",
       "      <td>否</td>\n",
       "    </tr>\n",
       "  </tbody>\n",
       "</table>\n",
       "</div>"
      ],
      "text/plain": [
       "    年龄 有工作 有自己的房子 信贷情况 类别\n",
       "0   青年   否      否   一般  否\n",
       "1   青年   否      否    好  否\n",
       "2   青年   是      否    好  是\n",
       "3   青年   是      是   一般  是\n",
       "4   青年   否      否   一般  否\n",
       "5   中年   否      否   一般  否\n",
       "6   中年   否      否    好  否\n",
       "7   中年   是      是    好  是\n",
       "8   中年   否      是  非常好  是\n",
       "9   中年   否      是  非常好  是\n",
       "10  老年   否      是  非常好  是\n",
       "11  老年   否      是    好  是\n",
       "12  老年   是      否    好  是\n",
       "13  老年   是      否  非常好  是\n",
       "14  老年   否      否   一般  否"
      ]
     },
     "execution_count": 5,
     "metadata": {},
     "output_type": "execute_result"
    }
   ],
   "source": [
    "train_data"
   ]
  },
  {
   "cell_type": "code",
   "execution_count": 6,
   "metadata": {},
   "outputs": [],
   "source": [
    "# 计算熵\n",
    "def calc_ent(datasets):\n",
    "    catogeries = pd.unique(datasets[datasets.columns[-1]])\n",
    "    ans = 0\n",
    "    for x in catogeries:\n",
    "        tmp = sum(datasets[datasets.columns[-1]]==x)/len(datasets)\n",
    "        ans += -tmp*np.log(tmp)\n",
    "    return ans"
   ]
  },
  {
   "cell_type": "code",
   "execution_count": 7,
   "metadata": {},
   "outputs": [
    {
     "data": {
      "text/plain": [
       "0.6730116670092565"
      ]
     },
     "execution_count": 7,
     "metadata": {},
     "output_type": "execute_result"
    }
   ],
   "source": [
    "calc_ent(train_data)"
   ]
  },
  {
   "cell_type": "code",
   "execution_count": 8,
   "metadata": {},
   "outputs": [],
   "source": [
    "# 经验条件熵\n",
    "def cond_ent(datasets, axis=0):\n",
    "    features = datasets.columns\n",
    "    sel_feature = features[axis]\n",
    "    sel_feature_vals = pd.unique(datasets[sel_feature])\n",
    "    ans = 0\n",
    "    for x in sel_feature_vals:\n",
    "        t_dataset = datasets[datasets[sel_feature]==x]\n",
    "        ans += len(t_dataset)/len(datasets) * calc_ent(t_dataset)\n",
    "    return ans"
   ]
  },
  {
   "cell_type": "code",
   "execution_count": 9,
   "metadata": {
    "scrolled": true
   },
   "outputs": [
    {
     "data": {
      "text/plain": [
       "0.6154752525189002"
      ]
     },
     "execution_count": 9,
     "metadata": {},
     "output_type": "execute_result"
    }
   ],
   "source": [
    "cond_ent(train_data, 0)"
   ]
  },
  {
   "cell_type": "code",
   "execution_count": 121,
   "metadata": {},
   "outputs": [],
   "source": [
    "# 信息增益\n",
    "def info_gain(ent, cond_ent):\n",
    "    return ent - cond_ent\n",
    "\n",
    "def info_gain_train(datasets):\n",
    "    count = len(datasets.columns) - 1\n",
    "    ent = calc_ent(datasets)\n",
    "    best_feature = []\n",
    "    for c in range(count):\n",
    "        c_info_gain = info_gain(ent, cond_ent(datasets, c))\n",
    "        best_feature.append((c, c_info_gain))\n",
    "        \n",
    "    return max(best_feature, key=lambda x: x[-1])"
   ]
  },
  {
   "cell_type": "code",
   "execution_count": 122,
   "metadata": {},
   "outputs": [],
   "source": [
    "# def calc_ent(datasets):\n",
    "#         data_length = len(datasets)\n",
    "#         label_count = {}\n",
    "#         for i in range(data_length):\n",
    "#             label = datasets[i][-1]\n",
    "#             if label not in label_count:\n",
    "#                 label_count[label] = 0\n",
    "#             label_count[label] += 1\n",
    "#         ent = -sum([(p / data_length) * log(p / data_length, 2)\n",
    "#                     for p in label_count.values()])\n",
    "#         return ent\n",
    "\n",
    "# # 经验条件熵\n",
    "# def cond_ent(datasets, axis=0):\n",
    "#     data_length = len(datasets)\n",
    "#     feature_sets = {}\n",
    "#     for i in range(data_length):\n",
    "#         feature = datasets[i][axis]\n",
    "#         if feature not in feature_sets:\n",
    "#             feature_sets[feature] = []\n",
    "#         feature_sets[feature].append(datasets[i])\n",
    "#     cond_ent = sum([(len(p) / data_length) * calc_ent(p)\n",
    "#                     for p in feature_sets.values()])\n",
    "#     return cond_ent\n",
    "\n",
    "# # 信息增益\n",
    "# def info_gain(ent, cond_ent):\n",
    "#     return ent - cond_ent\n",
    "\n",
    "# def info_gain_train(datasets):\n",
    "#     count = len(datasets[0]) - 1\n",
    "#     ent = calc_ent(datasets)\n",
    "#     best_feature = []\n",
    "#     for c in range(count):\n",
    "#         c_info_gain = info_gain(ent, cond_ent(datasets, axis=c))\n",
    "#         best_feature.append((c, c_info_gain))\n",
    "#     # 比较大小\n",
    "#     best_ = max(best_feature, key=lambda x: x[-1])\n",
    "#     return best_"
   ]
  },
  {
   "cell_type": "code",
   "execution_count": 123,
   "metadata": {},
   "outputs": [],
   "source": [
    "class Node:\n",
    "    def __init__(self, root=True, label=None, feature_name=None, feature=None):\n",
    "        self.root = root\n",
    "        self.label = label\n",
    "        self.feature_name = feature_name\n",
    "        self.feature = feature\n",
    "        self.tree = {}\n",
    "        self.result = {\n",
    "            'label': self.label,\n",
    "            'feature': self.feature,\n",
    "            'tree': self.tree\n",
    "        }\n",
    "        \n",
    "    def __repr__(self):\n",
    "        return '{}'.format(self.result)\n",
    "    \n",
    "    def add_node(self, val, node):\n",
    "        self.tree[val] = node\n",
    "    \n",
    "    def predict(self, features):\n",
    "        if self.root is True:\n",
    "            return self.label\n",
    "        return self.tree[features[self.feature]].predict(features)\n",
    "\n",
    "# class Node:\n",
    "#     def __init__(self, root=True, label=None, feature_name=None, feature=None):\n",
    "#         self.root = root\n",
    "#         self.label = label\n",
    "#         self.feature_name = feature_name\n",
    "#         self.feature = feature\n",
    "#         self.tree = {}\n",
    "#         self.result = {\n",
    "#             'label:': self.label,\n",
    "#             'feature': self.feature,\n",
    "#             'tree': self.tree\n",
    "#         }\n",
    "\n",
    "#     def __repr__(self):\n",
    "#         return '{}'.format(self.result)\n",
    "\n",
    "#     def add_node(self, val, node):\n",
    "#         self.tree[val] = node\n",
    "\n",
    "#     def predict(self, features):\n",
    "#         if self.root is True:\n",
    "#             return self.label\n",
    "#         return self.tree[features[self.feature]].predict(features)"
   ]
  },
  {
   "cell_type": "code",
   "execution_count": 128,
   "metadata": {},
   "outputs": [],
   "source": [
    "def train(train_data):\n",
    "    y_train = train_data.iloc[:, -1]\n",
    "    features = train_data.columns[:-1]\n",
    "    \n",
    "    # 1. 仅剩一个类\n",
    "    if len(y_train.value_counts())==1:\n",
    "        return Node(root=True, label=y_train.iloc[0])\n",
    "    # 2. 已无特征可以挑选\n",
    "    if len(features) == 0:\n",
    "        return Node(root=True, label=y_train.value_counts().sort_values(ascending=False).index[0])\n",
    "    \n",
    "    # 3. 计算最大信息增益\n",
    "    max_feature, max_info_gain = info_gain_train(train_data)\n",
    "    max_feature_name = features[max_feature]\n",
    "    \n",
    "    # 4. \n",
    "    if max_info_gain < 0.1:\n",
    "        return Node(root=True, label=y_train.value_counts().sort_values(ascending=False).index[0])\n",
    "    \n",
    "    # 5. 构建 ag 子集\n",
    "    node_tree = Node(root=False, feature_name=max_feature_name, feature=max_feature)\n",
    "    feature_list = train_data[max_feature_name].value_counts().index\n",
    "    for f in feature_list:\n",
    "        sub_train_df = train_data.loc[train_data[max_feature_name]==f].drop([max_feature_name], axis=1)\n",
    "     \n",
    "    # 6. 递归生成树\n",
    "        sub_tree = train(sub_train_df)\n",
    "        node_tree.add_node(f, sub_tree)\n",
    "    \n",
    "    return node_tree\n",
    "\n",
    "# def train(train_data):\n",
    "#     \"\"\"\n",
    "#     input:数据集D(DataFrame格式)，特征集A，阈值eta\n",
    "#     output:决策树T\n",
    "#     \"\"\"\n",
    "# #     _, y_train, features = train_data.iloc[:, :-1], train_data.iloc[:,-1], train_data.columns[:-1]\n",
    "#     y_train = train_data.iloc[:, -1]\n",
    "#     features = train_data.columns[:-1]\n",
    "# #     # 1,若D中实例属于同一类Ck，则T为单节点树，并将类Ck作为结点的类标记，返回T\n",
    "# #     if len(y_train.value_counts()) == 1:\n",
    "# #         return Node(root=True, label=y_train.iloc[0])\n",
    "\n",
    "# #     # 2, 若A为空，则T为单节点树，将D中实例树最大的类Ck作为该节点的类标记，返回T\n",
    "# #     if len(features) == 0:\n",
    "# #         return Node(\n",
    "# #             root=True,\n",
    "# #             label=y_train.value_counts().sort_values(\n",
    "# #                 ascending=False).index[0])\n",
    "# # 1. 仅剩一个类\n",
    "#     if len(y_train.value_counts())==1:\n",
    "#         return Node(root=True, label=y_train.iloc[0])\n",
    "#     # 2. 已无特征可以挑选\n",
    "#     if len(features) == 0:\n",
    "#         return Node(root=True, label=y_train.value_counts().sort_values(ascending=False).index[0])\n",
    "\n",
    "#     # 3,计算最大信息增益 同5.1,Ag为信息增益最大的特征\n",
    "# #     max_feature, max_info_gain = info_gain_train(np.array(train_data))\n",
    "# #     max_feature_name = features[max_feature]\n",
    "# # 3. 计算最大信息增益\n",
    "#     max_feature, max_info_gain = info_gain_train(np.array(train_data))\n",
    "#     max_feature_name = features[max_feature]\n",
    "\n",
    "#     # 4,Ag的信息增益小于阈值eta,则置T为单节点树，并将D中是实例数最大的类Ck作为该节点的类标记，返回T\n",
    "# #     if max_info_gain < 0.1:\n",
    "# #         return Node(\n",
    "# #             root=True,\n",
    "# #             label=y_train.value_counts().sort_values(\n",
    "# #                 ascending=False).index[0])\n",
    "#     if max_info_gain < 0.1:\n",
    "#         return Node(root=True, label=y_train.value_counts().sort_values(ascending=False).index[0])\n",
    "\n",
    "# #     # 5,构建Ag子集\n",
    "# #     node_tree = Node(\n",
    "# #         root=False, feature_name=max_feature_name, feature=max_feature)\n",
    "\n",
    "# #     feature_list = train_data[max_feature_name].value_counts().index\n",
    "# #     for f in feature_list:\n",
    "# #         sub_train_df = train_data.loc[train_data[max_feature_name] ==\n",
    "# #                                       f].drop([max_feature_name], axis=1)\n",
    "#     node_tree = Node(root=False, feature_name=max_feature_name, feature=max_feature)\n",
    "#     feature_list = train_data[max_feature_name].value_counts().index\n",
    "#     for f in feature_list:\n",
    "#         sub_train_df = train_data.loc[train_data[max_feature_name]==f].drop([max_feature_name], axis=1)\n",
    "     \n",
    "\n",
    "#         # 6, 递归生成树\n",
    "#         sub_tree = train(sub_train_df)\n",
    "#         node_tree.add_node(f, sub_tree)\n",
    "# #         sub_tree = train(sub_train_df)\n",
    "# #     node_tree.add_node(f, sub_tree)\n",
    "\n",
    "#     # pprint.pprint(node_tree.tree)\n",
    "#     return node_tree"
   ]
  },
  {
   "cell_type": "code",
   "execution_count": 129,
   "metadata": {},
   "outputs": [],
   "source": [
    "def fit(train_data):\n",
    "    return train(train_data)"
   ]
  },
  {
   "cell_type": "code",
   "execution_count": 130,
   "metadata": {},
   "outputs": [],
   "source": [
    "tree = fit(train_data)"
   ]
  },
  {
   "cell_type": "code",
   "execution_count": 131,
   "metadata": {},
   "outputs": [
    {
     "data": {
      "text/plain": [
       "{'label': None, 'feature': 1, 'tree': {'否': {'label': None, 'feature': 1, 'tree': {'否': {'label': '否', 'feature': None, 'tree': {}}, '是': {'label': '是', 'feature': None, 'tree': {}}}}, '是': {'label': '是', 'feature': None, 'tree': {}}}}"
      ]
     },
     "execution_count": 131,
     "metadata": {},
     "output_type": "execute_result"
    }
   ],
   "source": [
    "tree"
   ]
  },
  {
   "cell_type": "code",
   "execution_count": 132,
   "metadata": {},
   "outputs": [
    {
     "data": {
      "text/plain": [
       "'否'"
      ]
     },
     "execution_count": 132,
     "metadata": {},
     "output_type": "execute_result"
    }
   ],
   "source": [
    "tree.predict(['老年', '否', '否', '一般'])"
   ]
  },
  {
   "source": [
    "# C4.5 代码"
   ],
   "cell_type": "markdown",
   "metadata": {}
  },
  {
   "cell_type": "code",
   "execution_count": 1,
   "metadata": {},
   "outputs": [
    {
     "output_type": "stream",
     "name": "stderr",
     "text": [
      "D:\\software\\anaconda\\lib\\site-packages\\numpy\\_distributor_init.py:32: UserWarning: loaded more than 1 DLL from .libs:\nD:\\software\\anaconda\\lib\\site-packages\\numpy\\.libs\\libopenblas.PYQHXLVVQ7VESDPUVUADXEVJOBGHJPAY.gfortran-win_amd64.dll\nD:\\software\\anaconda\\lib\\site-packages\\numpy\\.libs\\libopenblas.TXA6YQSD3GCQQC22GEQ54J2UDCXDXHWN.gfortran-win_amd64.dll\n  stacklevel=1)\n"
     ]
    }
   ],
   "source": [
    "from math import log\n",
    "import operator\n",
    "import numpy as np\n",
    "\n",
    "def createDataSet():\n",
    "    \"\"\"构建数据集\"\"\"\n",
    "    dataSet = [['是', '单身', 125, '否'],\n",
    "               ['否', '已婚', 100, '否'],\n",
    "               ['否', '单身', 70, '否'],\n",
    "               ['是', '已婚', 120, '否'],\n",
    "               ['否', '离异', 95, '是'],\n",
    "               ['否', '已婚', 60, '否'],\n",
    "               ['是', '离异', 220, '否'],\n",
    "               ['否', '单身', 85, '是'],\n",
    "               ['否', '已婚', 75, '否'],\n",
    "               ['否', '单身', 90, '是']]\n",
    "    labels = ['是否有房', '婚姻状况', '年收入(k)']  # 三个特征\n",
    "    return dataSet, labels\n",
    "\n",
    "def calcShannonEnt(dataSet):\n",
    "    \"\"\"\n",
    "    计算给定数据集的香农熵\n",
    "    :param dataSet:给定的数据集\n",
    "    :return:返回香农熵\n",
    "    \"\"\"\n",
    "    numEntries = len(dataSet)\n",
    "    labelCounts ={}\n",
    "    for featVec in dataSet:\n",
    "        currentLabel = featVec[-1]\n",
    "        if currentLabel not in labelCounts.keys():\n",
    "            labelCounts[currentLabel] =0\n",
    "        labelCounts[currentLabel] += 1\n",
    "    shannonEnt = 0.0\n",
    "    for label in labelCounts.keys():\n",
    "        prob = float(labelCounts[label])/numEntries\n",
    "        shannonEnt -= prob*log(prob,2)\n",
    "    return shannonEnt\n",
    "\n",
    "def majorityCnt(classList):\n",
    "    \"\"\"获取出现次数最好的分类名称\"\"\"\n",
    "    classCount = {}\n",
    "    classList= np.mat(classList).flatten().A.tolist()[0]  # 数据为[['否'], ['是'], ['是']], 转换后为['否', '是', '是']\n",
    "    for vote in classList:\n",
    "        if vote not in classCount.keys():\n",
    "            classCount[vote] = 0\n",
    "        classCount[vote] += 1\n",
    "    sortedClassCount = sorted(classCount.items(),key=operator.itemgetter(1),reverse=True)\n",
    "    return sortedClassCount[0][0]\n",
    "\n",
    "def splitDataSet(dataSet,axis,value):\n",
    "    \"\"\"对离散型特征划分数据集\"\"\"\n",
    "    retDataSet = []  # 创建新的list对象，作为返回的数据\n",
    "    for featVec in dataSet:\n",
    "        if featVec[axis] == value:\n",
    "            reducedFeatVec = featVec[:axis]\n",
    "            reducedFeatVec.extend(featVec[axis+1:])  # 抽取\n",
    "            retDataSet.append(reducedFeatVec)\n",
    "    return retDataSet\n",
    "\n",
    "\n",
    "def splitContinuousDataSet(dataSet, axis, value, direction):\n",
    "    \"\"\"对连续型特征划分数据集\"\"\"\n",
    "    subDataSet = []\n",
    "    for featVec in dataSet:\n",
    "        if direction == 0:\n",
    "            if featVec[axis] > value:  # 按照大于(>)该值进行划分\n",
    "                reduceData = featVec[:axis]\n",
    "                reduceData.extend(featVec[axis + 1:])\n",
    "                subDataSet.append(reduceData)\n",
    "        if direction == 1:\n",
    "            if featVec[axis] <= value:  # 按照小于等于(<=)该值进行划分\n",
    "                reduceData = featVec[:axis]\n",
    "                reduceData.extend(featVec[axis + 1:])\n",
    "                subDataSet.append(reduceData)\n",
    "    return subDataSet\n",
    "\n",
    "def chooseBestFeatureToSplit(dataSet, labels):\n",
    "    \"\"\"选择最好的数据集划分方式\"\"\"\n",
    "    baseEntropy = calcShannonEnt(dataSet)\n",
    "    baseGainRatio = 0.0\n",
    "    bestFeature = -1\n",
    "    numFeatures = len(dataSet[0]) - 1\n",
    "    # 建立一个字典，用来存储每一个连续型特征所对应最佳切分点的具体值\n",
    "    bestSplitDic = {}\n",
    "    # print('dataSet[0]:' + str(dataSet[0]))\n",
    "    for i in range(numFeatures):\n",
    "        # 获取第i个特征的特征值\n",
    "        featVals = [example[i] for example in dataSet]\n",
    "        # 如果该特征时连续型数据\n",
    "        if type(featVals[0]).__name__ == 'float' or type(\n",
    "                featVals[0]).__name__ == 'int':\n",
    "            # 将该特征的所有值按从小到大顺序排序\n",
    "            sortedFeatVals = sorted(featVals)\n",
    "            # 取相邻两样本值的平均数做划分点，共有 len(featVals)-1 个\n",
    "            splitList = []\n",
    "            for j in range(len(featVals) - 1):\n",
    "                splitList.append(\n",
    "                    (sortedFeatVals[j] + sortedFeatVals[j + 1]) / 2.0)\n",
    "            # 遍历每一个切分点\n",
    "            for j in range(len(splitList)):\n",
    "                # 计算该划分方式的条件信息熵newEntropy\n",
    "                newEntropy = 0.0\n",
    "                value = splitList[j]\n",
    "                # 将数据集划分为两个子集\n",
    "                greaterSubDataSet = splitContinuousDataSet(dataSet, i, value, 0)\n",
    "                smallSubDataSet = splitContinuousDataSet(dataSet, i, value, 1)\n",
    "                prob0 = len(greaterSubDataSet) / float(len(dataSet))\n",
    "                newEntropy += prob0 * calcShannonEnt(greaterSubDataSet)\n",
    "                prob1 = len(smallSubDataSet) / float(len(dataSet))\n",
    "                newEntropy += prob1 * calcShannonEnt(smallSubDataSet)\n",
    "                # 计算该划分方式的分裂信息\n",
    "                splitInfo = 0.0\n",
    "                splitInfo -= prob0 * log(prob0, 2)\n",
    "                splitInfo -= prob1 * log(prob1, 2)\n",
    "                # 计算信息增益率 = 信息增益 / 该划分方式的分裂信息\n",
    "                gainRatio = float(baseEntropy - newEntropy) / splitInfo\n",
    "                if gainRatio > baseGainRatio:\n",
    "                    baseGainRatio = gainRatio\n",
    "                    bestSplit = j\n",
    "                    bestFeature = i\n",
    "            bestSplitDic[labels[i]] = splitList[bestSplit]  # 最佳切分点\n",
    "        else:  # 如果该特征时连续型数据\n",
    "            uniqueVals = set(featVals)\n",
    "            splitInfo = 0.0\n",
    "            # 计算每种划分方式的条件信息熵newEntropy\n",
    "            newEntropy = 0.0\n",
    "            for value in uniqueVals:\n",
    "                subDataSet = splitDataSet(dataSet, i, value)\n",
    "                prob = len(subDataSet)/float(len(dataSet))\n",
    "                splitInfo -= prob * log(prob, 2)  # 计算分裂信息\n",
    "                newEntropy += prob * calcShannonEnt(subDataSet)  # 计算条件信息熵\n",
    "            # 若该特征的特征值都相同，说明信息增益和分裂信息都为0，则跳过该特征\n",
    "            if splitInfo == 0.0:\n",
    "                continue\n",
    "            # 计算信息增益率 = 信息增益 / 该划分方式的分裂信息\n",
    "            gainRatio = float(baseEntropy - newEntropy) / splitInfo\n",
    "            if gainRatio > baseGainRatio:\n",
    "                bestFeature = i\n",
    "                baseGainRatio = gainRatio\n",
    "    # 如果最佳切分特征是连续型，则最佳切分点为具体的切分值\n",
    "    if type(dataSet[0][bestFeature]).__name__ == 'float' or type(\n",
    "            dataSet[0][bestFeature]).__name__ == 'int':\n",
    "        bestFeatValue = bestSplitDic[labels[bestFeature]]\n",
    "    # 如果最佳切分特征时离散型，则最佳切分点为 切分特征名称,【其实对于离散型特征这个值没有用】\n",
    "    if type(dataSet[0][bestFeature]).__name__ == 'str':\n",
    "        bestFeatValue = labels[bestFeature]\n",
    "    # print('bestFeature:' + str(labels[bestFeature]) + ', bestFeatValue:' + str(bestFeatValue))\n",
    "    return bestFeature, bestFeatValue\n",
    "\n",
    "\n",
    "def createTree(dataSet, labels):\n",
    "    \"\"\"创建C4.5树\"\"\"\n",
    "    classList = [example[-1] for example in dataSet]\n",
    "    # 如果类别完全相同，则停止继续划分\n",
    "    if classList.count(classList[0]) == len(classList):\n",
    "        return classList[0]\n",
    "    # 遍历完所有特征时返回出现次数最多的类别\n",
    "    if len(dataSet[0]) == 1:\n",
    "        return majorityCnt(classList)\n",
    "    bestFeature, bestFeatValue = chooseBestFeatureToSplit(dataSet, labels)\n",
    "    if bestFeature == -1:  # 如果无法选出最优分类特征，返回出现次数最多的类别\n",
    "        return majorityCnt(classList)\n",
    "    bestFeatLabel = labels[bestFeature]\n",
    "    myTree = {bestFeatLabel: {}}\n",
    "    subLabels = labels[:bestFeature]\n",
    "    subLabels.extend(labels[bestFeature + 1:])\n",
    "    # 针对最佳切分特征是离散型\n",
    "    if type(dataSet[0][bestFeature]).__name__ == 'str':\n",
    "        featVals = [example[bestFeature] for example in dataSet]\n",
    "        uniqueVals = set(featVals)\n",
    "        for value in uniqueVals:\n",
    "            reduceDataSet = splitDataSet(dataSet, bestFeature, value)\n",
    "            # print('reduceDataSet:' + str(reduceDataSet))\n",
    "            myTree[bestFeatLabel][value] = createTree(reduceDataSet, subLabels)\n",
    "            # print(myTree[bestFeatLabel][value])\n",
    "    # 针对最佳切分特征是连续型\n",
    "    if type(dataSet[0][bestFeature]).__name__ == 'int' or type(\n",
    "            dataSet[0][bestFeature]).__name__ == 'float':\n",
    "        # 将数据集划分为两个子集，针对每个子集分别建树\n",
    "        value = bestFeatValue\n",
    "        greaterSubDataSet = splitContinuousDataSet(dataSet, bestFeature, value, 0)\n",
    "        smallSubDataSet = splitContinuousDataSet(dataSet, bestFeature, value, 1)\n",
    "        # print('greaterDataset:' + str(greaterSubDataSet))\n",
    "        # print('smallerDataSet:' + str(smallSubDataSet))\n",
    "        # 针对连续型特征，在生成决策的模块，修改划分点的标签，如“> x.xxx”，\"<= x.xxx\"\n",
    "        myTree[bestFeatLabel]['>' + str(value)] = createTree(greaterSubDataSet,subLabels)\n",
    "        myTree[bestFeatLabel]['<=' + str(value)] = createTree(smallSubDataSet,subLabels)\n",
    "    return myTree\n"
   ]
  },
  {
   "cell_type": "code",
   "execution_count": 2,
   "metadata": {},
   "outputs": [
    {
     "output_type": "stream",
     "name": "stdout",
     "text": [
      "最终构建的C4.5分类树为：\n {'年收入(k)': {'>97.5': '否', '<=97.5': {'婚姻状况': {'已婚': '否', '离异': '是', '单身': '是'}}}}\n"
     ]
    }
   ],
   "source": [
    "dataSet, labels = createDataSet()\n",
    "mytree = createTree(dataSet, labels)\n",
    "print(\"最终构建的C4.5分类树为：\\n\",mytree)"
   ]
  },
  {
   "source": [
    "# CART回归树代码"
   ],
   "cell_type": "markdown",
   "metadata": {}
  },
  {
   "cell_type": "code",
   "execution_count": 4,
   "metadata": {},
   "outputs": [],
   "source": [
    "import numpy as np\n",
    "\n",
    "def loadDataSet(fileName):\n",
    "    \"\"\"导入数据\"\"\"\n",
    "    dataMat = []\n",
    "    fr = open(fileName)\n",
    "    for line in fr.readlines():\n",
    "        curLine = line.strip().split('\\t')\n",
    "        # 使用python3会报错1，因为python3中map的返回类型是‘map’类，不能进行计算，需要将map转换为list\n",
    "        fltLine = list(map(float, curLine))\n",
    "        dataMat.append(fltLine)\n",
    "    return dataMat\n",
    "\n",
    "\n",
    "def binSplitDataSet(dataSet, feature, value):\n",
    "    \"\"\"\n",
    "    通过数组过滤切分数据集\n",
    "    :param dataSet: 数据集合\n",
    "    :param feature: 待切分的特征\n",
    "    :param value: 该特征的某个值\n",
    "    :return:\n",
    "    \"\"\"\n",
    "    # 使用python3会报错2，需要将书中脚本修改为以下内容\n",
    "    mat0 = dataSet[np.nonzero(dataSet[:, feature] > value)[0], :]\n",
    "    mat1 = dataSet[np.nonzero(dataSet[:, feature] <= value)[0], :]\n",
    "    return mat0, mat1\n",
    "\n",
    "\n",
    "def regLeaf(dataSet):\n",
    "    \"\"\"生成叶子节点，即目标变量的均值\"\"\"\n",
    "    return np.mean(dataSet[:, -1])\n",
    "\n",
    "\n",
    "def regErr(dataSet):\n",
    "    \"\"\"计算数据集中目标变量的误差平方和\n",
    "    误差平方和 = 目标变量的均方差 * 数据集的样本个数\n",
    "    \"\"\"\n",
    "    return np.var(dataSet[:, -1]) * dataSet.shape[0]\n",
    "\n",
    "\n",
    "def chooseBestSplit(dataSet, leafType=regLeaf, errType=regErr, ops=(1, 4)):\n",
    "    \"\"\"\n",
    "    遍历所有的特征及其可能的取值来找到使误差平方和最小化的切分特征及其切分点\n",
    "    :param dataSet: 数据集合\n",
    "    :param leafType: 建立叶节点的函数，该参数也决定了要建立的是模型树还是回归树\n",
    "    :param errType: 代表误差计算函数,即误差平方和计算函数\n",
    "    :param ops: 用于控制函数的停止时机，第一个是容许的误差下降值，第二个是切分的最少样本数\n",
    "    :return:最佳切分特征及其切分点\n",
    "    \"\"\"\n",
    "    tolS = ops[0]\n",
    "    tolN = ops[1]\n",
    "    # 如果所有值都相等，则停止切分，直接生成叶结点\n",
    "    if len(set(dataSet[:-1].T.tolist()[0])) == 1:\n",
    "        return None, leafType(dataSet)\n",
    "    m, n = dataSet.shape\n",
    "    S = errType(dataSet)\n",
    "    bestS = np.inf\n",
    "    bestIndex = 0\n",
    "    bestValue = 0\n",
    "    # 数据集中最后一列是标签，不是特征，所以这里是n-1\n",
    "    for featIndex in range(n - 1):\n",
    "        # set(dataSet[:,featIndex]) 使用python3会报错3，因为matrix类型不能被hash，需要修改为下面这句\n",
    "        for splitVal in set(dataSet[:, featIndex].T.tolist()[0]):\n",
    "            mat0, mat1 = binSplitDataSet(dataSet, featIndex, splitVal)\n",
    "            # 如果切分出的数据集小于切分最小样本数，则继续下一个\n",
    "            if mat0.shape[0] < tolN or mat1.shape[0] < tolN:\n",
    "                continue\n",
    "            newS = errType(mat0) + errType(mat1)\n",
    "            if newS < bestS:\n",
    "                bestS = newS\n",
    "                bestIndex = featIndex\n",
    "                bestValue = splitVal\n",
    "    # 如果误差减少不大，则停止切分，直接生成叶结点\n",
    "    if (S - bestS) < tolS:\n",
    "        return None, leafType(dataSet)\n",
    "\n",
    "    # 《机器学习实战》中，感觉下面这三句话多余(可以删了)，因为在上面已经判断过了切分出的数据集很小的情况 #\n",
    "    # mat0, mat1 = binSplitDataSet(dataSet, bestIndex, bestValue)  # 用最佳切分特征和切分点进行切分\n",
    "    # if mat0.shape[0] < tolN or mat1.shape[0] < tolN: # 如果切分出的数据集很小，则停止切分，直接生成叶结点\n",
    "    #     return None, leafType(dataSet)\n",
    "\n",
    "    return bestIndex, bestValue  # 返回最佳切分特征编号和切分点\n",
    "\n",
    "\n",
    "def createTree(dataSet, leafType=regLeaf, errType=regErr, ops=(1, 4)):\n",
    "    \"\"\"\n",
    "    构建CART回归树\n",
    "    :param dataSet: 数据集，默认NumPy Mat\n",
    "    :param leafType: 建立叶节点的函数，该参数也决定了要建立的是模型树还是回归树\n",
    "    :param errType: 代表误差计算函数,即误差平方和计算函数\n",
    "    :param ops: 用于控制函数的停止时机，第一个是容许的误差下降值，第二个是切分的最少样本数\n",
    "    :return:\n",
    "    \"\"\"\n",
    "    feat, val = chooseBestSplit(dataSet, leafType, errType, ops)\n",
    "    # 如果feat为None, 则返回叶结点对应的预测值\n",
    "    if feat == None:\n",
    "        return val\n",
    "    retTree = {}\n",
    "    retTree['spInd'] = feat  # 最佳切分特征\n",
    "    retTree['spVal'] = val  # 切分点\n",
    "    # 切分后的左右子树\n",
    "    lSet, rSet = binSplitDataSet(dataSet, feat, val)\n",
    "    retTree['left'] = createTree(lSet, leafType, errType, ops)\n",
    "    retTree['right'] = createTree(rSet, leafType, errType, ops)\n",
    "    return retTree"
   ]
  },
  {
   "cell_type": "code",
   "execution_count": 6,
   "metadata": {},
   "outputs": [
    {
     "output_type": "stream",
     "name": "stdout",
     "text": [
      "{'spInd': 0, 'spVal': 0.48813, 'left': 1.0180967672413792, 'right': -0.04465028571428572}\n"
     ]
    }
   ],
   "source": [
    "dataMat = loadDataSet('./data/ex00.txt')\n",
    "dataMat = np.mat(dataMat)\n",
    "regTree = createTree(dataMat)\n",
    "print(regTree)"
   ]
  },
  {
   "cell_type": "code",
   "execution_count": 10,
   "metadata": {},
   "outputs": [
    {
     "output_type": "execute_result",
     "data": {
      "text/plain": [
       "[<matplotlib.lines.Line2D at 0x126b2aec7f0>]"
      ]
     },
     "metadata": {},
     "execution_count": 10
    },
    {
     "output_type": "display_data",
     "data": {
      "text/plain": "<Figure size 432x288 with 1 Axes>",
      "image/svg+xml": "<?xml version=\"1.0\" encoding=\"utf-8\" standalone=\"no\"?>\r\n<!DOCTYPE svg PUBLIC \"-//W3C//DTD SVG 1.1//EN\"\r\n  \"http://www.w3.org/Graphics/SVG/1.1/DTD/svg11.dtd\">\r\n<!-- Created with matplotlib (http://matplotlib.org/) -->\r\n<svg height=\"252.018125pt\" version=\"1.1\" viewBox=\"0 0 383.982812 252.018125\" width=\"383.982812pt\" xmlns=\"http://www.w3.org/2000/svg\" xmlns:xlink=\"http://www.w3.org/1999/xlink\">\r\n <defs>\r\n  <style type=\"text/css\">\r\n*{stroke-linecap:butt;stroke-linejoin:round;}\r\n  </style>\r\n </defs>\r\n <g id=\"figure_1\">\r\n  <g id=\"patch_1\">\r\n   <path d=\"M -0 252.018125 \r\nL 383.982812 252.018125 \r\nL 383.982812 0 \r\nL -0 0 \r\nz\r\n\" style=\"fill:none;\"/>\r\n  </g>\r\n  <g id=\"axes_1\">\r\n   <g id=\"patch_2\">\r\n    <path d=\"M 38.482813 228.14 \r\nL 373.282813 228.14 \r\nL 373.282813 10.7 \r\nL 38.482813 10.7 \r\nz\r\n\" style=\"fill:#ffffff;\"/>\r\n   </g>\r\n   <g id=\"matplotlib.axis_1\">\r\n    <g id=\"xtick_1\">\r\n     <g id=\"line2d_1\">\r\n      <defs>\r\n       <path d=\"M 0 0 \r\nL 0 3.5 \r\n\" id=\"m726b59d8be\" style=\"stroke:#000000;stroke-width:0.8;\"/>\r\n      </defs>\r\n      <g>\r\n       <use style=\"stroke:#000000;stroke-width:0.8;\" x=\"53.629525\" xlink:href=\"#m726b59d8be\" y=\"228.14\"/>\r\n      </g>\r\n     </g>\r\n     <g id=\"text_1\">\r\n      <!-- 0.0 -->\r\n      <defs>\r\n       <path d=\"M 31.78125 66.40625 \r\nQ 24.171875 66.40625 20.328125 58.90625 \r\nQ 16.5 51.421875 16.5 36.375 \r\nQ 16.5 21.390625 20.328125 13.890625 \r\nQ 24.171875 6.390625 31.78125 6.390625 \r\nQ 39.453125 6.390625 43.28125 13.890625 \r\nQ 47.125 21.390625 47.125 36.375 \r\nQ 47.125 51.421875 43.28125 58.90625 \r\nQ 39.453125 66.40625 31.78125 66.40625 \r\nz\r\nM 31.78125 74.21875 \r\nQ 44.046875 74.21875 50.515625 64.515625 \r\nQ 56.984375 54.828125 56.984375 36.375 \r\nQ 56.984375 17.96875 50.515625 8.265625 \r\nQ 44.046875 -1.421875 31.78125 -1.421875 \r\nQ 19.53125 -1.421875 13.0625 8.265625 \r\nQ 6.59375 17.96875 6.59375 36.375 \r\nQ 6.59375 54.828125 13.0625 64.515625 \r\nQ 19.53125 74.21875 31.78125 74.21875 \r\nz\r\n\" id=\"DejaVuSans-30\"/>\r\n       <path d=\"M 10.6875 12.40625 \r\nL 21 12.40625 \r\nL 21 0 \r\nL 10.6875 0 \r\nz\r\n\" id=\"DejaVuSans-2e\"/>\r\n      </defs>\r\n      <g transform=\"translate(45.677962 242.738437)scale(0.1 -0.1)\">\r\n       <use xlink:href=\"#DejaVuSans-30\"/>\r\n       <use x=\"63.623047\" xlink:href=\"#DejaVuSans-2e\"/>\r\n       <use x=\"95.410156\" xlink:href=\"#DejaVuSans-30\"/>\r\n      </g>\r\n     </g>\r\n    </g>\r\n    <g id=\"xtick_2\">\r\n     <g id=\"line2d_2\">\r\n      <g>\r\n       <use style=\"stroke:#000000;stroke-width:0.8;\" x=\"114.714645\" xlink:href=\"#m726b59d8be\" y=\"228.14\"/>\r\n      </g>\r\n     </g>\r\n     <g id=\"text_2\">\r\n      <!-- 0.2 -->\r\n      <defs>\r\n       <path d=\"M 19.1875 8.296875 \r\nL 53.609375 8.296875 \r\nL 53.609375 0 \r\nL 7.328125 0 \r\nL 7.328125 8.296875 \r\nQ 12.9375 14.109375 22.625 23.890625 \r\nQ 32.328125 33.6875 34.8125 36.53125 \r\nQ 39.546875 41.84375 41.421875 45.53125 \r\nQ 43.3125 49.21875 43.3125 52.78125 \r\nQ 43.3125 58.59375 39.234375 62.25 \r\nQ 35.15625 65.921875 28.609375 65.921875 \r\nQ 23.96875 65.921875 18.8125 64.3125 \r\nQ 13.671875 62.703125 7.8125 59.421875 \r\nL 7.8125 69.390625 \r\nQ 13.765625 71.78125 18.9375 73 \r\nQ 24.125 74.21875 28.421875 74.21875 \r\nQ 39.75 74.21875 46.484375 68.546875 \r\nQ 53.21875 62.890625 53.21875 53.421875 \r\nQ 53.21875 48.921875 51.53125 44.890625 \r\nQ 49.859375 40.875 45.40625 35.40625 \r\nQ 44.1875 33.984375 37.640625 27.21875 \r\nQ 31.109375 20.453125 19.1875 8.296875 \r\nz\r\n\" id=\"DejaVuSans-32\"/>\r\n      </defs>\r\n      <g transform=\"translate(106.763082 242.738437)scale(0.1 -0.1)\">\r\n       <use xlink:href=\"#DejaVuSans-30\"/>\r\n       <use x=\"63.623047\" xlink:href=\"#DejaVuSans-2e\"/>\r\n       <use x=\"95.410156\" xlink:href=\"#DejaVuSans-32\"/>\r\n      </g>\r\n     </g>\r\n    </g>\r\n    <g id=\"xtick_3\">\r\n     <g id=\"line2d_3\">\r\n      <g>\r\n       <use style=\"stroke:#000000;stroke-width:0.8;\" x=\"175.799765\" xlink:href=\"#m726b59d8be\" y=\"228.14\"/>\r\n      </g>\r\n     </g>\r\n     <g id=\"text_3\">\r\n      <!-- 0.4 -->\r\n      <defs>\r\n       <path d=\"M 37.796875 64.3125 \r\nL 12.890625 25.390625 \r\nL 37.796875 25.390625 \r\nz\r\nM 35.203125 72.90625 \r\nL 47.609375 72.90625 \r\nL 47.609375 25.390625 \r\nL 58.015625 25.390625 \r\nL 58.015625 17.1875 \r\nL 47.609375 17.1875 \r\nL 47.609375 0 \r\nL 37.796875 0 \r\nL 37.796875 17.1875 \r\nL 4.890625 17.1875 \r\nL 4.890625 26.703125 \r\nz\r\n\" id=\"DejaVuSans-34\"/>\r\n      </defs>\r\n      <g transform=\"translate(167.848203 242.738437)scale(0.1 -0.1)\">\r\n       <use xlink:href=\"#DejaVuSans-30\"/>\r\n       <use x=\"63.623047\" xlink:href=\"#DejaVuSans-2e\"/>\r\n       <use x=\"95.410156\" xlink:href=\"#DejaVuSans-34\"/>\r\n      </g>\r\n     </g>\r\n    </g>\r\n    <g id=\"xtick_4\">\r\n     <g id=\"line2d_4\">\r\n      <g>\r\n       <use style=\"stroke:#000000;stroke-width:0.8;\" x=\"236.884885\" xlink:href=\"#m726b59d8be\" y=\"228.14\"/>\r\n      </g>\r\n     </g>\r\n     <g id=\"text_4\">\r\n      <!-- 0.6 -->\r\n      <defs>\r\n       <path d=\"M 33.015625 40.375 \r\nQ 26.375 40.375 22.484375 35.828125 \r\nQ 18.609375 31.296875 18.609375 23.390625 \r\nQ 18.609375 15.53125 22.484375 10.953125 \r\nQ 26.375 6.390625 33.015625 6.390625 \r\nQ 39.65625 6.390625 43.53125 10.953125 \r\nQ 47.40625 15.53125 47.40625 23.390625 \r\nQ 47.40625 31.296875 43.53125 35.828125 \r\nQ 39.65625 40.375 33.015625 40.375 \r\nz\r\nM 52.59375 71.296875 \r\nL 52.59375 62.3125 \r\nQ 48.875 64.0625 45.09375 64.984375 \r\nQ 41.3125 65.921875 37.59375 65.921875 \r\nQ 27.828125 65.921875 22.671875 59.328125 \r\nQ 17.53125 52.734375 16.796875 39.40625 \r\nQ 19.671875 43.65625 24.015625 45.921875 \r\nQ 28.375 48.1875 33.59375 48.1875 \r\nQ 44.578125 48.1875 50.953125 41.515625 \r\nQ 57.328125 34.859375 57.328125 23.390625 \r\nQ 57.328125 12.15625 50.6875 5.359375 \r\nQ 44.046875 -1.421875 33.015625 -1.421875 \r\nQ 20.359375 -1.421875 13.671875 8.265625 \r\nQ 6.984375 17.96875 6.984375 36.375 \r\nQ 6.984375 53.65625 15.1875 63.9375 \r\nQ 23.390625 74.21875 37.203125 74.21875 \r\nQ 40.921875 74.21875 44.703125 73.484375 \r\nQ 48.484375 72.75 52.59375 71.296875 \r\nz\r\n\" id=\"DejaVuSans-36\"/>\r\n      </defs>\r\n      <g transform=\"translate(228.933323 242.738437)scale(0.1 -0.1)\">\r\n       <use xlink:href=\"#DejaVuSans-30\"/>\r\n       <use x=\"63.623047\" xlink:href=\"#DejaVuSans-2e\"/>\r\n       <use x=\"95.410156\" xlink:href=\"#DejaVuSans-36\"/>\r\n      </g>\r\n     </g>\r\n    </g>\r\n    <g id=\"xtick_5\">\r\n     <g id=\"line2d_5\">\r\n      <g>\r\n       <use style=\"stroke:#000000;stroke-width:0.8;\" x=\"297.970006\" xlink:href=\"#m726b59d8be\" y=\"228.14\"/>\r\n      </g>\r\n     </g>\r\n     <g id=\"text_5\">\r\n      <!-- 0.8 -->\r\n      <defs>\r\n       <path d=\"M 31.78125 34.625 \r\nQ 24.75 34.625 20.71875 30.859375 \r\nQ 16.703125 27.09375 16.703125 20.515625 \r\nQ 16.703125 13.921875 20.71875 10.15625 \r\nQ 24.75 6.390625 31.78125 6.390625 \r\nQ 38.8125 6.390625 42.859375 10.171875 \r\nQ 46.921875 13.96875 46.921875 20.515625 \r\nQ 46.921875 27.09375 42.890625 30.859375 \r\nQ 38.875 34.625 31.78125 34.625 \r\nz\r\nM 21.921875 38.8125 \r\nQ 15.578125 40.375 12.03125 44.71875 \r\nQ 8.5 49.078125 8.5 55.328125 \r\nQ 8.5 64.0625 14.71875 69.140625 \r\nQ 20.953125 74.21875 31.78125 74.21875 \r\nQ 42.671875 74.21875 48.875 69.140625 \r\nQ 55.078125 64.0625 55.078125 55.328125 \r\nQ 55.078125 49.078125 51.53125 44.71875 \r\nQ 48 40.375 41.703125 38.8125 \r\nQ 48.828125 37.15625 52.796875 32.3125 \r\nQ 56.78125 27.484375 56.78125 20.515625 \r\nQ 56.78125 9.90625 50.3125 4.234375 \r\nQ 43.84375 -1.421875 31.78125 -1.421875 \r\nQ 19.734375 -1.421875 13.25 4.234375 \r\nQ 6.78125 9.90625 6.78125 20.515625 \r\nQ 6.78125 27.484375 10.78125 32.3125 \r\nQ 14.796875 37.15625 21.921875 38.8125 \r\nz\r\nM 18.3125 54.390625 \r\nQ 18.3125 48.734375 21.84375 45.5625 \r\nQ 25.390625 42.390625 31.78125 42.390625 \r\nQ 38.140625 42.390625 41.71875 45.5625 \r\nQ 45.3125 48.734375 45.3125 54.390625 \r\nQ 45.3125 60.0625 41.71875 63.234375 \r\nQ 38.140625 66.40625 31.78125 66.40625 \r\nQ 25.390625 66.40625 21.84375 63.234375 \r\nQ 18.3125 60.0625 18.3125 54.390625 \r\nz\r\n\" id=\"DejaVuSans-38\"/>\r\n      </defs>\r\n      <g transform=\"translate(290.018443 242.738437)scale(0.1 -0.1)\">\r\n       <use xlink:href=\"#DejaVuSans-30\"/>\r\n       <use x=\"63.623047\" xlink:href=\"#DejaVuSans-2e\"/>\r\n       <use x=\"95.410156\" xlink:href=\"#DejaVuSans-38\"/>\r\n      </g>\r\n     </g>\r\n    </g>\r\n    <g id=\"xtick_6\">\r\n     <g id=\"line2d_6\">\r\n      <g>\r\n       <use style=\"stroke:#000000;stroke-width:0.8;\" x=\"359.055126\" xlink:href=\"#m726b59d8be\" y=\"228.14\"/>\r\n      </g>\r\n     </g>\r\n     <g id=\"text_6\">\r\n      <!-- 1.0 -->\r\n      <defs>\r\n       <path d=\"M 12.40625 8.296875 \r\nL 28.515625 8.296875 \r\nL 28.515625 63.921875 \r\nL 10.984375 60.40625 \r\nL 10.984375 69.390625 \r\nL 28.421875 72.90625 \r\nL 38.28125 72.90625 \r\nL 38.28125 8.296875 \r\nL 54.390625 8.296875 \r\nL 54.390625 0 \r\nL 12.40625 0 \r\nz\r\n\" id=\"DejaVuSans-31\"/>\r\n      </defs>\r\n      <g transform=\"translate(351.103563 242.738437)scale(0.1 -0.1)\">\r\n       <use xlink:href=\"#DejaVuSans-31\"/>\r\n       <use x=\"63.623047\" xlink:href=\"#DejaVuSans-2e\"/>\r\n       <use x=\"95.410156\" xlink:href=\"#DejaVuSans-30\"/>\r\n      </g>\r\n     </g>\r\n    </g>\r\n   </g>\r\n   <g id=\"matplotlib.axis_2\">\r\n    <g id=\"ytick_1\">\r\n     <g id=\"line2d_7\">\r\n      <defs>\r\n       <path d=\"M 0 0 \r\nL -3.5 0 \r\n\" id=\"m479944804e\" style=\"stroke:#000000;stroke-width:0.8;\"/>\r\n      </defs>\r\n      <g>\r\n       <use style=\"stroke:#000000;stroke-width:0.8;\" x=\"38.482813\" xlink:href=\"#m479944804e\" y=\"213.13071\"/>\r\n      </g>\r\n     </g>\r\n     <g id=\"text_7\">\r\n      <!-- −0.5 -->\r\n      <defs>\r\n       <path d=\"M 10.59375 35.5 \r\nL 73.1875 35.5 \r\nL 73.1875 27.203125 \r\nL 10.59375 27.203125 \r\nz\r\n\" id=\"DejaVuSans-2212\"/>\r\n       <path d=\"M 10.796875 72.90625 \r\nL 49.515625 72.90625 \r\nL 49.515625 64.59375 \r\nL 19.828125 64.59375 \r\nL 19.828125 46.734375 \r\nQ 21.96875 47.46875 24.109375 47.828125 \r\nQ 26.265625 48.1875 28.421875 48.1875 \r\nQ 40.625 48.1875 47.75 41.5 \r\nQ 54.890625 34.8125 54.890625 23.390625 \r\nQ 54.890625 11.625 47.5625 5.09375 \r\nQ 40.234375 -1.421875 26.90625 -1.421875 \r\nQ 22.3125 -1.421875 17.546875 -0.640625 \r\nQ 12.796875 0.140625 7.71875 1.703125 \r\nL 7.71875 11.625 \r\nQ 12.109375 9.234375 16.796875 8.0625 \r\nQ 21.484375 6.890625 26.703125 6.890625 \r\nQ 35.15625 6.890625 40.078125 11.328125 \r\nQ 45.015625 15.765625 45.015625 23.390625 \r\nQ 45.015625 31 40.078125 35.4375 \r\nQ 35.15625 39.890625 26.703125 39.890625 \r\nQ 22.75 39.890625 18.8125 39.015625 \r\nQ 14.890625 38.140625 10.796875 36.28125 \r\nz\r\n\" id=\"DejaVuSans-35\"/>\r\n      </defs>\r\n      <g transform=\"translate(7.2 216.929929)scale(0.1 -0.1)\">\r\n       <use xlink:href=\"#DejaVuSans-2212\"/>\r\n       <use x=\"83.789062\" xlink:href=\"#DejaVuSans-30\"/>\r\n       <use x=\"147.412109\" xlink:href=\"#DejaVuSans-2e\"/>\r\n       <use x=\"179.199219\" xlink:href=\"#DejaVuSans-35\"/>\r\n      </g>\r\n     </g>\r\n    </g>\r\n    <g id=\"ytick_2\">\r\n     <g id=\"line2d_8\">\r\n      <g>\r\n       <use style=\"stroke:#000000;stroke-width:0.8;\" x=\"38.482813\" xlink:href=\"#m479944804e\" y=\"167.742022\"/>\r\n      </g>\r\n     </g>\r\n     <g id=\"text_8\">\r\n      <!-- 0.0 -->\r\n      <g transform=\"translate(15.579688 171.541241)scale(0.1 -0.1)\">\r\n       <use xlink:href=\"#DejaVuSans-30\"/>\r\n       <use x=\"63.623047\" xlink:href=\"#DejaVuSans-2e\"/>\r\n       <use x=\"95.410156\" xlink:href=\"#DejaVuSans-30\"/>\r\n      </g>\r\n     </g>\r\n    </g>\r\n    <g id=\"ytick_3\">\r\n     <g id=\"line2d_9\">\r\n      <g>\r\n       <use style=\"stroke:#000000;stroke-width:0.8;\" x=\"38.482813\" xlink:href=\"#m479944804e\" y=\"122.353335\"/>\r\n      </g>\r\n     </g>\r\n     <g id=\"text_9\">\r\n      <!-- 0.5 -->\r\n      <g transform=\"translate(15.579688 126.152553)scale(0.1 -0.1)\">\r\n       <use xlink:href=\"#DejaVuSans-30\"/>\r\n       <use x=\"63.623047\" xlink:href=\"#DejaVuSans-2e\"/>\r\n       <use x=\"95.410156\" xlink:href=\"#DejaVuSans-35\"/>\r\n      </g>\r\n     </g>\r\n    </g>\r\n    <g id=\"ytick_4\">\r\n     <g id=\"line2d_10\">\r\n      <g>\r\n       <use style=\"stroke:#000000;stroke-width:0.8;\" x=\"38.482813\" xlink:href=\"#m479944804e\" y=\"76.964647\"/>\r\n      </g>\r\n     </g>\r\n     <g id=\"text_10\">\r\n      <!-- 1.0 -->\r\n      <g transform=\"translate(15.579688 80.763866)scale(0.1 -0.1)\">\r\n       <use xlink:href=\"#DejaVuSans-31\"/>\r\n       <use x=\"63.623047\" xlink:href=\"#DejaVuSans-2e\"/>\r\n       <use x=\"95.410156\" xlink:href=\"#DejaVuSans-30\"/>\r\n      </g>\r\n     </g>\r\n    </g>\r\n    <g id=\"ytick_5\">\r\n     <g id=\"line2d_11\">\r\n      <g>\r\n       <use style=\"stroke:#000000;stroke-width:0.8;\" x=\"38.482813\" xlink:href=\"#m479944804e\" y=\"31.57596\"/>\r\n      </g>\r\n     </g>\r\n     <g id=\"text_11\">\r\n      <!-- 1.5 -->\r\n      <g transform=\"translate(15.579688 35.375178)scale(0.1 -0.1)\">\r\n       <use xlink:href=\"#DejaVuSans-31\"/>\r\n       <use x=\"63.623047\" xlink:href=\"#DejaVuSans-2e\"/>\r\n       <use x=\"95.410156\" xlink:href=\"#DejaVuSans-35\"/>\r\n      </g>\r\n     </g>\r\n    </g>\r\n   </g>\r\n   <g id=\"line2d_12\">\r\n    <defs>\r\n     <path d=\"M 0 3 \r\nC 0.795609 3 1.55874 2.683901 2.12132 2.12132 \r\nC 2.683901 1.55874 3 0.795609 3 0 \r\nC 3 -0.795609 2.683901 -1.55874 2.12132 -2.12132 \r\nC 1.55874 -2.683901 0.795609 -3 0 -3 \r\nC -0.795609 -3 -1.55874 -2.683901 -2.12132 -2.12132 \r\nC -2.683901 -1.55874 -3 -0.795609 -3 0 \r\nC -3 0.795609 -2.683901 1.55874 -2.12132 2.12132 \r\nC -1.55874 2.683901 -0.795609 3 0 3 \r\nz\r\n\" id=\"mabde2bb3af\" style=\"stroke:#1f77b4;\"/>\r\n    </defs>\r\n    <g clip-path=\"url(#pc2745f0be4)\">\r\n     <use style=\"fill:#1f77b4;stroke:#1f77b4;\" x=\"64.654778\" xlink:href=\"#mabde2bb3af\" y=\"153.662815\"/>\r\n     <use style=\"fill:#1f77b4;stroke:#1f77b4;\" x=\"357.02374\" xlink:href=\"#mabde2bb3af\" y=\"69.924589\"/>\r\n     <use style=\"fill:#1f77b4;stroke:#1f77b4;\" x=\"215.77906\" xlink:href=\"#mabde2bb3af\" y=\"86.635887\"/>\r\n     <use style=\"fill:#1f77b4;stroke:#1f77b4;\" x=\"271.210447\" xlink:href=\"#mabde2bb3af\" y=\"116.465696\"/>\r\n     <use style=\"fill:#1f77b4;stroke:#1f77b4;\" x=\"158.559712\" xlink:href=\"#mabde2bb3af\" y=\"201.483973\"/>\r\n     <use style=\"fill:#1f77b4;stroke:#1f77b4;\" x=\"83.56612\" xlink:href=\"#mabde2bb3af\" y=\"197.949102\"/>\r\n     <use style=\"fill:#1f77b4;stroke:#1f77b4;\" x=\"264.713739\" xlink:href=\"#mabde2bb3af\" y=\"91.998197\"/>\r\n     <use style=\"fill:#1f77b4;stroke:#1f77b4;\" x=\"81.532597\" xlink:href=\"#mabde2bb3af\" y=\"158.670185\"/>\r\n     <use style=\"fill:#1f77b4;stroke:#1f77b4;\" x=\"275.703868\" xlink:href=\"#mabde2bb3af\" y=\"76.913176\"/>\r\n     <use style=\"fill:#1f77b4;stroke:#1f77b4;\" x=\"344.37912\" xlink:href=\"#mabde2bb3af\" y=\"81.934255\"/>\r\n     <use style=\"fill:#1f77b4;stroke:#1f77b4;\" x=\"288.37842\" xlink:href=\"#mabde2bb3af\" y=\"98.731337\"/>\r\n     <use style=\"fill:#1f77b4;stroke:#1f77b4;\" x=\"218.960679\" xlink:href=\"#mabde2bb3af\" y=\"86.609925\"/>\r\n     <use style=\"fill:#1f77b4;stroke:#1f77b4;\" x=\"98.333448\" xlink:href=\"#mabde2bb3af\" y=\"164.629902\"/>\r\n     <use style=\"fill:#1f77b4;stroke:#1f77b4;\" x=\"259.240512\" xlink:href=\"#mabde2bb3af\" y=\"84.673734\"/>\r\n     <use style=\"fill:#1f77b4;stroke:#1f77b4;\" x=\"109.678177\" xlink:href=\"#mabde2bb3af\" y=\"150.96246\"/>\r\n     <use style=\"fill:#1f77b4;stroke:#1f77b4;\" x=\"157.340758\" xlink:href=\"#mabde2bb3af\" y=\"148.970804\"/>\r\n     <use style=\"fill:#1f77b4;stroke:#1f77b4;\" x=\"211.815858\" xlink:href=\"#mabde2bb3af\" y=\"32.158206\"/>\r\n     <use style=\"fill:#1f77b4;stroke:#1f77b4;\" x=\"268.574319\" xlink:href=\"#mabde2bb3af\" y=\"67.734585\"/>\r\n     <use style=\"fill:#1f77b4;stroke:#1f77b4;\" x=\"56.166695\" xlink:href=\"#mabde2bb3af\" y=\"161.389785\"/>\r\n     <use style=\"fill:#1f77b4;stroke:#1f77b4;\" x=\"128.125578\" xlink:href=\"#mabde2bb3af\" y=\"170.416959\"/>\r\n     <use style=\"fill:#1f77b4;stroke:#1f77b4;\" x=\"147.384189\" xlink:href=\"#mabde2bb3af\" y=\"183.838757\"/>\r\n     <use style=\"fill:#1f77b4;stroke:#1f77b4;\" x=\"64.775116\" xlink:href=\"#mabde2bb3af\" y=\"130.690783\"/>\r\n     <use style=\"fill:#1f77b4;stroke:#1f77b4;\" x=\"143.88615\" xlink:href=\"#mabde2bb3af\" y=\"167.480402\"/>\r\n     <use style=\"fill:#1f77b4;stroke:#1f77b4;\" x=\"309.430185\" xlink:href=\"#mabde2bb3af\" y=\"56.142768\"/>\r\n     <use style=\"fill:#1f77b4;stroke:#1f77b4;\" x=\"115.341989\" xlink:href=\"#mabde2bb3af\" y=\"175.707192\"/>\r\n     <use style=\"fill:#1f77b4;stroke:#1f77b4;\" x=\"334.432936\" xlink:href=\"#mabde2bb3af\" y=\"74.251402\"/>\r\n     <use style=\"fill:#1f77b4;stroke:#1f77b4;\" x=\"168.836367\" xlink:href=\"#mabde2bb3af\" y=\"189.850852\"/>\r\n     <use style=\"fill:#1f77b4;stroke:#1f77b4;\" x=\"302.49794\" xlink:href=\"#mabde2bb3af\" y=\"68.322096\"/>\r\n     <use style=\"fill:#1f77b4;stroke:#1f77b4;\" x=\"240.327032\" xlink:href=\"#mabde2bb3af\" y=\"78.595372\"/>\r\n     <use style=\"fill:#1f77b4;stroke:#1f77b4;\" x=\"75.694386\" xlink:href=\"#mabde2bb3af\" y=\"205.957754\"/>\r\n     <use style=\"fill:#1f77b4;stroke:#1f77b4;\" x=\"178.924269\" xlink:href=\"#mabde2bb3af\" y=\"137.62917\"/>\r\n     <use style=\"fill:#1f77b4;stroke:#1f77b4;\" x=\"319.06789\" xlink:href=\"#mabde2bb3af\" y=\"66.541135\"/>\r\n     <use style=\"fill:#1f77b4;stroke:#1f77b4;\" x=\"243.176347\" xlink:href=\"#mabde2bb3af\" y=\"46.606787\"/>\r\n     <use style=\"fill:#1f77b4;stroke:#1f77b4;\" x=\"84.523019\" xlink:href=\"#mabde2bb3af\" y=\"161.493452\"/>\r\n     <use style=\"fill:#1f77b4;stroke:#1f77b4;\" x=\"304.323469\" xlink:href=\"#mabde2bb3af\" y=\"47.379665\"/>\r\n     <use style=\"fill:#1f77b4;stroke:#1f77b4;\" x=\"212.464276\" xlink:href=\"#mabde2bb3af\" y=\"80.415731\"/>\r\n     <use style=\"fill:#1f77b4;stroke:#1f77b4;\" x=\"202.716923\" xlink:href=\"#mabde2bb3af\" y=\"176.619233\"/>\r\n     <use style=\"fill:#1f77b4;stroke:#1f77b4;\" x=\"304.024457\" xlink:href=\"#mabde2bb3af\" y=\"91.918949\"/>\r\n     <use style=\"fill:#1f77b4;stroke:#1f77b4;\" x=\"351.426205\" xlink:href=\"#mabde2bb3af\" y=\"106.596289\"/>\r\n     <use style=\"fill:#1f77b4;stroke:#1f77b4;\" x=\"344.73433\" xlink:href=\"#mabde2bb3af\" y=\"71.092259\"/>\r\n     <use style=\"fill:#1f77b4;stroke:#1f77b4;\" x=\"199.004781\" xlink:href=\"#mabde2bb3af\" y=\"182.602914\"/>\r\n     <use style=\"fill:#1f77b4;stroke:#1f77b4;\" x=\"137.055611\" xlink:href=\"#mabde2bb3af\" y=\"209.065608\"/>\r\n     <use style=\"fill:#1f77b4;stroke:#1f77b4;\" x=\"299.370687\" xlink:href=\"#mabde2bb3af\" y=\"83.860732\"/>\r\n     <use style=\"fill:#1f77b4;stroke:#1f77b4;\" x=\"76.473833\" xlink:href=\"#mabde2bb3af\" y=\"199.486144\"/>\r\n     <use style=\"fill:#1f77b4;stroke:#1f77b4;\" x=\"244.623148\" xlink:href=\"#mabde2bb3af\" y=\"111.124537\"/>\r\n     <use style=\"fill:#1f77b4;stroke:#1f77b4;\" x=\"254.055302\" xlink:href=\"#mabde2bb3af\" y=\"80.731364\"/>\r\n     <use style=\"fill:#1f77b4;stroke:#1f77b4;\" x=\"308.378299\" xlink:href=\"#mabde2bb3af\" y=\"76.004222\"/>\r\n     <use style=\"fill:#1f77b4;stroke:#1f77b4;\" x=\"292.450965\" xlink:href=\"#mabde2bb3af\" y=\"70.202822\"/>\r\n     <use style=\"fill:#1f77b4;stroke:#1f77b4;\" x=\"56.637661\" xlink:href=\"#mabde2bb3af\" y=\"162.604568\"/>\r\n     <use style=\"fill:#1f77b4;stroke:#1f77b4;\" x=\"145.934334\" xlink:href=\"#mabde2bb3af\" y=\"181.236079\"/>\r\n     <use style=\"fill:#1f77b4;stroke:#1f77b4;\" x=\"260.795739\" xlink:href=\"#mabde2bb3af\" y=\"85.340948\"/>\r\n     <use style=\"fill:#1f77b4;stroke:#1f77b4;\" x=\"108.760678\" xlink:href=\"#mabde2bb3af\" y=\"158.330587\"/>\r\n     <use style=\"fill:#1f77b4;stroke:#1f77b4;\" x=\"112.772444\" xlink:href=\"#mabde2bb3af\" y=\"197.479692\"/>\r\n     <use style=\"fill:#1f77b4;stroke:#1f77b4;\" x=\"158.536805\" xlink:href=\"#mabde2bb3af\" y=\"151.832016\"/>\r\n     <use style=\"fill:#1f77b4;stroke:#1f77b4;\" x=\"98.163326\" xlink:href=\"#mabde2bb3af\" y=\"155.307428\"/>\r\n     <use style=\"fill:#1f77b4;stroke:#1f77b4;\" x=\"358.064631\" xlink:href=\"#mabde2bb3af\" y=\"73.739055\"/>\r\n     <use style=\"fill:#1f77b4;stroke:#1f77b4;\" x=\"233.894769\" xlink:href=\"#mabde2bb3af\" y=\"46.403445\"/>\r\n     <use style=\"fill:#1f77b4;stroke:#1f77b4;\" x=\"126.342198\" xlink:href=\"#mabde2bb3af\" y=\"200.281989\"/>\r\n     <use style=\"fill:#1f77b4;stroke:#1f77b4;\" x=\"225.083851\" xlink:href=\"#mabde2bb3af\" y=\"70.56221\"/>\r\n     <use style=\"fill:#1f77b4;stroke:#1f77b4;\" x=\"168.957315\" xlink:href=\"#mabde2bb3af\" y=\"159.707771\"/>\r\n     <use style=\"fill:#1f77b4;stroke:#1f77b4;\" x=\"83.91003\" xlink:href=\"#mabde2bb3af\" y=\"165.44717\"/>\r\n     <use style=\"fill:#1f77b4;stroke:#1f77b4;\" x=\"218.424351\" xlink:href=\"#mabde2bb3af\" y=\"72.076649\"/>\r\n     <use style=\"fill:#1f77b4;stroke:#1f77b4;\" x=\"294.989052\" xlink:href=\"#mabde2bb3af\" y=\"119.338255\"/>\r\n     <use style=\"fill:#1f77b4;stroke:#1f77b4;\" x=\"127.604827\" xlink:href=\"#mabde2bb3af\" y=\"148.736962\"/>\r\n     <use style=\"fill:#1f77b4;stroke:#1f77b4;\" x=\"100.153174\" xlink:href=\"#mabde2bb3af\" y=\"155.681522\"/>\r\n     <use style=\"fill:#1f77b4;stroke:#1f77b4;\" x=\"130.794997\" xlink:href=\"#mabde2bb3af\" y=\"172.790424\"/>\r\n     <use style=\"fill:#1f77b4;stroke:#1f77b4;\" x=\"327.269484\" xlink:href=\"#mabde2bb3af\" y=\"69.949825\"/>\r\n     <use style=\"fill:#1f77b4;stroke:#1f77b4;\" x=\"94.342757\" xlink:href=\"#mabde2bb3af\" y=\"187.998358\"/>\r\n     <use style=\"fill:#1f77b4;stroke:#1f77b4;\" x=\"224.595476\" xlink:href=\"#mabde2bb3af\" y=\"53.984264\"/>\r\n     <use style=\"fill:#1f77b4;stroke:#1f77b4;\" x=\"250.221294\" xlink:href=\"#mabde2bb3af\" y=\"74.764113\"/>\r\n     <use style=\"fill:#1f77b4;stroke:#1f77b4;\" x=\"321.561385\" xlink:href=\"#mabde2bb3af\" y=\"95.392\"/>\r\n     <use style=\"fill:#1f77b4;stroke:#1f77b4;\" x=\"241.089069\" xlink:href=\"#mabde2bb3af\" y=\"20.583636\"/>\r\n     <use style=\"fill:#1f77b4;stroke:#1f77b4;\" x=\"250.861772\" xlink:href=\"#mabde2bb3af\" y=\"74.524007\"/>\r\n     <use style=\"fill:#1f77b4;stroke:#1f77b4;\" x=\"252.576431\" xlink:href=\"#mabde2bb3af\" y=\"48.334915\"/>\r\n     <use style=\"fill:#1f77b4;stroke:#1f77b4;\" x=\"266.730464\" xlink:href=\"#mabde2bb3af\" y=\"57.680446\"/>\r\n     <use style=\"fill:#1f77b4;stroke:#1f77b4;\" x=\"280.41628\" xlink:href=\"#mabde2bb3af\" y=\"69.061932\"/>\r\n     <use style=\"fill:#1f77b4;stroke:#1f77b4;\" x=\"328.835095\" xlink:href=\"#mabde2bb3af\" y=\"71.890192\"/>\r\n     <use style=\"fill:#1f77b4;stroke:#1f77b4;\" x=\"164.289496\" xlink:href=\"#mabde2bb3af\" y=\"218.256364\"/>\r\n     <use style=\"fill:#1f77b4;stroke:#1f77b4;\" x=\"343.254849\" xlink:href=\"#mabde2bb3af\" y=\"110.383248\"/>\r\n     <use style=\"fill:#1f77b4;stroke:#1f77b4;\" x=\"53.700994\" xlink:href=\"#mabde2bb3af\" y=\"162.213408\"/>\r\n     <use style=\"fill:#1f77b4;stroke:#1f77b4;\" x=\"282.722549\" xlink:href=\"#mabde2bb3af\" y=\"85.471304\"/>\r\n     <use style=\"fill:#1f77b4;stroke:#1f77b4;\" x=\"153.01868\" xlink:href=\"#mabde2bb3af\" y=\"187.644508\"/>\r\n     <use style=\"fill:#1f77b4;stroke:#1f77b4;\" x=\"275.621404\" xlink:href=\"#mabde2bb3af\" y=\"75.411265\"/>\r\n     <use style=\"fill:#1f77b4;stroke:#1f77b4;\" x=\"159.921604\" xlink:href=\"#mabde2bb3af\" y=\"163.299468\"/>\r\n     <use style=\"fill:#1f77b4;stroke:#1f77b4;\" x=\"193.551407\" xlink:href=\"#mabde2bb3af\" y=\"173.320837\"/>\r\n     <use style=\"fill:#1f77b4;stroke:#1f77b4;\" x=\"139.374097\" xlink:href=\"#mabde2bb3af\" y=\"188.519148\"/>\r\n     <use style=\"fill:#1f77b4;stroke:#1f77b4;\" x=\"227.02086\" xlink:href=\"#mabde2bb3af\" y=\"79.773481\"/>\r\n     <use style=\"fill:#1f77b4;stroke:#1f77b4;\" x=\"282.979106\" xlink:href=\"#mabde2bb3af\" y=\"99.831105\"/>\r\n     <use style=\"fill:#1f77b4;stroke:#1f77b4;\" x=\"229.495113\" xlink:href=\"#mabde2bb3af\" y=\"86.124992\"/>\r\n     <use style=\"fill:#1f77b4;stroke:#1f77b4;\" x=\"208.767405\" xlink:href=\"#mabde2bb3af\" y=\"67.227412\"/>\r\n     <use style=\"fill:#1f77b4;stroke:#1f77b4;\" x=\"75.549615\" xlink:href=\"#mabde2bb3af\" y=\"177.813409\"/>\r\n     <use style=\"fill:#1f77b4;stroke:#1f77b4;\" x=\"222.688703\" xlink:href=\"#mabde2bb3af\" y=\"41.445911\"/>\r\n     <use style=\"fill:#1f77b4;stroke:#1f77b4;\" x=\"176.151615\" xlink:href=\"#mabde2bb3af\" y=\"178.784182\"/>\r\n     <use style=\"fill:#1f77b4;stroke:#1f77b4;\" x=\"177.83054\" xlink:href=\"#mabde2bb3af\" y=\"200.995318\"/>\r\n     <use style=\"fill:#1f77b4;stroke:#1f77b4;\" x=\"252.803973\" xlink:href=\"#mabde2bb3af\" y=\"76.570129\"/>\r\n     <use style=\"fill:#1f77b4;stroke:#1f77b4;\" x=\"159.86785\" xlink:href=\"#mabde2bb3af\" y=\"181.667726\"/>\r\n     <use style=\"fill:#1f77b4;stroke:#1f77b4;\" x=\"78.65335\" xlink:href=\"#mabde2bb3af\" y=\"192.229764\"/>\r\n     <use style=\"fill:#1f77b4;stroke:#1f77b4;\" x=\"304.581859\" xlink:href=\"#mabde2bb3af\" y=\"51.465736\"/>\r\n     <use style=\"fill:#1f77b4;stroke:#1f77b4;\" x=\"68.29423\" xlink:href=\"#mabde2bb3af\" y=\"161.887245\"/>\r\n     <use style=\"fill:#1f77b4;stroke:#1f77b4;\" x=\"93.628672\" xlink:href=\"#mabde2bb3af\" y=\"151.017108\"/>\r\n     <use style=\"fill:#1f77b4;stroke:#1f77b4;\" x=\"289.852404\" xlink:href=\"#mabde2bb3af\" y=\"65.531872\"/>\r\n     <use style=\"fill:#1f77b4;stroke:#1f77b4;\" x=\"294.801215\" xlink:href=\"#mabde2bb3af\" y=\"117.577174\"/>\r\n     <use style=\"fill:#1f77b4;stroke:#1f77b4;\" x=\"83.253975\" xlink:href=\"#mabde2bb3af\" y=\"147.120398\"/>\r\n     <use style=\"fill:#1f77b4;stroke:#1f77b4;\" x=\"244.762117\" xlink:href=\"#mabde2bb3af\" y=\"54.748609\"/>\r\n     <use style=\"fill:#1f77b4;stroke:#1f77b4;\" x=\"233.700824\" xlink:href=\"#mabde2bb3af\" y=\"60.097121\"/>\r\n     <use style=\"fill:#1f77b4;stroke:#1f77b4;\" x=\"152.337276\" xlink:href=\"#mabde2bb3af\" y=\"151.328474\"/>\r\n     <use style=\"fill:#1f77b4;stroke:#1f77b4;\" x=\"304.824672\" xlink:href=\"#mabde2bb3af\" y=\"69.098969\"/>\r\n     <use style=\"fill:#1f77b4;stroke:#1f77b4;\" x=\"163.681394\" xlink:href=\"#mabde2bb3af\" y=\"186.335952\"/>\r\n     <use style=\"fill:#1f77b4;stroke:#1f77b4;\" x=\"343.830576\" xlink:href=\"#mabde2bb3af\" y=\"74.885301\"/>\r\n     <use style=\"fill:#1f77b4;stroke:#1f77b4;\" x=\"214.743056\" xlink:href=\"#mabde2bb3af\" y=\"87.897874\"/>\r\n     <use style=\"fill:#1f77b4;stroke:#1f77b4;\" x=\"316.310508\" xlink:href=\"#mabde2bb3af\" y=\"102.610163\"/>\r\n     <use style=\"fill:#1f77b4;stroke:#1f77b4;\" x=\"55.780943\" xlink:href=\"#mabde2bb3af\" y=\"159.195332\"/>\r\n     <use style=\"fill:#1f77b4;stroke:#1f77b4;\" x=\"187.518029\" xlink:href=\"#mabde2bb3af\" y=\"164.654321\"/>\r\n     <use style=\"fill:#1f77b4;stroke:#1f77b4;\" x=\"229.118829\" xlink:href=\"#mabde2bb3af\" y=\"70.961539\"/>\r\n     <use style=\"fill:#1f77b4;stroke:#1f77b4;\" x=\"217.548085\" xlink:href=\"#mabde2bb3af\" y=\"89.012257\"/>\r\n     <use style=\"fill:#1f77b4;stroke:#1f77b4;\" x=\"292.523351\" xlink:href=\"#mabde2bb3af\" y=\"87.30882\"/>\r\n     <use style=\"fill:#1f77b4;stroke:#1f77b4;\" x=\"355.966662\" xlink:href=\"#mabde2bb3af\" y=\"100.184864\"/>\r\n     <use style=\"fill:#1f77b4;stroke:#1f77b4;\" x=\"286.203179\" xlink:href=\"#mabde2bb3af\" y=\"71.675776\"/>\r\n     <use style=\"fill:#1f77b4;stroke:#1f77b4;\" x=\"354.603548\" xlink:href=\"#mabde2bb3af\" y=\"56.272308\"/>\r\n     <use style=\"fill:#1f77b4;stroke:#1f77b4;\" x=\"94.11155\" xlink:href=\"#mabde2bb3af\" y=\"197.641548\"/>\r\n     <use style=\"fill:#1f77b4;stroke:#1f77b4;\" x=\"159.607932\" xlink:href=\"#mabde2bb3af\" y=\"181.393941\"/>\r\n     <use style=\"fill:#1f77b4;stroke:#1f77b4;\" x=\"288.43584\" xlink:href=\"#mabde2bb3af\" y=\"86.069164\"/>\r\n     <use style=\"fill:#1f77b4;stroke:#1f77b4;\" x=\"312.911732\" xlink:href=\"#mabde2bb3af\" y=\"61.445438\"/>\r\n     <use style=\"fill:#1f77b4;stroke:#1f77b4;\" x=\"190.851139\" xlink:href=\"#mabde2bb3af\" y=\"161.469487\"/>\r\n     <use style=\"fill:#1f77b4;stroke:#1f77b4;\" x=\"73.840148\" xlink:href=\"#mabde2bb3af\" y=\"162.981748\"/>\r\n     <use style=\"fill:#1f77b4;stroke:#1f77b4;\" x=\"302.160139\" xlink:href=\"#mabde2bb3af\" y=\"103.598638\"/>\r\n     <use style=\"fill:#1f77b4;stroke:#1f77b4;\" x=\"255.797755\" xlink:href=\"#mabde2bb3af\" y=\"98.112144\"/>\r\n     <use style=\"fill:#1f77b4;stroke:#1f77b4;\" x=\"215.349632\" xlink:href=\"#mabde2bb3af\" y=\"74.948845\"/>\r\n     <use style=\"fill:#1f77b4;stroke:#1f77b4;\" x=\"312.158552\" xlink:href=\"#mabde2bb3af\" y=\"102.379589\"/>\r\n     <use style=\"fill:#1f77b4;stroke:#1f77b4;\" x=\"190.660553\" xlink:href=\"#mabde2bb3af\" y=\"165.293393\"/>\r\n     <use style=\"fill:#1f77b4;stroke:#1f77b4;\" x=\"296.464868\" xlink:href=\"#mabde2bb3af\" y=\"80.076405\"/>\r\n     <use style=\"fill:#1f77b4;stroke:#1f77b4;\" x=\"89.717392\" xlink:href=\"#mabde2bb3af\" y=\"174.769008\"/>\r\n     <use style=\"fill:#1f77b4;stroke:#1f77b4;\" x=\"79.361021\" xlink:href=\"#mabde2bb3af\" y=\"169.516448\"/>\r\n     <use style=\"fill:#1f77b4;stroke:#1f77b4;\" x=\"311.96308\" xlink:href=\"#mabde2bb3af\" y=\"81.265951\"/>\r\n     <use style=\"fill:#1f77b4;stroke:#1f77b4;\" x=\"229.843604\" xlink:href=\"#mabde2bb3af\" y=\"55.711031\"/>\r\n     <use style=\"fill:#1f77b4;stroke:#1f77b4;\" x=\"289.443439\" xlink:href=\"#mabde2bb3af\" y=\"49.820578\"/>\r\n     <use style=\"fill:#1f77b4;stroke:#1f77b4;\" x=\"266.403659\" xlink:href=\"#mabde2bb3af\" y=\"90.996741\"/>\r\n     <use style=\"fill:#1f77b4;stroke:#1f77b4;\" x=\"235.361423\" xlink:href=\"#mabde2bb3af\" y=\"57.589578\"/>\r\n     <use style=\"fill:#1f77b4;stroke:#1f77b4;\" x=\"251.751477\" xlink:href=\"#mabde2bb3af\" y=\"50.874594\"/>\r\n     <use style=\"fill:#1f77b4;stroke:#1f77b4;\" x=\"327.624999\" xlink:href=\"#mabde2bb3af\" y=\"55.159105\"/>\r\n     <use style=\"fill:#1f77b4;stroke:#1f77b4;\" x=\"222.526828\" xlink:href=\"#mabde2bb3af\" y=\"73.682319\"/>\r\n     <use style=\"fill:#1f77b4;stroke:#1f77b4;\" x=\"155.330752\" xlink:href=\"#mabde2bb3af\" y=\"148.671148\"/>\r\n     <use style=\"fill:#1f77b4;stroke:#1f77b4;\" x=\"73.670026\" xlink:href=\"#mabde2bb3af\" y=\"195.607953\"/>\r\n     <use style=\"fill:#1f77b4;stroke:#1f77b4;\" x=\"138.739728\" xlink:href=\"#mabde2bb3af\" y=\"144.718338\"/>\r\n     <use style=\"fill:#1f77b4;stroke:#1f77b4;\" x=\"289.774826\" xlink:href=\"#mabde2bb3af\" y=\"64.172572\"/>\r\n     <use style=\"fill:#1f77b4;stroke:#1f77b4;\" x=\"115.842582\" xlink:href=\"#mabde2bb3af\" y=\"173.555042\"/>\r\n     <use style=\"fill:#1f77b4;stroke:#1f77b4;\" x=\"162.265746\" xlink:href=\"#mabde2bb3af\" y=\"178.58075\"/>\r\n     <use style=\"fill:#1f77b4;stroke:#1f77b4;\" x=\"355.650241\" xlink:href=\"#mabde2bb3af\" y=\"70.69538\"/>\r\n     <use style=\"fill:#1f77b4;stroke:#1f77b4;\" x=\"212.064474\" xlink:href=\"#mabde2bb3af\" y=\"73.589635\"/>\r\n     <use style=\"fill:#1f77b4;stroke:#1f77b4;\" x=\"210.790238\" xlink:href=\"#mabde2bb3af\" y=\"62.744553\"/>\r\n     <use style=\"fill:#1f77b4;stroke:#1f77b4;\" x=\"351.851358\" xlink:href=\"#mabde2bb3af\" y=\"89.409227\"/>\r\n     <use style=\"fill:#1f77b4;stroke:#1f77b4;\" x=\"334.338254\" xlink:href=\"#mabde2bb3af\" y=\"65.761539\"/>\r\n     <use style=\"fill:#1f77b4;stroke:#1f77b4;\" x=\"266.748484\" xlink:href=\"#mabde2bb3af\" y=\"92.596057\"/>\r\n     <use style=\"fill:#1f77b4;stroke:#1f77b4;\" x=\"337.094109\" xlink:href=\"#mabde2bb3af\" y=\"87.565175\"/>\r\n     <use style=\"fill:#1f77b4;stroke:#1f77b4;\" x=\"328.595642\" xlink:href=\"#mabde2bb3af\" y=\"77.24869\"/>\r\n     <use style=\"fill:#1f77b4;stroke:#1f77b4;\" x=\"158.727085\" xlink:href=\"#mabde2bb3af\" y=\"173.328371\"/>\r\n     <use style=\"fill:#1f77b4;stroke:#1f77b4;\" x=\"98.84748\" xlink:href=\"#mabde2bb3af\" y=\"149.196386\"/>\r\n     <use style=\"fill:#1f77b4;stroke:#1f77b4;\" x=\"93.350735\" xlink:href=\"#mabde2bb3af\" y=\"170.117394\"/>\r\n     <use style=\"fill:#1f77b4;stroke:#1f77b4;\" x=\"145.868362\" xlink:href=\"#mabde2bb3af\" y=\"138.953339\"/>\r\n     <use style=\"fill:#1f77b4;stroke:#1f77b4;\" x=\"156.588495\" xlink:href=\"#mabde2bb3af\" y=\"165.351672\"/>\r\n     <use style=\"fill:#1f77b4;stroke:#1f77b4;\" x=\"149.815377\" xlink:href=\"#mabde2bb3af\" y=\"167.91922\"/>\r\n     <use style=\"fill:#1f77b4;stroke:#1f77b4;\" x=\"135.997006\" xlink:href=\"#mabde2bb3af\" y=\"182.808434\"/>\r\n     <use style=\"fill:#1f77b4;stroke:#1f77b4;\" x=\"113.49447\" xlink:href=\"#mabde2bb3af\" y=\"172.176225\"/>\r\n     <use style=\"fill:#1f77b4;stroke:#1f77b4;\" x=\"93.048058\" xlink:href=\"#mabde2bb3af\" y=\"140.04521\"/>\r\n     <use style=\"fill:#1f77b4;stroke:#1f77b4;\" x=\"339.747036\" xlink:href=\"#mabde2bb3af\" y=\"74.581015\"/>\r\n     <use style=\"fill:#1f77b4;stroke:#1f77b4;\" x=\"146.949263\" xlink:href=\"#mabde2bb3af\" y=\"178.271381\"/>\r\n     <use style=\"fill:#1f77b4;stroke:#1f77b4;\" x=\"262.516507\" xlink:href=\"#mabde2bb3af\" y=\"39.348137\"/>\r\n     <use style=\"fill:#1f77b4;stroke:#1f77b4;\" x=\"243.725808\" xlink:href=\"#mabde2bb3af\" y=\"98.176596\"/>\r\n     <use style=\"fill:#1f77b4;stroke:#1f77b4;\" x=\"329.285903\" xlink:href=\"#mabde2bb3af\" y=\"89.528145\"/>\r\n     <use style=\"fill:#1f77b4;stroke:#1f77b4;\" x=\"271.246182\" xlink:href=\"#mabde2bb3af\" y=\"83.00225\"/>\r\n     <use style=\"fill:#1f77b4;stroke:#1f77b4;\" x=\"233.849566\" xlink:href=\"#mabde2bb3af\" y=\"103.69577\"/>\r\n     <use style=\"fill:#1f77b4;stroke:#1f77b4;\" x=\"274.488885\" xlink:href=\"#mabde2bb3af\" y=\"49.07348\"/>\r\n     <use style=\"fill:#1f77b4;stroke:#1f77b4;\" x=\"111.116121\" xlink:href=\"#mabde2bb3af\" y=\"157.421996\"/>\r\n     <use style=\"fill:#1f77b4;stroke:#1f77b4;\" x=\"250.201747\" xlink:href=\"#mabde2bb3af\" y=\"96.704006\"/>\r\n     <use style=\"fill:#1f77b4;stroke:#1f77b4;\" x=\"212.51406\" xlink:href=\"#mabde2bb3af\" y=\"57.941613\"/>\r\n     <use style=\"fill:#1f77b4;stroke:#1f77b4;\" x=\"124.828814\" xlink:href=\"#mabde2bb3af\" y=\"199.345893\"/>\r\n     <use style=\"fill:#1f77b4;stroke:#1f77b4;\" x=\"195.84332\" xlink:href=\"#mabde2bb3af\" y=\"181.625514\"/>\r\n     <use style=\"fill:#1f77b4;stroke:#1f77b4;\" x=\"323.782134\" xlink:href=\"#mabde2bb3af\" y=\"66.268077\"/>\r\n     <use style=\"fill:#1f77b4;stroke:#1f77b4;\" x=\"256.187783\" xlink:href=\"#mabde2bb3af\" y=\"104.049529\"/>\r\n     <use style=\"fill:#1f77b4;stroke:#1f77b4;\" x=\"135.745336\" xlink:href=\"#mabde2bb3af\" y=\"161.074696\"/>\r\n     <use style=\"fill:#1f77b4;stroke:#1f77b4;\" x=\"276.356258\" xlink:href=\"#mabde2bb3af\" y=\"83.141503\"/>\r\n     <use style=\"fill:#1f77b4;stroke:#1f77b4;\" x=\"184.85991\" xlink:href=\"#mabde2bb3af\" y=\"184.867991\"/>\r\n     <use style=\"fill:#1f77b4;stroke:#1f77b4;\" x=\"278.785918\" xlink:href=\"#mabde2bb3af\" y=\"58.738275\"/>\r\n     <use style=\"fill:#1f77b4;stroke:#1f77b4;\" x=\"169.26213\" xlink:href=\"#mabde2bb3af\" y=\"194.620658\"/>\r\n     <use style=\"fill:#1f77b4;stroke:#1f77b4;\" x=\"337.728172\" xlink:href=\"#mabde2bb3af\" y=\"73.728888\"/>\r\n     <use style=\"fill:#1f77b4;stroke:#1f77b4;\" x=\"290.120873\" xlink:href=\"#mabde2bb3af\" y=\"91.782874\"/>\r\n     <use style=\"fill:#1f77b4;stroke:#1f77b4;\" x=\"137.297814\" xlink:href=\"#mabde2bb3af\" y=\"175.522823\"/>\r\n     <use style=\"fill:#1f77b4;stroke:#1f77b4;\" x=\"305.435218\" xlink:href=\"#mabde2bb3af\" y=\"69.507013\"/>\r\n     <use style=\"fill:#1f77b4;stroke:#1f77b4;\" x=\"244.829311\" xlink:href=\"#mabde2bb3af\" y=\"91.439644\"/>\r\n     <use style=\"fill:#1f77b4;stroke:#1f77b4;\" x=\"261.132624\" xlink:href=\"#mabde2bb3af\" y=\"49.076294\"/>\r\n     <use style=\"fill:#1f77b4;stroke:#1f77b4;\" x=\"230.242489\" xlink:href=\"#mabde2bb3af\" y=\"84.055722\"/>\r\n     <use style=\"fill:#1f77b4;stroke:#1f77b4;\" x=\"293.553857\" xlink:href=\"#mabde2bb3af\" y=\"61.95951\"/>\r\n     <use style=\"fill:#1f77b4;stroke:#1f77b4;\" x=\"236.093528\" xlink:href=\"#mabde2bb3af\" y=\"79.25496\"/>\r\n     <use style=\"fill:#1f77b4;stroke:#1f77b4;\" x=\"57.930833\" xlink:href=\"#mabde2bb3af\" y=\"179.772294\"/>\r\n     <use style=\"fill:#1f77b4;stroke:#1f77b4;\" x=\"256.392419\" xlink:href=\"#mabde2bb3af\" y=\"59.977568\"/>\r\n     <use style=\"fill:#1f77b4;stroke:#1f77b4;\" x=\"222.340824\" xlink:href=\"#mabde2bb3af\" y=\"43.410606\"/>\r\n     <use style=\"fill:#1f77b4;stroke:#1f77b4;\" x=\"262.505817\" xlink:href=\"#mabde2bb3af\" y=\"76.966009\"/>\r\n     <use style=\"fill:#1f77b4;stroke:#1f77b4;\" x=\"117.870913\" xlink:href=\"#mabde2bb3af\" y=\"168.368295\"/>\r\n     <use style=\"fill:#1f77b4;stroke:#1f77b4;\" x=\"238.268158\" xlink:href=\"#mabde2bb3af\" y=\"57.657661\"/>\r\n     <use style=\"fill:#1f77b4;stroke:#1f77b4;\" x=\"130.213162\" xlink:href=\"#mabde2bb3af\" y=\"163.539302\"/>\r\n    </g>\r\n   </g>\r\n   <g id=\"patch_3\">\r\n    <path d=\"M 38.482813 228.14 \r\nL 38.482813 10.7 \r\n\" style=\"fill:none;stroke:#000000;stroke-linecap:square;stroke-linejoin:miter;stroke-width:0.8;\"/>\r\n   </g>\r\n   <g id=\"patch_4\">\r\n    <path d=\"M 373.282813 228.14 \r\nL 373.282813 10.7 \r\n\" style=\"fill:none;stroke:#000000;stroke-linecap:square;stroke-linejoin:miter;stroke-width:0.8;\"/>\r\n   </g>\r\n   <g id=\"patch_5\">\r\n    <path d=\"M 38.482813 228.14 \r\nL 373.282812 228.14 \r\n\" style=\"fill:none;stroke:#000000;stroke-linecap:square;stroke-linejoin:miter;stroke-width:0.8;\"/>\r\n   </g>\r\n   <g id=\"patch_6\">\r\n    <path d=\"M 38.482813 10.7 \r\nL 373.282812 10.7 \r\n\" style=\"fill:none;stroke:#000000;stroke-linecap:square;stroke-linejoin:miter;stroke-width:0.8;\"/>\r\n   </g>\r\n  </g>\r\n </g>\r\n <defs>\r\n  <clipPath id=\"pc2745f0be4\">\r\n   <rect height=\"217.44\" width=\"334.8\" x=\"38.482813\" y=\"10.7\"/>\r\n  </clipPath>\r\n </defs>\r\n</svg>\r\n",
      "image/png": "[encoded data removed]"
     },
     "metadata": {}
    }
   ],
   "source": [
    "import matplotlib.pyplot as plt\n",
    "\n",
    "plt.plot(dataMat[:,0], dataMat[:,1], 'o')"
   ]
  },
  {
   "cell_type": "code",
   "execution_count": 11,
   "metadata": {},
   "outputs": [
    {
     "output_type": "stream",
     "name": "stdout",
     "text": [
      "2.00369868\n"
     ]
    }
   ],
   "source": [
    "dataMat = loadDataSet('./data/ex0.txt')\n",
    "dataMat = np.mat(dataMat)\n",
    "regTree = createTree(dataMat)\n",
    "print(regTree)"
   ]
  },
  {
   "cell_type": "code",
   "execution_count": 14,
   "metadata": {},
   "outputs": [
    {
     "output_type": "execute_result",
     "data": {
      "text/plain": [
       "[<matplotlib.lines.Line2D at 0x126b2ba89b0>]"
      ]
     },
     "metadata": {},
     "execution_count": 14
    },
    {
     "output_type": "display_data",
     "data": {
      "text/plain": "<Figure size 432x288 with 1 Axes>",
      "image/svg+xml": "<?xml version=\"1.0\" encoding=\"utf-8\" standalone=\"no\"?>\r\n<!DOCTYPE svg PUBLIC \"-//W3C//DTD SVG 1.1//EN\"\r\n  \"http://www.w3.org/Graphics/SVG/1.1/DTD/svg11.dtd\">\r\n<!-- Created with matplotlib (http://matplotlib.org/) -->\r\n<svg height=\"252.018125pt\" version=\"1.1\" viewBox=\"0 0 366.0625 252.018125\" width=\"366.0625pt\" xmlns=\"http://www.w3.org/2000/svg\" xmlns:xlink=\"http://www.w3.org/1999/xlink\">\r\n <defs>\r\n  <style type=\"text/css\">\r\n*{stroke-linecap:butt;stroke-linejoin:round;}\r\n  </style>\r\n </defs>\r\n <g id=\"figure_1\">\r\n  <g id=\"patch_1\">\r\n   <path d=\"M 0 252.018125 \r\nL 366.0625 252.018125 \r\nL 366.0625 0 \r\nL 0 0 \r\nz\r\n\" style=\"fill:none;\"/>\r\n  </g>\r\n  <g id=\"axes_1\">\r\n   <g id=\"patch_2\">\r\n    <path d=\"M 20.5625 228.14 \r\nL 355.3625 228.14 \r\nL 355.3625 10.7 \r\nL 20.5625 10.7 \r\nz\r\n\" style=\"fill:#ffffff;\"/>\r\n   </g>\r\n   <g id=\"matplotlib.axis_1\">\r\n    <g id=\"xtick_1\">\r\n     <g id=\"line2d_1\">\r\n      <defs>\r\n       <path d=\"M 0 0 \r\nL 0 3.5 \r\n\" id=\"m332bd64d34\" style=\"stroke:#000000;stroke-width:0.8;\"/>\r\n      </defs>\r\n      <g>\r\n       <use style=\"stroke:#000000;stroke-width:0.8;\" x=\"34.45626\" xlink:href=\"#m332bd64d34\" y=\"228.14\"/>\r\n      </g>\r\n     </g>\r\n     <g id=\"text_1\">\r\n      <!-- 0.0 -->\r\n      <defs>\r\n       <path d=\"M 31.78125 66.40625 \r\nQ 24.171875 66.40625 20.328125 58.90625 \r\nQ 16.5 51.421875 16.5 36.375 \r\nQ 16.5 21.390625 20.328125 13.890625 \r\nQ 24.171875 6.390625 31.78125 6.390625 \r\nQ 39.453125 6.390625 43.28125 13.890625 \r\nQ 47.125 21.390625 47.125 36.375 \r\nQ 47.125 51.421875 43.28125 58.90625 \r\nQ 39.453125 66.40625 31.78125 66.40625 \r\nz\r\nM 31.78125 74.21875 \r\nQ 44.046875 74.21875 50.515625 64.515625 \r\nQ 56.984375 54.828125 56.984375 36.375 \r\nQ 56.984375 17.96875 50.515625 8.265625 \r\nQ 44.046875 -1.421875 31.78125 -1.421875 \r\nQ 19.53125 -1.421875 13.0625 8.265625 \r\nQ 6.59375 17.96875 6.59375 36.375 \r\nQ 6.59375 54.828125 13.0625 64.515625 \r\nQ 19.53125 74.21875 31.78125 74.21875 \r\nz\r\n\" id=\"DejaVuSans-30\"/>\r\n       <path d=\"M 10.6875 12.40625 \r\nL 21 12.40625 \r\nL 21 0 \r\nL 10.6875 0 \r\nz\r\n\" id=\"DejaVuSans-2e\"/>\r\n      </defs>\r\n      <g transform=\"translate(26.504697 242.738437)scale(0.1 -0.1)\">\r\n       <use xlink:href=\"#DejaVuSans-30\"/>\r\n       <use x=\"63.623047\" xlink:href=\"#DejaVuSans-2e\"/>\r\n       <use x=\"95.410156\" xlink:href=\"#DejaVuSans-30\"/>\r\n      </g>\r\n     </g>\r\n    </g>\r\n    <g id=\"xtick_2\">\r\n     <g id=\"line2d_2\">\r\n      <g>\r\n       <use style=\"stroke:#000000;stroke-width:0.8;\" x=\"95.672902\" xlink:href=\"#m332bd64d34\" y=\"228.14\"/>\r\n      </g>\r\n     </g>\r\n     <g id=\"text_2\">\r\n      <!-- 0.2 -->\r\n      <defs>\r\n       <path d=\"M 19.1875 8.296875 \r\nL 53.609375 8.296875 \r\nL 53.609375 0 \r\nL 7.328125 0 \r\nL 7.328125 8.296875 \r\nQ 12.9375 14.109375 22.625 23.890625 \r\nQ 32.328125 33.6875 34.8125 36.53125 \r\nQ 39.546875 41.84375 41.421875 45.53125 \r\nQ 43.3125 49.21875 43.3125 52.78125 \r\nQ 43.3125 58.59375 39.234375 62.25 \r\nQ 35.15625 65.921875 28.609375 65.921875 \r\nQ 23.96875 65.921875 18.8125 64.3125 \r\nQ 13.671875 62.703125 7.8125 59.421875 \r\nL 7.8125 69.390625 \r\nQ 13.765625 71.78125 18.9375 73 \r\nQ 24.125 74.21875 28.421875 74.21875 \r\nQ 39.75 74.21875 46.484375 68.546875 \r\nQ 53.21875 62.890625 53.21875 53.421875 \r\nQ 53.21875 48.921875 51.53125 44.890625 \r\nQ 49.859375 40.875 45.40625 35.40625 \r\nQ 44.1875 33.984375 37.640625 27.21875 \r\nQ 31.109375 20.453125 19.1875 8.296875 \r\nz\r\n\" id=\"DejaVuSans-32\"/>\r\n      </defs>\r\n      <g transform=\"translate(87.72134 242.738437)scale(0.1 -0.1)\">\r\n       <use xlink:href=\"#DejaVuSans-30\"/>\r\n       <use x=\"63.623047\" xlink:href=\"#DejaVuSans-2e\"/>\r\n       <use x=\"95.410156\" xlink:href=\"#DejaVuSans-32\"/>\r\n      </g>\r\n     </g>\r\n    </g>\r\n    <g id=\"xtick_3\">\r\n     <g id=\"line2d_3\">\r\n      <g>\r\n       <use style=\"stroke:#000000;stroke-width:0.8;\" x=\"156.889544\" xlink:href=\"#m332bd64d34\" y=\"228.14\"/>\r\n      </g>\r\n     </g>\r\n     <g id=\"text_3\">\r\n      <!-- 0.4 -->\r\n      <defs>\r\n       <path d=\"M 37.796875 64.3125 \r\nL 12.890625 25.390625 \r\nL 37.796875 25.390625 \r\nz\r\nM 35.203125 72.90625 \r\nL 47.609375 72.90625 \r\nL 47.609375 25.390625 \r\nL 58.015625 25.390625 \r\nL 58.015625 17.1875 \r\nL 47.609375 17.1875 \r\nL 47.609375 0 \r\nL 37.796875 0 \r\nL 37.796875 17.1875 \r\nL 4.890625 17.1875 \r\nL 4.890625 26.703125 \r\nz\r\n\" id=\"DejaVuSans-34\"/>\r\n      </defs>\r\n      <g transform=\"translate(148.937982 242.738437)scale(0.1 -0.1)\">\r\n       <use xlink:href=\"#DejaVuSans-30\"/>\r\n       <use x=\"63.623047\" xlink:href=\"#DejaVuSans-2e\"/>\r\n       <use x=\"95.410156\" xlink:href=\"#DejaVuSans-34\"/>\r\n      </g>\r\n     </g>\r\n    </g>\r\n    <g id=\"xtick_4\">\r\n     <g id=\"line2d_4\">\r\n      <g>\r\n       <use style=\"stroke:#000000;stroke-width:0.8;\" x=\"218.106187\" xlink:href=\"#m332bd64d34\" y=\"228.14\"/>\r\n      </g>\r\n     </g>\r\n     <g id=\"text_4\">\r\n      <!-- 0.6 -->\r\n      <defs>\r\n       <path d=\"M 33.015625 40.375 \r\nQ 26.375 40.375 22.484375 35.828125 \r\nQ 18.609375 31.296875 18.609375 23.390625 \r\nQ 18.609375 15.53125 22.484375 10.953125 \r\nQ 26.375 6.390625 33.015625 6.390625 \r\nQ 39.65625 6.390625 43.53125 10.953125 \r\nQ 47.40625 15.53125 47.40625 23.390625 \r\nQ 47.40625 31.296875 43.53125 35.828125 \r\nQ 39.65625 40.375 33.015625 40.375 \r\nz\r\nM 52.59375 71.296875 \r\nL 52.59375 62.3125 \r\nQ 48.875 64.0625 45.09375 64.984375 \r\nQ 41.3125 65.921875 37.59375 65.921875 \r\nQ 27.828125 65.921875 22.671875 59.328125 \r\nQ 17.53125 52.734375 16.796875 39.40625 \r\nQ 19.671875 43.65625 24.015625 45.921875 \r\nQ 28.375 48.1875 33.59375 48.1875 \r\nQ 44.578125 48.1875 50.953125 41.515625 \r\nQ 57.328125 34.859375 57.328125 23.390625 \r\nQ 57.328125 12.15625 50.6875 5.359375 \r\nQ 44.046875 -1.421875 33.015625 -1.421875 \r\nQ 20.359375 -1.421875 13.671875 8.265625 \r\nQ 6.984375 17.96875 6.984375 36.375 \r\nQ 6.984375 53.65625 15.1875 63.9375 \r\nQ 23.390625 74.21875 37.203125 74.21875 \r\nQ 40.921875 74.21875 44.703125 73.484375 \r\nQ 48.484375 72.75 52.59375 71.296875 \r\nz\r\n\" id=\"DejaVuSans-36\"/>\r\n      </defs>\r\n      <g transform=\"translate(210.154624 242.738437)scale(0.1 -0.1)\">\r\n       <use xlink:href=\"#DejaVuSans-30\"/>\r\n       <use x=\"63.623047\" xlink:href=\"#DejaVuSans-2e\"/>\r\n       <use x=\"95.410156\" xlink:href=\"#DejaVuSans-36\"/>\r\n      </g>\r\n     </g>\r\n    </g>\r\n    <g id=\"xtick_5\">\r\n     <g id=\"line2d_5\">\r\n      <g>\r\n       <use style=\"stroke:#000000;stroke-width:0.8;\" x=\"279.322829\" xlink:href=\"#m332bd64d34\" y=\"228.14\"/>\r\n      </g>\r\n     </g>\r\n     <g id=\"text_5\">\r\n      <!-- 0.8 -->\r\n      <defs>\r\n       <path d=\"M 31.78125 34.625 \r\nQ 24.75 34.625 20.71875 30.859375 \r\nQ 16.703125 27.09375 16.703125 20.515625 \r\nQ 16.703125 13.921875 20.71875 10.15625 \r\nQ 24.75 6.390625 31.78125 6.390625 \r\nQ 38.8125 6.390625 42.859375 10.171875 \r\nQ 46.921875 13.96875 46.921875 20.515625 \r\nQ 46.921875 27.09375 42.890625 30.859375 \r\nQ 38.875 34.625 31.78125 34.625 \r\nz\r\nM 21.921875 38.8125 \r\nQ 15.578125 40.375 12.03125 44.71875 \r\nQ 8.5 49.078125 8.5 55.328125 \r\nQ 8.5 64.0625 14.71875 69.140625 \r\nQ 20.953125 74.21875 31.78125 74.21875 \r\nQ 42.671875 74.21875 48.875 69.140625 \r\nQ 55.078125 64.0625 55.078125 55.328125 \r\nQ 55.078125 49.078125 51.53125 44.71875 \r\nQ 48 40.375 41.703125 38.8125 \r\nQ 48.828125 37.15625 52.796875 32.3125 \r\nQ 56.78125 27.484375 56.78125 20.515625 \r\nQ 56.78125 9.90625 50.3125 4.234375 \r\nQ 43.84375 -1.421875 31.78125 -1.421875 \r\nQ 19.734375 -1.421875 13.25 4.234375 \r\nQ 6.78125 9.90625 6.78125 20.515625 \r\nQ 6.78125 27.484375 10.78125 32.3125 \r\nQ 14.796875 37.15625 21.921875 38.8125 \r\nz\r\nM 18.3125 54.390625 \r\nQ 18.3125 48.734375 21.84375 45.5625 \r\nQ 25.390625 42.390625 31.78125 42.390625 \r\nQ 38.140625 42.390625 41.71875 45.5625 \r\nQ 45.3125 48.734375 45.3125 54.390625 \r\nQ 45.3125 60.0625 41.71875 63.234375 \r\nQ 38.140625 66.40625 31.78125 66.40625 \r\nQ 25.390625 66.40625 21.84375 63.234375 \r\nQ 18.3125 60.0625 18.3125 54.390625 \r\nz\r\n\" id=\"DejaVuSans-38\"/>\r\n      </defs>\r\n      <g transform=\"translate(271.371267 242.738437)scale(0.1 -0.1)\">\r\n       <use xlink:href=\"#DejaVuSans-30\"/>\r\n       <use x=\"63.623047\" xlink:href=\"#DejaVuSans-2e\"/>\r\n       <use x=\"95.410156\" xlink:href=\"#DejaVuSans-38\"/>\r\n      </g>\r\n     </g>\r\n    </g>\r\n    <g id=\"xtick_6\">\r\n     <g id=\"line2d_6\">\r\n      <g>\r\n       <use style=\"stroke:#000000;stroke-width:0.8;\" x=\"340.539472\" xlink:href=\"#m332bd64d34\" y=\"228.14\"/>\r\n      </g>\r\n     </g>\r\n     <g id=\"text_6\">\r\n      <!-- 1.0 -->\r\n      <defs>\r\n       <path d=\"M 12.40625 8.296875 \r\nL 28.515625 8.296875 \r\nL 28.515625 63.921875 \r\nL 10.984375 60.40625 \r\nL 10.984375 69.390625 \r\nL 28.421875 72.90625 \r\nL 38.28125 72.90625 \r\nL 38.28125 8.296875 \r\nL 54.390625 8.296875 \r\nL 54.390625 0 \r\nL 12.40625 0 \r\nz\r\n\" id=\"DejaVuSans-31\"/>\r\n      </defs>\r\n      <g transform=\"translate(332.587909 242.738437)scale(0.1 -0.1)\">\r\n       <use xlink:href=\"#DejaVuSans-31\"/>\r\n       <use x=\"63.623047\" xlink:href=\"#DejaVuSans-2e\"/>\r\n       <use x=\"95.410156\" xlink:href=\"#DejaVuSans-30\"/>\r\n      </g>\r\n     </g>\r\n    </g>\r\n   </g>\r\n   <g id=\"matplotlib.axis_2\">\r\n    <g id=\"ytick_1\">\r\n     <g id=\"line2d_7\">\r\n      <defs>\r\n       <path d=\"M 0 0 \r\nL -3.5 0 \r\n\" id=\"m4a29ea1eb4\" style=\"stroke:#000000;stroke-width:0.8;\"/>\r\n      </defs>\r\n      <g>\r\n       <use style=\"stroke:#000000;stroke-width:0.8;\" x=\"20.5625\" xlink:href=\"#m4a29ea1eb4\" y=\"197.443774\"/>\r\n      </g>\r\n     </g>\r\n     <g id=\"text_7\">\r\n      <!-- 0 -->\r\n      <g transform=\"translate(7.2 201.242993)scale(0.1 -0.1)\">\r\n       <use xlink:href=\"#DejaVuSans-30\"/>\r\n      </g>\r\n     </g>\r\n    </g>\r\n    <g id=\"ytick_2\">\r\n     <g id=\"line2d_8\">\r\n      <g>\r\n       <use style=\"stroke:#000000;stroke-width:0.8;\" x=\"20.5625\" xlink:href=\"#m4a29ea1eb4\" y=\"158.737512\"/>\r\n      </g>\r\n     </g>\r\n     <g id=\"text_8\">\r\n      <!-- 1 -->\r\n      <g transform=\"translate(7.2 162.53673)scale(0.1 -0.1)\">\r\n       <use xlink:href=\"#DejaVuSans-31\"/>\r\n      </g>\r\n     </g>\r\n    </g>\r\n    <g id=\"ytick_3\">\r\n     <g id=\"line2d_9\">\r\n      <g>\r\n       <use style=\"stroke:#000000;stroke-width:0.8;\" x=\"20.5625\" xlink:href=\"#m4a29ea1eb4\" y=\"120.031249\"/>\r\n      </g>\r\n     </g>\r\n     <g id=\"text_9\">\r\n      <!-- 2 -->\r\n      <g transform=\"translate(7.2 123.830468)scale(0.1 -0.1)\">\r\n       <use xlink:href=\"#DejaVuSans-32\"/>\r\n      </g>\r\n     </g>\r\n    </g>\r\n    <g id=\"ytick_4\">\r\n     <g id=\"line2d_10\">\r\n      <g>\r\n       <use style=\"stroke:#000000;stroke-width:0.8;\" x=\"20.5625\" xlink:href=\"#m4a29ea1eb4\" y=\"81.324987\"/>\r\n      </g>\r\n     </g>\r\n     <g id=\"text_10\">\r\n      <!-- 3 -->\r\n      <defs>\r\n       <path d=\"M 40.578125 39.3125 \r\nQ 47.65625 37.796875 51.625 33 \r\nQ 55.609375 28.21875 55.609375 21.1875 \r\nQ 55.609375 10.40625 48.1875 4.484375 \r\nQ 40.765625 -1.421875 27.09375 -1.421875 \r\nQ 22.515625 -1.421875 17.65625 -0.515625 \r\nQ 12.796875 0.390625 7.625 2.203125 \r\nL 7.625 11.71875 \r\nQ 11.71875 9.328125 16.59375 8.109375 \r\nQ 21.484375 6.890625 26.8125 6.890625 \r\nQ 36.078125 6.890625 40.9375 10.546875 \r\nQ 45.796875 14.203125 45.796875 21.1875 \r\nQ 45.796875 27.640625 41.28125 31.265625 \r\nQ 36.765625 34.90625 28.71875 34.90625 \r\nL 20.21875 34.90625 \r\nL 20.21875 43.015625 \r\nL 29.109375 43.015625 \r\nQ 36.375 43.015625 40.234375 45.921875 \r\nQ 44.09375 48.828125 44.09375 54.296875 \r\nQ 44.09375 59.90625 40.109375 62.90625 \r\nQ 36.140625 65.921875 28.71875 65.921875 \r\nQ 24.65625 65.921875 20.015625 65.03125 \r\nQ 15.375 64.15625 9.8125 62.3125 \r\nL 9.8125 71.09375 \r\nQ 15.4375 72.65625 20.34375 73.4375 \r\nQ 25.25 74.21875 29.59375 74.21875 \r\nQ 40.828125 74.21875 47.359375 69.109375 \r\nQ 53.90625 64.015625 53.90625 55.328125 \r\nQ 53.90625 49.265625 50.4375 45.09375 \r\nQ 46.96875 40.921875 40.578125 39.3125 \r\nz\r\n\" id=\"DejaVuSans-33\"/>\r\n      </defs>\r\n      <g transform=\"translate(7.2 85.124206)scale(0.1 -0.1)\">\r\n       <use xlink:href=\"#DejaVuSans-33\"/>\r\n      </g>\r\n     </g>\r\n    </g>\r\n    <g id=\"ytick_5\">\r\n     <g id=\"line2d_11\">\r\n      <g>\r\n       <use style=\"stroke:#000000;stroke-width:0.8;\" x=\"20.5625\" xlink:href=\"#m4a29ea1eb4\" y=\"42.618724\"/>\r\n      </g>\r\n     </g>\r\n     <g id=\"text_11\">\r\n      <!-- 4 -->\r\n      <g transform=\"translate(7.2 46.417943)scale(0.1 -0.1)\">\r\n       <use xlink:href=\"#DejaVuSans-34\"/>\r\n      </g>\r\n     </g>\r\n    </g>\r\n   </g>\r\n   <g id=\"line2d_12\">\r\n    <defs>\r\n     <path d=\"M 0 3 \r\nC 0.795609 3 1.55874 2.683901 2.12132 2.12132 \r\nC 2.683901 1.55874 3 0.795609 3 0 \r\nC 3 -0.795609 2.683901 -1.55874 2.12132 -2.12132 \r\nC 1.55874 -2.683901 0.795609 -3 0 -3 \r\nC -0.795609 -3 -1.55874 -2.683901 -2.12132 -2.12132 \r\nC -2.683901 -1.55874 -3 -0.795609 -3 0 \r\nC -3 0.795609 -2.683901 1.55874 -2.12132 2.12132 \r\nC -1.55874 2.683901 -0.795609 3 0 3 \r\nz\r\n\" id=\"m6400a34e1e\" style=\"stroke:#1f77b4;\"/>\r\n    </defs>\r\n    <g clip-path=\"url(#p0d848a5f4e)\">\r\n     <use style=\"fill:#1f77b4;stroke:#1f77b4;\" x=\"159.697858\" xlink:href=\"#m6400a34e1e\" y=\"124.552915\"/>\r\n     <use style=\"fill:#1f77b4;stroke:#1f77b4;\" x=\"90.347972\" xlink:href=\"#m6400a34e1e\" y=\"194.970134\"/>\r\n     <use style=\"fill:#1f77b4;stroke:#1f77b4;\" x=\"237.599708\" xlink:href=\"#m6400a34e1e\" y=\"79.689376\"/>\r\n     <use style=\"fill:#1f77b4;stroke:#1f77b4;\" x=\"192.822183\" xlink:href=\"#m6400a34e1e\" y=\"108.225684\"/>\r\n     <use style=\"fill:#1f77b4;stroke:#1f77b4;\" x=\"38.632153\" xlink:href=\"#m6400a34e1e\" y=\"200.064111\"/>\r\n     <use style=\"fill:#1f77b4;stroke:#1f77b4;\" x=\"178.206098\" xlink:href=\"#m6400a34e1e\" y=\"133.082653\"/>\r\n     <use style=\"fill:#1f77b4;stroke:#1f77b4;\" x=\"256.49698\" xlink:href=\"#m6400a34e1e\" y=\"70.651774\"/>\r\n     <use style=\"fill:#1f77b4;stroke:#1f77b4;\" x=\"155.160174\" xlink:href=\"#m6400a34e1e\" y=\"154.167192\"/>\r\n     <use style=\"fill:#1f77b4;stroke:#1f77b4;\" x=\"189.873071\" xlink:href=\"#m6400a34e1e\" y=\"116.351871\"/>\r\n     <use style=\"fill:#1f77b4;stroke:#1f77b4;\" x=\"107.118884\" xlink:href=\"#m6400a34e1e\" y=\"151.696378\"/>\r\n     <use style=\"fill:#1f77b4;stroke:#1f77b4;\" x=\"52.066451\" xlink:href=\"#m6400a34e1e\" y=\"188.864028\"/>\r\n     <use style=\"fill:#1f77b4;stroke:#1f77b4;\" x=\"147.651953\" xlink:href=\"#m6400a34e1e\" y=\"161.119766\"/>\r\n     <use style=\"fill:#1f77b4;stroke:#1f77b4;\" x=\"333.444157\" xlink:href=\"#m6400a34e1e\" y=\"36.835661\"/>\r\n     <use style=\"fill:#1f77b4;stroke:#1f77b4;\" x=\"223.019129\" xlink:href=\"#m6400a34e1e\" y=\"77.243644\"/>\r\n     <use style=\"fill:#1f77b4;stroke:#1f77b4;\" x=\"161.082885\" xlink:href=\"#m6400a34e1e\" y=\"124.04594\"/>\r\n     <use style=\"fill:#1f77b4;stroke:#1f77b4;\" x=\"66.680394\" xlink:href=\"#m6400a34e1e\" y=\"202.140586\"/>\r\n     <use style=\"fill:#1f77b4;stroke:#1f77b4;\" x=\"239.615572\" xlink:href=\"#m6400a34e1e\" y=\"75.068042\"/>\r\n     <use style=\"fill:#1f77b4;stroke:#1f77b4;\" x=\"326.079489\" xlink:href=\"#m6400a34e1e\" y=\"37.379522\"/>\r\n     <use style=\"fill:#1f77b4;stroke:#1f77b4;\" x=\"117.807616\" xlink:href=\"#m6400a34e1e\" y=\"164.192656\"/>\r\n     <use style=\"fill:#1f77b4;stroke:#1f77b4;\" x=\"127.412813\" xlink:href=\"#m6400a34e1e\" y=\"152.146919\"/>\r\n     <use style=\"fill:#1f77b4;stroke:#1f77b4;\" x=\"183.426347\" xlink:href=\"#m6400a34e1e\" y=\"132.109151\"/>\r\n     <use style=\"fill:#1f77b4;stroke:#1f77b4;\" x=\"191.112708\" xlink:href=\"#m6400a34e1e\" y=\"120.815245\"/>\r\n     <use style=\"fill:#1f77b4;stroke:#1f77b4;\" x=\"94.407248\" xlink:href=\"#m6400a34e1e\" y=\"194.785041\"/>\r\n     <use style=\"fill:#1f77b4;stroke:#1f77b4;\" x=\"336.489685\" xlink:href=\"#m6400a34e1e\" y=\"40.600696\"/>\r\n     <use style=\"fill:#1f77b4;stroke:#1f77b4;\" x=\"274.922271\" xlink:href=\"#m6400a34e1e\" y=\"75.274579\"/>\r\n     <use style=\"fill:#1f77b4;stroke:#1f77b4;\" x=\"278.583026\" xlink:href=\"#m6400a34e1e\" y=\"83.235915\"/>\r\n     <use style=\"fill:#1f77b4;stroke:#1f77b4;\" x=\"59.342661\" xlink:href=\"#m6400a34e1e\" y=\"194.775558\"/>\r\n     <use style=\"fill:#1f77b4;stroke:#1f77b4;\" x=\"236.395577\" xlink:href=\"#m6400a34e1e\" y=\"86.975327\"/>\r\n     <use style=\"fill:#1f77b4;stroke:#1f77b4;\" x=\"149.320107\" xlink:href=\"#m6400a34e1e\" y=\"158.747459\"/>\r\n     <use style=\"fill:#1f77b4;stroke:#1f77b4;\" x=\"285.180038\" xlink:href=\"#m6400a34e1e\" y=\"40.75765\"/>\r\n     <use style=\"fill:#1f77b4;stroke:#1f77b4;\" x=\"78.052304\" xlink:href=\"#m6400a34e1e\" y=\"188.505608\"/>\r\n     <use style=\"fill:#1f77b4;stroke:#1f77b4;\" x=\"100.298432\" xlink:href=\"#m6400a34e1e\" y=\"165.832641\"/>\r\n     <use style=\"fill:#1f77b4;stroke:#1f77b4;\" x=\"47.088314\" xlink:href=\"#m6400a34e1e\" y=\"192.384362\"/>\r\n     <use style=\"fill:#1f77b4;stroke:#1f77b4;\" x=\"47.965548\" xlink:href=\"#m6400a34e1e\" y=\"218.256364\"/>\r\n     <use style=\"fill:#1f77b4;stroke:#1f77b4;\" x=\"74.656311\" xlink:href=\"#m6400a34e1e\" y=\"210.569416\"/>\r\n     <use style=\"fill:#1f77b4;stroke:#1f77b4;\" x=\"176.308688\" xlink:href=\"#m6400a34e1e\" y=\"115.210849\"/>\r\n     <use style=\"fill:#1f77b4;stroke:#1f77b4;\" x=\"240.1151\" xlink:href=\"#m6400a34e1e\" y=\"92.615913\"/>\r\n     <use style=\"fill:#1f77b4;stroke:#1f77b4;\" x=\"324.182079\" xlink:href=\"#m6400a34e1e\" y=\"41.945623\"/>\r\n     <use style=\"fill:#1f77b4;stroke:#1f77b4;\" x=\"311.209354\" xlink:href=\"#m6400a34e1e\" y=\"42.463087\"/>\r\n     <use style=\"fill:#1f77b4;stroke:#1f77b4;\" x=\"128.324023\" xlink:href=\"#m6400a34e1e\" y=\"157.864492\"/>\r\n     <use style=\"fill:#1f77b4;stroke:#1f77b4;\" x=\"285.140247\" xlink:href=\"#m6400a34e1e\" y=\"55.877864\"/>\r\n     <use style=\"fill:#1f77b4;stroke:#1f77b4;\" x=\"293.241045\" xlink:href=\"#m6400a34e1e\" y=\"39.769208\"/>\r\n     <use style=\"fill:#1f77b4;stroke:#1f77b4;\" x=\"82.28421\" xlink:href=\"#m6400a34e1e\" y=\"196.979531\"/>\r\n     <use style=\"fill:#1f77b4;stroke:#1f77b4;\" x=\"296.826198\" xlink:href=\"#m6400a34e1e\" y=\"56.536374\"/>\r\n     <use style=\"fill:#1f77b4;stroke:#1f77b4;\" x=\"156.937906\" xlink:href=\"#m6400a34e1e\" y=\"127.443615\"/>\r\n     <use style=\"fill:#1f77b4;stroke:#1f77b4;\" x=\"149.358367\" xlink:href=\"#m6400a34e1e\" y=\"142.039475\"/>\r\n     <use style=\"fill:#1f77b4;stroke:#1f77b4;\" x=\"305.586911\" xlink:href=\"#m6400a34e1e\" y=\"45.113575\"/>\r\n     <use style=\"fill:#1f77b4;stroke:#1f77b4;\" x=\"107.903987\" xlink:href=\"#m6400a34e1e\" y=\"152.461214\"/>\r\n     <use style=\"fill:#1f77b4;stroke:#1f77b4;\" x=\"79.952468\" xlink:href=\"#m6400a34e1e\" y=\"206.242869\"/>\r\n     <use style=\"fill:#1f77b4;stroke:#1f77b4;\" x=\"78.269929\" xlink:href=\"#m6400a34e1e\" y=\"200.103978\"/>\r\n     <use style=\"fill:#1f77b4;stroke:#1f77b4;\" x=\"132.887111\" xlink:href=\"#m6400a34e1e\" y=\"165.509134\"/>\r\n     <use style=\"fill:#1f77b4;stroke:#1f77b4;\" x=\"190.372905\" xlink:href=\"#m6400a34e1e\" y=\"119.696634\"/>\r\n     <use style=\"fill:#1f77b4;stroke:#1f77b4;\" x=\"143.38852\" xlink:href=\"#m6400a34e1e\" y=\"171.720908\"/>\r\n     <use style=\"fill:#1f77b4;stroke:#1f77b4;\" x=\"321.756063\" xlink:href=\"#m6400a34e1e\" y=\"35.643779\"/>\r\n     <use style=\"fill:#1f77b4;stroke:#1f77b4;\" x=\"140.990664\" xlink:href=\"#m6400a34e1e\" y=\"163.968857\"/>\r\n     <use style=\"fill:#1f77b4;stroke:#1f77b4;\" x=\"168.795569\" xlink:href=\"#m6400a34e1e\" y=\"125.791748\"/>\r\n     <use style=\"fill:#1f77b4;stroke:#1f77b4;\" x=\"273.635497\" xlink:href=\"#m6400a34e1e\" y=\"90.537348\"/>\r\n     <use style=\"fill:#1f77b4;stroke:#1f77b4;\" x=\"313.399991\" xlink:href=\"#m6400a34e1e\" y=\"39.680377\"/>\r\n     <use style=\"fill:#1f77b4;stroke:#1f77b4;\" x=\"44.394476\" xlink:href=\"#m6400a34e1e\" y=\"193.177222\"/>\r\n     <use style=\"fill:#1f77b4;stroke:#1f77b4;\" x=\"187.493274\" xlink:href=\"#m6400a34e1e\" y=\"112.987213\"/>\r\n     <use style=\"fill:#1f77b4;stroke:#1f77b4;\" x=\"270.649349\" xlink:href=\"#m6400a34e1e\" y=\"75.421198\"/>\r\n     <use style=\"fill:#1f77b4;stroke:#1f77b4;\" x=\"239.642508\" xlink:href=\"#m6400a34e1e\" y=\"79.522668\"/>\r\n     <use style=\"fill:#1f77b4;stroke:#1f77b4;\" x=\"88.388734\" xlink:href=\"#m6400a34e1e\" y=\"192.452447\"/>\r\n     <use style=\"fill:#1f77b4;stroke:#1f77b4;\" x=\"154.492913\" xlink:href=\"#m6400a34e1e\" y=\"156.309623\"/>\r\n     <use style=\"fill:#1f77b4;stroke:#1f77b4;\" x=\"313.355609\" xlink:href=\"#m6400a34e1e\" y=\"56.09849\"/>\r\n     <use style=\"fill:#1f77b4;stroke:#1f77b4;\" x=\"301.448972\" xlink:href=\"#m6400a34e1e\" y=\"27.060742\"/>\r\n     <use style=\"fill:#1f77b4;stroke:#1f77b4;\" x=\"258.848005\" xlink:href=\"#m6400a34e1e\" y=\"80.439078\"/>\r\n     <use style=\"fill:#1f77b4;stroke:#1f77b4;\" x=\"221.240173\" xlink:href=\"#m6400a34e1e\" y=\"86.166482\"/>\r\n     <use style=\"fill:#1f77b4;stroke:#1f77b4;\" x=\"258.735366\" xlink:href=\"#m6400a34e1e\" y=\"83.384121\"/>\r\n     <use style=\"fill:#1f77b4;stroke:#1f77b4;\" x=\"253.252192\" xlink:href=\"#m6400a34e1e\" y=\"85.44163\"/>\r\n     <use style=\"fill:#1f77b4;stroke:#1f77b4;\" x=\"57.836732\" xlink:href=\"#m6400a34e1e\" y=\"194.651853\"/>\r\n     <use style=\"fill:#1f77b4;stroke:#1f77b4;\" x=\"205.55953\" xlink:href=\"#m6400a34e1e\" y=\"129.774583\"/>\r\n     <use style=\"fill:#1f77b4;stroke:#1f77b4;\" x=\"165.232761\" xlink:href=\"#m6400a34e1e\" y=\"123.435581\"/>\r\n     <use style=\"fill:#1f77b4;stroke:#1f77b4;\" x=\"292.140064\" xlink:href=\"#m6400a34e1e\" y=\"53.816988\"/>\r\n     <use style=\"fill:#1f77b4;stroke:#1f77b4;\" x=\"205.531676\" xlink:href=\"#m6400a34e1e\" y=\"130.901981\"/>\r\n     <use style=\"fill:#1f77b4;stroke:#1f77b4;\" x=\"197.672378\" xlink:href=\"#m6400a34e1e\" y=\"113.292876\"/>\r\n     <use style=\"fill:#1f77b4;stroke:#1f77b4;\" x=\"327.275356\" xlink:href=\"#m6400a34e1e\" y=\"55.919861\"/>\r\n     <use style=\"fill:#1f77b4;stroke:#1f77b4;\" x=\"224.348142\" xlink:href=\"#m6400a34e1e\" y=\"61.10081\"/>\r\n     <use style=\"fill:#1f77b4;stroke:#1f77b4;\" x=\"207.736088\" xlink:href=\"#m6400a34e1e\" y=\"110.969107\"/>\r\n     <use style=\"fill:#1f77b4;stroke:#1f77b4;\" x=\"194.616749\" xlink:href=\"#m6400a34e1e\" y=\"125.458951\"/>\r\n     <use style=\"fill:#1f77b4;stroke:#1f77b4;\" x=\"180.422446\" xlink:href=\"#m6400a34e1e\" y=\"116.276084\"/>\r\n     <use style=\"fill:#1f77b4;stroke:#1f77b4;\" x=\"88.451787\" xlink:href=\"#m6400a34e1e\" y=\"197.374335\"/>\r\n     <use style=\"fill:#1f77b4;stroke:#1f77b4;\" x=\"127.228245\" xlink:href=\"#m6400a34e1e\" y=\"149.760446\"/>\r\n     <use style=\"fill:#1f77b4;stroke:#1f77b4;\" x=\"221.084683\" xlink:href=\"#m6400a34e1e\" y=\"83.110816\"/>\r\n     <use style=\"fill:#1f77b4;stroke:#1f77b4;\" x=\"39.896583\" xlink:href=\"#m6400a34e1e\" y=\"201.964782\"/>\r\n     <use style=\"fill:#1f77b4;stroke:#1f77b4;\" x=\"225.028565\" xlink:href=\"#m6400a34e1e\" y=\"95.303212\"/>\r\n     <use style=\"fill:#1f77b4;stroke:#1f77b4;\" x=\"305.810964\" xlink:href=\"#m6400a34e1e\" y=\"44.808415\"/>\r\n     <use style=\"fill:#1f77b4;stroke:#1f77b4;\" x=\"79.956754\" xlink:href=\"#m6400a34e1e\" y=\"210.159284\"/>\r\n     <use style=\"fill:#1f77b4;stroke:#1f77b4;\" x=\"66.396043\" xlink:href=\"#m6400a34e1e\" y=\"201.309214\"/>\r\n     <use style=\"fill:#1f77b4;stroke:#1f77b4;\" x=\"70.227593\" xlink:href=\"#m6400a34e1e\" y=\"198.63732\"/>\r\n     <use style=\"fill:#1f77b4;stroke:#1f77b4;\" x=\"192.552524\" xlink:href=\"#m6400a34e1e\" y=\"106.105278\"/>\r\n     <use style=\"fill:#1f77b4;stroke:#1f77b4;\" x=\"237.969763\" xlink:href=\"#m6400a34e1e\" y=\"73.096771\"/>\r\n     <use style=\"fill:#1f77b4;stroke:#1f77b4;\" x=\"35.780682\" xlink:href=\"#m6400a34e1e\" y=\"190.129258\"/>\r\n     <use style=\"fill:#1f77b4;stroke:#1f77b4;\" x=\"164.712725\" xlink:href=\"#m6400a34e1e\" y=\"123.742832\"/>\r\n     <use style=\"fill:#1f77b4;stroke:#1f77b4;\" x=\"262.081468\" xlink:href=\"#m6400a34e1e\" y=\"81.049631\"/>\r\n     <use style=\"fill:#1f77b4;stroke:#1f77b4;\" x=\"320.700688\" xlink:href=\"#m6400a34e1e\" y=\"48.585914\"/>\r\n     <use style=\"fill:#1f77b4;stroke:#1f77b4;\" x=\"247.888083\" xlink:href=\"#m6400a34e1e\" y=\"78.251284\"/>\r\n     <use style=\"fill:#1f77b4;stroke:#1f77b4;\" x=\"170.525858\" xlink:href=\"#m6400a34e1e\" y=\"122.363727\"/>\r\n     <use style=\"fill:#1f77b4;stroke:#1f77b4;\" x=\"243.741574\" xlink:href=\"#m6400a34e1e\" y=\"85.966719\"/>\r\n     <use style=\"fill:#1f77b4;stroke:#1f77b4;\" x=\"265.853025\" xlink:href=\"#m6400a34e1e\" y=\"78.864159\"/>\r\n     <use style=\"fill:#1f77b4;stroke:#1f77b4;\" x=\"310.754514\" xlink:href=\"#m6400a34e1e\" y=\"38.117341\"/>\r\n     <use style=\"fill:#1f77b4;stroke:#1f77b4;\" x=\"63.378369\" xlink:href=\"#m6400a34e1e\" y=\"206.770551\"/>\r\n     <use style=\"fill:#1f77b4;stroke:#1f77b4;\" x=\"301.921259\" xlink:href=\"#m6400a34e1e\" y=\"40.052538\"/>\r\n     <use style=\"fill:#1f77b4;stroke:#1f77b4;\" x=\"338.03265\" xlink:href=\"#m6400a34e1e\" y=\"42.160675\"/>\r\n     <use style=\"fill:#1f77b4;stroke:#1f77b4;\" x=\"91.268671\" xlink:href=\"#m6400a34e1e\" y=\"194.43591\"/>\r\n     <use style=\"fill:#1f77b4;stroke:#1f77b4;\" x=\"247.046661\" xlink:href=\"#m6400a34e1e\" y=\"77.335571\"/>\r\n     <use style=\"fill:#1f77b4;stroke:#1f77b4;\" x=\"235.637103\" xlink:href=\"#m6400a34e1e\" y=\"88.605751\"/>\r\n     <use style=\"fill:#1f77b4;stroke:#1f77b4;\" x=\"70.802417\" xlink:href=\"#m6400a34e1e\" y=\"201.49361\"/>\r\n     <use style=\"fill:#1f77b4;stroke:#1f77b4;\" x=\"60.259687\" xlink:href=\"#m6400a34e1e\" y=\"196.467757\"/>\r\n     <use style=\"fill:#1f77b4;stroke:#1f77b4;\" x=\"323.809269\" xlink:href=\"#m6400a34e1e\" y=\"29.843219\"/>\r\n     <use style=\"fill:#1f77b4;stroke:#1f77b4;\" x=\"274.984712\" xlink:href=\"#m6400a34e1e\" y=\"77.95402\"/>\r\n     <use style=\"fill:#1f77b4;stroke:#1f77b4;\" x=\"196.965938\" xlink:href=\"#m6400a34e1e\" y=\"109.581023\"/>\r\n     <use style=\"fill:#1f77b4;stroke:#1f77b4;\" x=\"303.685216\" xlink:href=\"#m6400a34e1e\" y=\"42.204529\"/>\r\n     <use style=\"fill:#1f77b4;stroke:#1f77b4;\" x=\"234.258198\" xlink:href=\"#m6400a34e1e\" y=\"76.697963\"/>\r\n     <use style=\"fill:#1f77b4;stroke:#1f77b4;\" x=\"303.606859\" xlink:href=\"#m6400a34e1e\" y=\"53.324451\"/>\r\n     <use style=\"fill:#1f77b4;stroke:#1f77b4;\" x=\"268.530029\" xlink:href=\"#m6400a34e1e\" y=\"89.37287\"/>\r\n     <use style=\"fill:#1f77b4;stroke:#1f77b4;\" x=\"188.992776\" xlink:href=\"#m6400a34e1e\" y=\"112.569185\"/>\r\n     <use style=\"fill:#1f77b4;stroke:#1f77b4;\" x=\"204.088494\" xlink:href=\"#m6400a34e1e\" y=\"116.884237\"/>\r\n     <use style=\"fill:#1f77b4;stroke:#1f77b4;\" x=\"185.419255\" xlink:href=\"#m6400a34e1e\" y=\"131.083319\"/>\r\n     <use style=\"fill:#1f77b4;stroke:#1f77b4;\" x=\"145.804129\" xlink:href=\"#m6400a34e1e\" y=\"163.155677\"/>\r\n     <use style=\"fill:#1f77b4;stroke:#1f77b4;\" x=\"131.320883\" xlink:href=\"#m6400a34e1e\" y=\"157.646498\"/>\r\n     <use style=\"fill:#1f77b4;stroke:#1f77b4;\" x=\"212.071144\" xlink:href=\"#m6400a34e1e\" y=\"121.908619\"/>\r\n     <use style=\"fill:#1f77b4;stroke:#1f77b4;\" x=\"200.628223\" xlink:href=\"#m6400a34e1e\" y=\"131.278244\"/>\r\n     <use style=\"fill:#1f77b4;stroke:#1f77b4;\" x=\"68.9399\" xlink:href=\"#m6400a34e1e\" y=\"191.86744\"/>\r\n     <use style=\"fill:#1f77b4;stroke:#1f77b4;\" x=\"284.447274\" xlink:href=\"#m6400a34e1e\" y=\"47.254186\"/>\r\n     <use style=\"fill:#1f77b4;stroke:#1f77b4;\" x=\"106.133296\" xlink:href=\"#m6400a34e1e\" y=\"161.7614\"/>\r\n     <use style=\"fill:#1f77b4;stroke:#1f77b4;\" x=\"157.747802\" xlink:href=\"#m6400a34e1e\" y=\"120.83185\"/>\r\n     <use style=\"fill:#1f77b4;stroke:#1f77b4;\" x=\"251.59873\" xlink:href=\"#m6400a34e1e\" y=\"78.005228\"/>\r\n     <use style=\"fill:#1f77b4;stroke:#1f77b4;\" x=\"299.921617\" xlink:href=\"#m6400a34e1e\" y=\"62.896084\"/>\r\n     <use style=\"fill:#1f77b4;stroke:#1f77b4;\" x=\"338.516874\" xlink:href=\"#m6400a34e1e\" y=\"42.863387\"/>\r\n     <use style=\"fill:#1f77b4;stroke:#1f77b4;\" x=\"252.258952\" xlink:href=\"#m6400a34e1e\" y=\"78.310543\"/>\r\n     <use style=\"fill:#1f77b4;stroke:#1f77b4;\" x=\"75.362138\" xlink:href=\"#m6400a34e1e\" y=\"201.522059\"/>\r\n     <use style=\"fill:#1f77b4;stroke:#1f77b4;\" x=\"50.382075\" xlink:href=\"#m6400a34e1e\" y=\"203.818812\"/>\r\n     <use style=\"fill:#1f77b4;stroke:#1f77b4;\" x=\"146.729418\" xlink:href=\"#m6400a34e1e\" y=\"154.990204\"/>\r\n     <use style=\"fill:#1f77b4;stroke:#1f77b4;\" x=\"247.955728\" xlink:href=\"#m6400a34e1e\" y=\"77.729988\"/>\r\n     <use style=\"fill:#1f77b4;stroke:#1f77b4;\" x=\"275.423941\" xlink:href=\"#m6400a34e1e\" y=\"81.792326\"/>\r\n     <use style=\"fill:#1f77b4;stroke:#1f77b4;\" x=\"180.369188\" xlink:href=\"#m6400a34e1e\" y=\"117.659949\"/>\r\n     <use style=\"fill:#1f77b4;stroke:#1f77b4;\" x=\"255.269892\" xlink:href=\"#m6400a34e1e\" y=\"91.123322\"/>\r\n     <use style=\"fill:#1f77b4;stroke:#1f77b4;\" x=\"104.970486\" xlink:href=\"#m6400a34e1e\" y=\"169.702609\"/>\r\n     <use style=\"fill:#1f77b4;stroke:#1f77b4;\" x=\"66.410429\" xlink:href=\"#m6400a34e1e\" y=\"193.424864\"/>\r\n     <use style=\"fill:#1f77b4;stroke:#1f77b4;\" x=\"95.009926\" xlink:href=\"#m6400a34e1e\" y=\"196.523494\"/>\r\n     <use style=\"fill:#1f77b4;stroke:#1f77b4;\" x=\"74.030064\" xlink:href=\"#m6400a34e1e\" y=\"198.732654\"/>\r\n     <use style=\"fill:#1f77b4;stroke:#1f77b4;\" x=\"196.229808\" xlink:href=\"#m6400a34e1e\" y=\"122.265143\"/>\r\n     <use style=\"fill:#1f77b4;stroke:#1f77b4;\" x=\"37.361908\" xlink:href=\"#m6400a34e1e\" y=\"197.689094\"/>\r\n     <use style=\"fill:#1f77b4;stroke:#1f77b4;\" x=\"340.090448\" xlink:href=\"#m6400a34e1e\" y=\"50.021181\"/>\r\n     <use style=\"fill:#1f77b4;stroke:#1f77b4;\" x=\"145.724241\" xlink:href=\"#m6400a34e1e\" y=\"172.176365\"/>\r\n     <use style=\"fill:#1f77b4;stroke:#1f77b4;\" x=\"310.355382\" xlink:href=\"#m6400a34e1e\" y=\"40.538379\"/>\r\n     <use style=\"fill:#1f77b4;stroke:#1f77b4;\" x=\"289.329608\" xlink:href=\"#m6400a34e1e\" y=\"20.583636\"/>\r\n     <use style=\"fill:#1f77b4;stroke:#1f77b4;\" x=\"70.880774\" xlink:href=\"#m6400a34e1e\" y=\"198.712294\"/>\r\n     <use style=\"fill:#1f77b4;stroke:#1f77b4;\" x=\"183.714065\" xlink:href=\"#m6400a34e1e\" y=\"117.467501\"/>\r\n     <use style=\"fill:#1f77b4;stroke:#1f77b4;\" x=\"81.491149\" xlink:href=\"#m6400a34e1e\" y=\"188.820599\"/>\r\n     <use style=\"fill:#1f77b4;stroke:#1f77b4;\" x=\"107.49353\" xlink:href=\"#m6400a34e1e\" y=\"155.282281\"/>\r\n     <use style=\"fill:#1f77b4;stroke:#1f77b4;\" x=\"98.181866\" xlink:href=\"#m6400a34e1e\" y=\"139.857061\"/>\r\n     <use style=\"fill:#1f77b4;stroke:#1f77b4;\" x=\"264.300571\" xlink:href=\"#m6400a34e1e\" y=\"87.052236\"/>\r\n     <use style=\"fill:#1f77b4;stroke:#1f77b4;\" x=\"90.592839\" xlink:href=\"#m6400a34e1e\" y=\"196.496013\"/>\r\n     <use style=\"fill:#1f77b4;stroke:#1f77b4;\" x=\"339.195154\" xlink:href=\"#m6400a34e1e\" y=\"52.769442\"/>\r\n     <use style=\"fill:#1f77b4;stroke:#1f77b4;\" x=\"80.770017\" xlink:href=\"#m6400a34e1e\" y=\"195.701334\"/>\r\n     <use style=\"fill:#1f77b4;stroke:#1f77b4;\" x=\"73.268835\" xlink:href=\"#m6400a34e1e\" y=\"197.395856\"/>\r\n     <use style=\"fill:#1f77b4;stroke:#1f77b4;\" x=\"335.382888\" xlink:href=\"#m6400a34e1e\" y=\"46.769468\"/>\r\n     <use style=\"fill:#1f77b4;stroke:#1f77b4;\" x=\"270.90401\" xlink:href=\"#m6400a34e1e\" y=\"88.316267\"/>\r\n     <use style=\"fill:#1f77b4;stroke:#1f77b4;\" x=\"274.466207\" xlink:href=\"#m6400a34e1e\" y=\"87.879312\"/>\r\n     <use style=\"fill:#1f77b4;stroke:#1f77b4;\" x=\"51.882801\" xlink:href=\"#m6400a34e1e\" y=\"188.362008\"/>\r\n     <use style=\"fill:#1f77b4;stroke:#1f77b4;\" x=\"164.720377\" xlink:href=\"#m6400a34e1e\" y=\"127.355171\"/>\r\n     <use style=\"fill:#1f77b4;stroke:#1f77b4;\" x=\"340.144318\" xlink:href=\"#m6400a34e1e\" y=\"33.436244\"/>\r\n     <use style=\"fill:#1f77b4;stroke:#1f77b4;\" x=\"251.106548\" xlink:href=\"#m6400a34e1e\" y=\"79.979248\"/>\r\n     <use style=\"fill:#1f77b4;stroke:#1f77b4;\" x=\"161.11839\" xlink:href=\"#m6400a34e1e\" y=\"130.013362\"/>\r\n     <use style=\"fill:#1f77b4;stroke:#1f77b4;\" x=\"100.922841\" xlink:href=\"#m6400a34e1e\" y=\"152.186477\"/>\r\n     <use style=\"fill:#1f77b4;stroke:#1f77b4;\" x=\"144.800176\" xlink:href=\"#m6400a34e1e\" y=\"165.272484\"/>\r\n     <use style=\"fill:#1f77b4;stroke:#1f77b4;\" x=\"333.802274\" xlink:href=\"#m6400a34e1e\" y=\"53.093568\"/>\r\n     <use style=\"fill:#1f77b4;stroke:#1f77b4;\" x=\"189.932145\" xlink:href=\"#m6400a34e1e\" y=\"126.874323\"/>\r\n     <use style=\"fill:#1f77b4;stroke:#1f77b4;\" x=\"316.288805\" xlink:href=\"#m6400a34e1e\" y=\"41.768348\"/>\r\n     <use style=\"fill:#1f77b4;stroke:#1f77b4;\" x=\"98.899631\" xlink:href=\"#m6400a34e1e\" y=\"148.560126\"/>\r\n     <use style=\"fill:#1f77b4;stroke:#1f77b4;\" x=\"318.688497\" xlink:href=\"#m6400a34e1e\" y=\"36.444379\"/>\r\n     <use style=\"fill:#1f77b4;stroke:#1f77b4;\" x=\"212.098692\" xlink:href=\"#m6400a34e1e\" y=\"118.517293\"/>\r\n     <use style=\"fill:#1f77b4;stroke:#1f77b4;\" x=\"291.991613\" xlink:href=\"#m6400a34e1e\" y=\"38.676995\"/>\r\n     <use style=\"fill:#1f77b4;stroke:#1f77b4;\" x=\"243.061151\" xlink:href=\"#m6400a34e1e\" y=\"89.891767\"/>\r\n     <use style=\"fill:#1f77b4;stroke:#1f77b4;\" x=\"124.075894\" xlink:href=\"#m6400a34e1e\" y=\"149.901491\"/>\r\n     <use style=\"fill:#1f77b4;stroke:#1f77b4;\" x=\"174.311189\" xlink:href=\"#m6400a34e1e\" y=\"130.225705\"/>\r\n     <use style=\"fill:#1f77b4;stroke:#1f77b4;\" x=\"75.510589\" xlink:href=\"#m6400a34e1e\" y=\"204.993276\"/>\r\n     <use style=\"fill:#1f77b4;stroke:#1f77b4;\" x=\"39.427357\" xlink:href=\"#m6400a34e1e\" y=\"199.89059\"/>\r\n     <use style=\"fill:#1f77b4;stroke:#1f77b4;\" x=\"246.025261\" xlink:href=\"#m6400a34e1e\" y=\"69.509204\"/>\r\n     <use style=\"fill:#1f77b4;stroke:#1f77b4;\" x=\"212.597301\" xlink:href=\"#m6400a34e1e\" y=\"117.568486\"/>\r\n     <use style=\"fill:#1f77b4;stroke:#1f77b4;\" x=\"127.230693\" xlink:href=\"#m6400a34e1e\" y=\"162.653037\"/>\r\n     <use style=\"fill:#1f77b4;stroke:#1f77b4;\" x=\"225.023055\" xlink:href=\"#m6400a34e1e\" y=\"92.871375\"/>\r\n     <use style=\"fill:#1f77b4;stroke:#1f77b4;\" x=\"195.157292\" xlink:href=\"#m6400a34e1e\" y=\"120.305715\"/>\r\n     <use style=\"fill:#1f77b4;stroke:#1f77b4;\" x=\"339.552353\" xlink:href=\"#m6400a34e1e\" y=\"49.918997\"/>\r\n     <use style=\"fill:#1f77b4;stroke:#1f77b4;\" x=\"304.123221\" xlink:href=\"#m6400a34e1e\" y=\"28.922243\"/>\r\n     <use style=\"fill:#1f77b4;stroke:#1f77b4;\" x=\"255.894302\" xlink:href=\"#m6400a34e1e\" y=\"95.427962\"/>\r\n     <use style=\"fill:#1f77b4;stroke:#1f77b4;\" x=\"241.474416\" xlink:href=\"#m6400a34e1e\" y=\"86.886651\"/>\r\n     <use style=\"fill:#1f77b4;stroke:#1f77b4;\" x=\"112.392698\" xlink:href=\"#m6400a34e1e\" y=\"145.08651\"/>\r\n     <use style=\"fill:#1f77b4;stroke:#1f77b4;\" x=\"184.018312\" xlink:href=\"#m6400a34e1e\" y=\"107.008179\"/>\r\n     <use style=\"fill:#1f77b4;stroke:#1f77b4;\" x=\"193.58127\" xlink:href=\"#m6400a34e1e\" y=\"115.709656\"/>\r\n     <use style=\"fill:#1f77b4;stroke:#1f77b4;\" x=\"83.483444\" xlink:href=\"#m6400a34e1e\" y=\"192.732216\"/>\r\n     <use style=\"fill:#1f77b4;stroke:#1f77b4;\" x=\"221.008774\" xlink:href=\"#m6400a34e1e\" y=\"71.083116\"/>\r\n     <use style=\"fill:#1f77b4;stroke:#1f77b4;\" x=\"197.256105\" xlink:href=\"#m6400a34e1e\" y=\"116.027241\"/>\r\n     <use style=\"fill:#1f77b4;stroke:#1f77b4;\" x=\"132.902415\" xlink:href=\"#m6400a34e1e\" y=\"162.729869\"/>\r\n     <use style=\"fill:#1f77b4;stroke:#1f77b4;\" x=\"293.141874\" xlink:href=\"#m6400a34e1e\" y=\"34.070446\"/>\r\n     <use style=\"fill:#1f77b4;stroke:#1f77b4;\" x=\"38.130177\" xlink:href=\"#m6400a34e1e\" y=\"205.853987\"/>\r\n     <use style=\"fill:#1f77b4;stroke:#1f77b4;\" x=\"40.236029\" xlink:href=\"#m6400a34e1e\" y=\"209.077986\"/>\r\n     <use style=\"fill:#1f77b4;stroke:#1f77b4;\" x=\"56.333863\" xlink:href=\"#m6400a34e1e\" y=\"197.210995\"/>\r\n    </g>\r\n   </g>\r\n   <g id=\"patch_3\">\r\n    <path d=\"M 20.5625 228.14 \r\nL 20.5625 10.7 \r\n\" style=\"fill:none;stroke:#000000;stroke-linecap:square;stroke-linejoin:miter;stroke-width:0.8;\"/>\r\n   </g>\r\n   <g id=\"patch_4\">\r\n    <path d=\"M 355.3625 228.14 \r\nL 355.3625 10.7 \r\n\" style=\"fill:none;stroke:#000000;stroke-linecap:square;stroke-linejoin:miter;stroke-width:0.8;\"/>\r\n   </g>\r\n   <g id=\"patch_5\">\r\n    <path d=\"M 20.5625 228.14 \r\nL 355.3625 228.14 \r\n\" style=\"fill:none;stroke:#000000;stroke-linecap:square;stroke-linejoin:miter;stroke-width:0.8;\"/>\r\n   </g>\r\n   <g id=\"patch_6\">\r\n    <path d=\"M 20.5625 10.7 \r\nL 355.3625 10.7 \r\n\" style=\"fill:none;stroke:#000000;stroke-linecap:square;stroke-linejoin:miter;stroke-width:0.8;\"/>\r\n   </g>\r\n  </g>\r\n </g>\r\n <defs>\r\n  <clipPath id=\"p0d848a5f4e\">\r\n   <rect height=\"217.44\" width=\"334.8\" x=\"20.5625\" y=\"10.7\"/>\r\n  </clipPath>\r\n </defs>\r\n</svg>\r\n",
      "image/png": "[encoded data removed]"
     },
     "metadata": {}
    }
   ],
   "source": [
    "plt.plot(dataMat[:,1], dataMat[:,2], 'o')"
   ]
  },
  {
   "cell_type": "code",
   "execution_count": 15,
   "metadata": {},
   "outputs": [],
   "source": [
    "# 剪枝\n",
    "\n",
    "def isTree(obj):\n",
    "    \"\"\"判断输入变量是否是一棵树，返回布尔类型的结果\"\"\"\n",
    "    return (type(obj).__name__ == 'dict')\n",
    "\n",
    "def getMean(tree):\n",
    "    \"\"\"从上往下遍历树直到叶子节点为止，获取两个子节点的均值\"\"\"\n",
    "    if isTree(tree['right']):\n",
    "        tree['right'] = getMean(tree['right'])\n",
    "    if isTree(tree['left']):\n",
    "        tree['left'] = getMean(tree['left'])\n",
    "    return (tree['right'] + tree['left']) / 2.0\n",
    "\n",
    "def prune(tree, testData):\n",
    "    \"\"\"\n",
    "    后剪枝\n",
    "    :param tree: 待剪枝的树\n",
    "    :param testData: 剪枝所需的测试数据\n",
    "    :return:\n",
    "    \"\"\"\n",
    "    # 如果没有测试数据，则对树进行塌陷处理\n",
    "    if testData.shape[0] == 0:\n",
    "        return getMean(tree)\n",
    "    # 检查左右分支是否是子树还是叶节点\n",
    "    if (isTree(tree['right']) or isTree(tree['left'])):\n",
    "        lSet, rSet = binSplitDataSet(testData, tree['spInd'], tree['spVal'])\n",
    "    # 如果是子树，递归调用prune（）函数进行剪枝\n",
    "    if isTree(tree['left']):\n",
    "        tree['left'] = prune(tree['left'], lSet)\n",
    "    if isTree(tree['right']):\n",
    "        tree['right'] = prune(tree['right'], rSet)\n",
    "    # 如果左右分支都是叶节点，则计算并比较合并前后的误差\n",
    "    if not isTree(tree['left']) and not isTree(tree['right']):\n",
    "        lSet, rSet = binSplitDataSet(testData, tree['spInd'], tree['spVal'])\n",
    "        errorNoMerge = sum(np.power(lSet[:, -1] - tree['left'], 2)) + sum(\n",
    "            np.power(rSet[:, -1] - tree['right'], 2))\n",
    "        treeMean = (tree['left'] + tree['right']) / 2\n",
    "        errorMerge = sum(np.power(testData[:, -1] - treeMean, 2))\n",
    "        # 如果合并后的误差小于不合并的误差，则进行合并操作，反之不进行合并操作\n",
    "        if errorMerge < errorNoMerge:\n",
    "            print('Merging')\n",
    "            return treeMean\n",
    "        else:\n",
    "            return tree\n",
    "    else:\n",
    "        return tree"
   ]
  },
  {
   "cell_type": "code",
   "execution_count": 16,
   "metadata": {},
   "outputs": [
    {
     "output_type": "stream",
     "name": "stdout",
     "text": [
      "Merging\nMerging\nMerging\nMerging\nMerging\nMerging\nMerging\nMerging\nMerging\nMerging\nMerging\nMerging\nMerging\nMerging\nMerging\nMerging\nMerging\nMerging\nMerging\nMerging\nMerging\nMerging\nMerging\nMerging\nMerging\nMerging\nMerging\nMerging\nMerging\n{'spInd': 0, 'spVal': 0.499171, 'left': {'spInd': 0, 'spVal': 0.729397, 'left': {'spInd': 0, 'spVal': 0.952833, 'left': {'spInd': 0, 'spVal': 0.965969, 'left': 92.5239915, 'right': {'spInd': 0, 'spVal': 0.956951, 'left': {'spInd': 0, 'spVal': 0.958512, 'left': 117.9732555, 'right': 135.837013}, 'right': 111.2013225}}, 'right': {'spInd': 0, 'spVal': 0.759504, 'left': {'spInd': 0, 'spVal': 0.763328, 'left': {'spInd': 0, 'spVal': 0.769043, 'left': {'spInd': 0, 'spVal': 0.790312, 'left': {'spInd': 0, 'spVal': 0.806158, 'left': {'spInd': 0, 'spVal': 0.815215, 'left': {'spInd': 0, 'spVal': 0.833026, 'left': {'spInd': 0, 'spVal': 0.841547, 'left': {'spInd': 0, 'spVal': 0.841625, 'left': {'spInd': 0, 'spVal': 0.944221, 'left': {'spInd': 0, 'spVal': 0.948822, 'left': 96.41885225, 'right': 69.318649}, 'right': {'spInd': 0, 'spVal': 0.85497, 'left': {'spInd': 0, 'spVal': 0.936524, 'left': 110.03503850000001, 'right': {'spInd': 0, 'spVal': 0.934853, 'left': 65.548418, 'right': {'spInd': 0, 'spVal': 0.925782, 'left': 115.753994, 'right': {'spInd': 0, 'spVal': 0.910975, 'left': {'spInd': 0, 'spVal': 0.912161, 'left': 94.3961145, 'right': 85.005351}, 'right': {'spInd': 0, 'spVal': 0.901444, 'left': 112.664071, 'right': {'spInd': 0, 'spVal': 0.901421, 'left': 87.300625, 'right': {'spInd': 0, 'spVal': 0.892999, 'left': {'spInd': 0, 'spVal': 0.900699, 'left': 100.133819, 'right': 108.094934}, 'right': {'spInd': 0, 'spVal': 0.888426, 'left': 82.436686, 'right': {'spInd': 0, 'spVal': 0.872199, 'left': 98.54454949999999, 'right': 106.16859550000001}}}}}}}}}, 'right': 89.309294}}, 'right': 60.552308}, 'right': 124.87935300000001}, 'right': 70.71112525}, 'right': 112.36561975000001}, 'right': 73.49439925}, 'right': {'spInd': 0, 'spVal': 0.786865, 'left': 114.4008695, 'right': 102.26514075}}, 'right': 64.041941}, 'right': 115.199195}, 'right': 78.08564325}}, 'right': {'spInd': 0, 'spVal': 0.640515, 'left': {'spInd': 0, 'spVal': 0.642373, 'left': {'spInd': 0, 'spVal': 0.642707, 'left': {'spInd': 0, 'spVal': 0.665329, 'left': {'spInd': 0, 'spVal': 0.706961, 'left': {'spInd': 0, 'spVal': 0.70889, 'left': 108.42622175, 'right': 135.416767}, 'right': {'spInd': 0, 'spVal': 0.698472, 'left': {'spInd': 0, 'spVal': 0.69892, 'left': {'spInd': 0, 'spVal': 0.699873, 'left': 105.621287, 'right': 115.586605}, 'right': 92.470636}, 'right': {'spInd': 0, 'spVal': 0.689099, 'left': 120.521925, 'right': {'spInd': 0, 'spVal': 0.666452, 'left': 101.91115275, 'right': 112.78136649999999}}}}, 'right': 118.09113425000001}, 'right': 82.500766}, 'right': 140.613941}, 'right': {'spInd': 0, 'spVal': 0.613004, 'left': {'spInd': 0, 'spVal': 0.623909, 'left': {'spInd': 0, 'spVal': 0.628061, 'left': {'spInd': 0, 'spVal': 0.637999, 'left': 82.713621, 'right': 92.650955}, 'right': 111.7995445}, 'right': 82.04976400000001}, 'right': {'spInd': 0, 'spVal': 0.606417, 'left': 168.180746, 'right': {'spInd': 0, 'spVal': 0.513332, 'left': {'spInd': 0, 'spVal': 0.533511, 'left': {'spInd': 0, 'spVal': 0.548539, 'left': {'spInd': 0, 'spVal': 0.553797, 'left': {'spInd': 0, 'spVal': 0.560301, 'left': {'spInd': 0, 'spVal': 0.599142, 'left': 93.521396, 'right': {'spInd': 0, 'spVal': 0.589806, 'left': 130.378529, 'right': 104.55325975}}, 'right': 82.903945}, 'right': 129.0624485}, 'right': {'spInd': 0, 'spVal': 0.546601, 'left': 83.114502, 'right': {'spInd': 0, 'spVal': 0.537834, 'left': 97.3405265, 'right': 90.995536}}}, 'right': 121.7286405}, 'right': 97.961855}}}}}, 'right': {'spInd': 0, 'spVal': 0.457563, 'left': {'spInd': 0, 'spVal': 0.465561, 'left': {'spInd': 0, 'spVal': 0.467383, 'left': {'spInd': 0, 'spVal': 0.483803, 'left': {'spInd': 0, 'spVal': 0.487381, 'left': 8.53677, 'right': 27.729263}, 'right': 5.224234}, 'right': -16.745228}, 'right': 23.611494}, 'right': {'spInd': 0, 'spVal': 0.455761, 'left': -34.044555, 'right': {'spInd': 0, 'spVal': 0.126833, 'left': {'spInd': 0, 'spVal': 0.130626, 'left': {'spInd': 0, 'spVal': 0.382037, 'left': {'spInd': 0, 'spVal': 0.388789, 'left': {'spInd': 0, 'spVal': 0.437652, 'left': -4.1911745, 'right': {'spInd': 0, 'spVal': 0.412516, 'left': {'spInd': 0, 'spVal': 0.418943, 'left': {'spInd': 0, 'spVal': 0.426711, 'left': 17.484745, 'right': -21.594268}, 'right': 44.161493}, 'right': {'spInd': 0, 'spVal': 0.403228, 'left': -26.419289, 'right': 0.6359300000000001}}}, 'right': 23.197474}, 'right': {'spInd': 0, 'spVal': 0.335182, 'left': {'spInd': 0, 'spVal': 0.370042, 'left': -14.207871875, 'right': {'spInd': 0, 'spVal': 0.35679, 'left': -32.124495, 'right': {'spInd': 0, 'spVal': 0.350725, 'left': -9.9938275, 'right': -26.851234812500003}}}, 'right': {'spInd': 0, 'spVal': 0.324274, 'left': 22.286959625, 'right': {'spInd': 0, 'spVal': 0.309133, 'left': {'spInd': 0, 'spVal': 0.310956, 'left': -20.3973335, 'right': -49.939516}, 'right': {'spInd': 0, 'spVal': 0.131833, 'left': {'spInd': 0, 'spVal': 0.138619, 'left': {'spInd': 0, 'spVal': 0.156067, 'left': {'spInd': 0, 'spVal': 0.166765, 'left': {'spInd': 0, 'spVal': 0.193282, 'left': {'spInd': 0, 'spVal': 0.211633, 'left': {'spInd': 0, 'spVal': 0.228473, 'left': {'spInd': 0, 'spVal': 0.25807, 'left': {'spInd': 0, 'spVal': 0.284794, 'left': {'spInd': 0, 'spVal': 0.300318, 'left': 8.814725, 'right': -13.14773975}, 'right': {'spInd': 0, 'spVal': 0.273863, 'left': 35.623746, 'right': -2.7691525}}, 'right': {'spInd': 0, 'spVal': 0.228628, 'left': {'spInd': 0, 'spVal': 0.228751, 'left': -9.601409499999999, 'right': -30.812912}, 'right': -2.266273}}, 'right': 6.099239}, 'right': {'spInd': 0, 'spVal': 0.202161, 'left': -16.42737025, 'right': -2.6781805}}, 'right': 9.5773855}, 'right': -9.394930375000001}, 'right': 7.4470665}, 'right': -29.087463}, 'right': 22.478291}}}}}, 'right': -39.524461}, 'right': {'spInd': 0, 'spVal': 0.124723, 'left': 22.891675, 'right': {'spInd': 0, 'spVal': 0.085111, 'left': {'spInd': 0, 'spVal': 0.108801, 'left': 6.196516, 'right': {'spInd': 0, 'spVal': 0.10796, 'left': -16.106164, 'right': -5.715149500000001}}, 'right': {'spInd': 0, 'spVal': 0.084661, 'left': 37.820659, 'right': {'spInd': 0, 'spVal': 0.080061, 'left': -24.132226, 'right': {'spInd': 0, 'spVal': 0.068373, 'left': 15.824970500000001, 'right': {'spInd': 0, 'spVal': 0.061219, 'left': -15.160836, 'right': {'spInd': 0, 'spVal': 0.044737, 'left': {'spInd': 0, 'spVal': 0.053764, 'left': 1.7820349999999998, 'right': -13.731698}, 'right': 4.091626}}}}}}}}}}}\n"
     ]
    }
   ],
   "source": [
    "dataMat2 = loadDataSet('./data/ex2.txt')\n",
    "dataMat2 = np.mat(dataMat2)\n",
    "mytree = createTree(dataMat2,ops=(0,1))\n",
    "testMat = loadDataSet('./data/ex2test.txt')\n",
    "testMat = np.mat(testMat)\n",
    "prunedTree = prune(mytree,testMat)\n",
    "print(prunedTree)"
   ]
  },
  {
   "cell_type": "code",
   "execution_count": 18,
   "metadata": {},
   "outputs": [
    {
     "output_type": "execute_result",
     "data": {
      "text/plain": [
       "[<matplotlib.lines.Line2D at 0x126b2c123c8>]"
      ]
     },
     "metadata": {},
     "execution_count": 18
    },
    {
     "output_type": "display_data",
     "data": {
      "text/plain": "<Figure size 432x288 with 1 Axes>",
      "image/svg+xml": "<?xml version=\"1.0\" encoding=\"utf-8\" standalone=\"no\"?>\r\n<!DOCTYPE svg PUBLIC \"-//W3C//DTD SVG 1.1//EN\"\r\n  \"http://www.w3.org/Graphics/SVG/1.1/DTD/svg11.dtd\">\r\n<!-- Created with matplotlib (http://matplotlib.org/) -->\r\n<svg height=\"252.018125pt\" version=\"1.1\" viewBox=\"0 0 380.804688 252.018125\" width=\"380.804688pt\" xmlns=\"http://www.w3.org/2000/svg\" xmlns:xlink=\"http://www.w3.org/1999/xlink\">\r\n <defs>\r\n  <style type=\"text/css\">\r\n*{stroke-linecap:butt;stroke-linejoin:round;}\r\n  </style>\r\n </defs>\r\n <g id=\"figure_1\">\r\n  <g id=\"patch_1\">\r\n   <path d=\"M 0 252.018125 \r\nL 380.804688 252.018125 \r\nL 380.804688 0 \r\nL 0 0 \r\nz\r\n\" style=\"fill:none;\"/>\r\n  </g>\r\n  <g id=\"axes_1\">\r\n   <g id=\"patch_2\">\r\n    <path d=\"M 35.304688 228.14 \r\nL 370.104688 228.14 \r\nL 370.104688 10.7 \r\nL 35.304688 10.7 \r\nz\r\n\" style=\"fill:#ffffff;\"/>\r\n   </g>\r\n   <g id=\"matplotlib.axis_1\">\r\n    <g id=\"xtick_1\">\r\n     <g id=\"line2d_1\">\r\n      <defs>\r\n       <path d=\"M 0 0 \r\nL 0 3.5 \r\n\" id=\"m1c9523b451\" style=\"stroke:#000000;stroke-width:0.8;\"/>\r\n      </defs>\r\n      <g>\r\n       <use style=\"stroke:#000000;stroke-width:0.8;\" x=\"50.443502\" xlink:href=\"#m1c9523b451\" y=\"228.14\"/>\r\n      </g>\r\n     </g>\r\n     <g id=\"text_1\">\r\n      <!-- 0.0 -->\r\n      <defs>\r\n       <path d=\"M 31.78125 66.40625 \r\nQ 24.171875 66.40625 20.328125 58.90625 \r\nQ 16.5 51.421875 16.5 36.375 \r\nQ 16.5 21.390625 20.328125 13.890625 \r\nQ 24.171875 6.390625 31.78125 6.390625 \r\nQ 39.453125 6.390625 43.28125 13.890625 \r\nQ 47.125 21.390625 47.125 36.375 \r\nQ 47.125 51.421875 43.28125 58.90625 \r\nQ 39.453125 66.40625 31.78125 66.40625 \r\nz\r\nM 31.78125 74.21875 \r\nQ 44.046875 74.21875 50.515625 64.515625 \r\nQ 56.984375 54.828125 56.984375 36.375 \r\nQ 56.984375 17.96875 50.515625 8.265625 \r\nQ 44.046875 -1.421875 31.78125 -1.421875 \r\nQ 19.53125 -1.421875 13.0625 8.265625 \r\nQ 6.59375 17.96875 6.59375 36.375 \r\nQ 6.59375 54.828125 13.0625 64.515625 \r\nQ 19.53125 74.21875 31.78125 74.21875 \r\nz\r\n\" id=\"DejaVuSans-30\"/>\r\n       <path d=\"M 10.6875 12.40625 \r\nL 21 12.40625 \r\nL 21 0 \r\nL 10.6875 0 \r\nz\r\n\" id=\"DejaVuSans-2e\"/>\r\n      </defs>\r\n      <g transform=\"translate(42.491939 242.738437)scale(0.1 -0.1)\">\r\n       <use xlink:href=\"#DejaVuSans-30\"/>\r\n       <use x=\"63.623047\" xlink:href=\"#DejaVuSans-2e\"/>\r\n       <use x=\"95.410156\" xlink:href=\"#DejaVuSans-30\"/>\r\n      </g>\r\n     </g>\r\n    </g>\r\n    <g id=\"xtick_2\">\r\n     <g id=\"line2d_2\">\r\n      <g>\r\n       <use style=\"stroke:#000000;stroke-width:0.8;\" x=\"112.44945\" xlink:href=\"#m1c9523b451\" y=\"228.14\"/>\r\n      </g>\r\n     </g>\r\n     <g id=\"text_2\">\r\n      <!-- 0.2 -->\r\n      <defs>\r\n       <path d=\"M 19.1875 8.296875 \r\nL 53.609375 8.296875 \r\nL 53.609375 0 \r\nL 7.328125 0 \r\nL 7.328125 8.296875 \r\nQ 12.9375 14.109375 22.625 23.890625 \r\nQ 32.328125 33.6875 34.8125 36.53125 \r\nQ 39.546875 41.84375 41.421875 45.53125 \r\nQ 43.3125 49.21875 43.3125 52.78125 \r\nQ 43.3125 58.59375 39.234375 62.25 \r\nQ 35.15625 65.921875 28.609375 65.921875 \r\nQ 23.96875 65.921875 18.8125 64.3125 \r\nQ 13.671875 62.703125 7.8125 59.421875 \r\nL 7.8125 69.390625 \r\nQ 13.765625 71.78125 18.9375 73 \r\nQ 24.125 74.21875 28.421875 74.21875 \r\nQ 39.75 74.21875 46.484375 68.546875 \r\nQ 53.21875 62.890625 53.21875 53.421875 \r\nQ 53.21875 48.921875 51.53125 44.890625 \r\nQ 49.859375 40.875 45.40625 35.40625 \r\nQ 44.1875 33.984375 37.640625 27.21875 \r\nQ 31.109375 20.453125 19.1875 8.296875 \r\nz\r\n\" id=\"DejaVuSans-32\"/>\r\n      </defs>\r\n      <g transform=\"translate(104.497887 242.738437)scale(0.1 -0.1)\">\r\n       <use xlink:href=\"#DejaVuSans-30\"/>\r\n       <use x=\"63.623047\" xlink:href=\"#DejaVuSans-2e\"/>\r\n       <use x=\"95.410156\" xlink:href=\"#DejaVuSans-32\"/>\r\n      </g>\r\n     </g>\r\n    </g>\r\n    <g id=\"xtick_3\">\r\n     <g id=\"line2d_3\">\r\n      <g>\r\n       <use style=\"stroke:#000000;stroke-width:0.8;\" x=\"174.455398\" xlink:href=\"#m1c9523b451\" y=\"228.14\"/>\r\n      </g>\r\n     </g>\r\n     <g id=\"text_3\">\r\n      <!-- 0.4 -->\r\n      <defs>\r\n       <path d=\"M 37.796875 64.3125 \r\nL 12.890625 25.390625 \r\nL 37.796875 25.390625 \r\nz\r\nM 35.203125 72.90625 \r\nL 47.609375 72.90625 \r\nL 47.609375 25.390625 \r\nL 58.015625 25.390625 \r\nL 58.015625 17.1875 \r\nL 47.609375 17.1875 \r\nL 47.609375 0 \r\nL 37.796875 0 \r\nL 37.796875 17.1875 \r\nL 4.890625 17.1875 \r\nL 4.890625 26.703125 \r\nz\r\n\" id=\"DejaVuSans-34\"/>\r\n      </defs>\r\n      <g transform=\"translate(166.503835 242.738437)scale(0.1 -0.1)\">\r\n       <use xlink:href=\"#DejaVuSans-30\"/>\r\n       <use x=\"63.623047\" xlink:href=\"#DejaVuSans-2e\"/>\r\n       <use x=\"95.410156\" xlink:href=\"#DejaVuSans-34\"/>\r\n      </g>\r\n     </g>\r\n    </g>\r\n    <g id=\"xtick_4\">\r\n     <g id=\"line2d_4\">\r\n      <g>\r\n       <use style=\"stroke:#000000;stroke-width:0.8;\" x=\"236.461346\" xlink:href=\"#m1c9523b451\" y=\"228.14\"/>\r\n      </g>\r\n     </g>\r\n     <g id=\"text_4\">\r\n      <!-- 0.6 -->\r\n      <defs>\r\n       <path d=\"M 33.015625 40.375 \r\nQ 26.375 40.375 22.484375 35.828125 \r\nQ 18.609375 31.296875 18.609375 23.390625 \r\nQ 18.609375 15.53125 22.484375 10.953125 \r\nQ 26.375 6.390625 33.015625 6.390625 \r\nQ 39.65625 6.390625 43.53125 10.953125 \r\nQ 47.40625 15.53125 47.40625 23.390625 \r\nQ 47.40625 31.296875 43.53125 35.828125 \r\nQ 39.65625 40.375 33.015625 40.375 \r\nz\r\nM 52.59375 71.296875 \r\nL 52.59375 62.3125 \r\nQ 48.875 64.0625 45.09375 64.984375 \r\nQ 41.3125 65.921875 37.59375 65.921875 \r\nQ 27.828125 65.921875 22.671875 59.328125 \r\nQ 17.53125 52.734375 16.796875 39.40625 \r\nQ 19.671875 43.65625 24.015625 45.921875 \r\nQ 28.375 48.1875 33.59375 48.1875 \r\nQ 44.578125 48.1875 50.953125 41.515625 \r\nQ 57.328125 34.859375 57.328125 23.390625 \r\nQ 57.328125 12.15625 50.6875 5.359375 \r\nQ 44.046875 -1.421875 33.015625 -1.421875 \r\nQ 20.359375 -1.421875 13.671875 8.265625 \r\nQ 6.984375 17.96875 6.984375 36.375 \r\nQ 6.984375 53.65625 15.1875 63.9375 \r\nQ 23.390625 74.21875 37.203125 74.21875 \r\nQ 40.921875 74.21875 44.703125 73.484375 \r\nQ 48.484375 72.75 52.59375 71.296875 \r\nz\r\n\" id=\"DejaVuSans-36\"/>\r\n      </defs>\r\n      <g transform=\"translate(228.509783 242.738437)scale(0.1 -0.1)\">\r\n       <use xlink:href=\"#DejaVuSans-30\"/>\r\n       <use x=\"63.623047\" xlink:href=\"#DejaVuSans-2e\"/>\r\n       <use x=\"95.410156\" xlink:href=\"#DejaVuSans-36\"/>\r\n      </g>\r\n     </g>\r\n    </g>\r\n    <g id=\"xtick_5\">\r\n     <g id=\"line2d_5\">\r\n      <g>\r\n       <use style=\"stroke:#000000;stroke-width:0.8;\" x=\"298.467294\" xlink:href=\"#m1c9523b451\" y=\"228.14\"/>\r\n      </g>\r\n     </g>\r\n     <g id=\"text_5\">\r\n      <!-- 0.8 -->\r\n      <defs>\r\n       <path d=\"M 31.78125 34.625 \r\nQ 24.75 34.625 20.71875 30.859375 \r\nQ 16.703125 27.09375 16.703125 20.515625 \r\nQ 16.703125 13.921875 20.71875 10.15625 \r\nQ 24.75 6.390625 31.78125 6.390625 \r\nQ 38.8125 6.390625 42.859375 10.171875 \r\nQ 46.921875 13.96875 46.921875 20.515625 \r\nQ 46.921875 27.09375 42.890625 30.859375 \r\nQ 38.875 34.625 31.78125 34.625 \r\nz\r\nM 21.921875 38.8125 \r\nQ 15.578125 40.375 12.03125 44.71875 \r\nQ 8.5 49.078125 8.5 55.328125 \r\nQ 8.5 64.0625 14.71875 69.140625 \r\nQ 20.953125 74.21875 31.78125 74.21875 \r\nQ 42.671875 74.21875 48.875 69.140625 \r\nQ 55.078125 64.0625 55.078125 55.328125 \r\nQ 55.078125 49.078125 51.53125 44.71875 \r\nQ 48 40.375 41.703125 38.8125 \r\nQ 48.828125 37.15625 52.796875 32.3125 \r\nQ 56.78125 27.484375 56.78125 20.515625 \r\nQ 56.78125 9.90625 50.3125 4.234375 \r\nQ 43.84375 -1.421875 31.78125 -1.421875 \r\nQ 19.734375 -1.421875 13.25 4.234375 \r\nQ 6.78125 9.90625 6.78125 20.515625 \r\nQ 6.78125 27.484375 10.78125 32.3125 \r\nQ 14.796875 37.15625 21.921875 38.8125 \r\nz\r\nM 18.3125 54.390625 \r\nQ 18.3125 48.734375 21.84375 45.5625 \r\nQ 25.390625 42.390625 31.78125 42.390625 \r\nQ 38.140625 42.390625 41.71875 45.5625 \r\nQ 45.3125 48.734375 45.3125 54.390625 \r\nQ 45.3125 60.0625 41.71875 63.234375 \r\nQ 38.140625 66.40625 31.78125 66.40625 \r\nQ 25.390625 66.40625 21.84375 63.234375 \r\nQ 18.3125 60.0625 18.3125 54.390625 \r\nz\r\n\" id=\"DejaVuSans-38\"/>\r\n      </defs>\r\n      <g transform=\"translate(290.515731 242.738437)scale(0.1 -0.1)\">\r\n       <use xlink:href=\"#DejaVuSans-30\"/>\r\n       <use x=\"63.623047\" xlink:href=\"#DejaVuSans-2e\"/>\r\n       <use x=\"95.410156\" xlink:href=\"#DejaVuSans-38\"/>\r\n      </g>\r\n     </g>\r\n    </g>\r\n    <g id=\"xtick_6\">\r\n     <g id=\"line2d_6\">\r\n      <g>\r\n       <use style=\"stroke:#000000;stroke-width:0.8;\" x=\"360.473242\" xlink:href=\"#m1c9523b451\" y=\"228.14\"/>\r\n      </g>\r\n     </g>\r\n     <g id=\"text_6\">\r\n      <!-- 1.0 -->\r\n      <defs>\r\n       <path d=\"M 12.40625 8.296875 \r\nL 28.515625 8.296875 \r\nL 28.515625 63.921875 \r\nL 10.984375 60.40625 \r\nL 10.984375 69.390625 \r\nL 28.421875 72.90625 \r\nL 38.28125 72.90625 \r\nL 38.28125 8.296875 \r\nL 54.390625 8.296875 \r\nL 54.390625 0 \r\nL 12.40625 0 \r\nz\r\n\" id=\"DejaVuSans-31\"/>\r\n      </defs>\r\n      <g transform=\"translate(352.521679 242.738437)scale(0.1 -0.1)\">\r\n       <use xlink:href=\"#DejaVuSans-31\"/>\r\n       <use x=\"63.623047\" xlink:href=\"#DejaVuSans-2e\"/>\r\n       <use x=\"95.410156\" xlink:href=\"#DejaVuSans-30\"/>\r\n      </g>\r\n     </g>\r\n    </g>\r\n   </g>\r\n   <g id=\"matplotlib.axis_2\">\r\n    <g id=\"ytick_1\">\r\n     <g id=\"line2d_7\">\r\n      <defs>\r\n       <path d=\"M 0 0 \r\nL -3.5 0 \r\n\" id=\"m91b2fdaa3c\" style=\"stroke:#000000;stroke-width:0.8;\"/>\r\n      </defs>\r\n      <g>\r\n       <use style=\"stroke:#000000;stroke-width:0.8;\" x=\"35.304688\" xlink:href=\"#m91b2fdaa3c\" y=\"218.311178\"/>\r\n      </g>\r\n     </g>\r\n     <g id=\"text_7\">\r\n      <!-- −50 -->\r\n      <defs>\r\n       <path d=\"M 10.59375 35.5 \r\nL 73.1875 35.5 \r\nL 73.1875 27.203125 \r\nL 10.59375 27.203125 \r\nz\r\n\" id=\"DejaVuSans-2212\"/>\r\n       <path d=\"M 10.796875 72.90625 \r\nL 49.515625 72.90625 \r\nL 49.515625 64.59375 \r\nL 19.828125 64.59375 \r\nL 19.828125 46.734375 \r\nQ 21.96875 47.46875 24.109375 47.828125 \r\nQ 26.265625 48.1875 28.421875 48.1875 \r\nQ 40.625 48.1875 47.75 41.5 \r\nQ 54.890625 34.8125 54.890625 23.390625 \r\nQ 54.890625 11.625 47.5625 5.09375 \r\nQ 40.234375 -1.421875 26.90625 -1.421875 \r\nQ 22.3125 -1.421875 17.546875 -0.640625 \r\nQ 12.796875 0.140625 7.71875 1.703125 \r\nL 7.71875 11.625 \r\nQ 12.109375 9.234375 16.796875 8.0625 \r\nQ 21.484375 6.890625 26.703125 6.890625 \r\nQ 35.15625 6.890625 40.078125 11.328125 \r\nQ 45.015625 15.765625 45.015625 23.390625 \r\nQ 45.015625 31 40.078125 35.4375 \r\nQ 35.15625 39.890625 26.703125 39.890625 \r\nQ 22.75 39.890625 18.8125 39.015625 \r\nQ 14.890625 38.140625 10.796875 36.28125 \r\nz\r\n\" id=\"DejaVuSans-35\"/>\r\n      </defs>\r\n      <g transform=\"translate(7.2 222.110396)scale(0.1 -0.1)\">\r\n       <use xlink:href=\"#DejaVuSans-2212\"/>\r\n       <use x=\"83.789062\" xlink:href=\"#DejaVuSans-35\"/>\r\n       <use x=\"147.412109\" xlink:href=\"#DejaVuSans-30\"/>\r\n      </g>\r\n     </g>\r\n    </g>\r\n    <g id=\"ytick_2\">\r\n     <g id=\"line2d_8\">\r\n      <g>\r\n       <use style=\"stroke:#000000;stroke-width:0.8;\" x=\"35.304688\" xlink:href=\"#m91b2fdaa3c\" y=\"172.998393\"/>\r\n      </g>\r\n     </g>\r\n     <g id=\"text_8\">\r\n      <!-- 0 -->\r\n      <g transform=\"translate(21.942188 176.797612)scale(0.1 -0.1)\">\r\n       <use xlink:href=\"#DejaVuSans-30\"/>\r\n      </g>\r\n     </g>\r\n    </g>\r\n    <g id=\"ytick_3\">\r\n     <g id=\"line2d_9\">\r\n      <g>\r\n       <use style=\"stroke:#000000;stroke-width:0.8;\" x=\"35.304688\" xlink:href=\"#m91b2fdaa3c\" y=\"127.685609\"/>\r\n      </g>\r\n     </g>\r\n     <g id=\"text_9\">\r\n      <!-- 50 -->\r\n      <g transform=\"translate(15.579688 131.484828)scale(0.1 -0.1)\">\r\n       <use xlink:href=\"#DejaVuSans-35\"/>\r\n       <use x=\"63.623047\" xlink:href=\"#DejaVuSans-30\"/>\r\n      </g>\r\n     </g>\r\n    </g>\r\n    <g id=\"ytick_4\">\r\n     <g id=\"line2d_10\">\r\n      <g>\r\n       <use style=\"stroke:#000000;stroke-width:0.8;\" x=\"35.304688\" xlink:href=\"#m91b2fdaa3c\" y=\"82.372825\"/>\r\n      </g>\r\n     </g>\r\n     <g id=\"text_10\">\r\n      <!-- 100 -->\r\n      <g transform=\"translate(9.217188 86.172044)scale(0.1 -0.1)\">\r\n       <use xlink:href=\"#DejaVuSans-31\"/>\r\n       <use x=\"63.623047\" xlink:href=\"#DejaVuSans-30\"/>\r\n       <use x=\"127.246094\" xlink:href=\"#DejaVuSans-30\"/>\r\n      </g>\r\n     </g>\r\n    </g>\r\n    <g id=\"ytick_5\">\r\n     <g id=\"line2d_11\">\r\n      <g>\r\n       <use style=\"stroke:#000000;stroke-width:0.8;\" x=\"35.304688\" xlink:href=\"#m91b2fdaa3c\" y=\"37.060041\"/>\r\n      </g>\r\n     </g>\r\n     <g id=\"text_11\">\r\n      <!-- 150 -->\r\n      <g transform=\"translate(9.217188 40.85926)scale(0.1 -0.1)\">\r\n       <use xlink:href=\"#DejaVuSans-31\"/>\r\n       <use x=\"63.623047\" xlink:href=\"#DejaVuSans-35\"/>\r\n       <use x=\"127.246094\" xlink:href=\"#DejaVuSans-30\"/>\r\n      </g>\r\n     </g>\r\n    </g>\r\n   </g>\r\n   <g id=\"line2d_12\">\r\n    <defs>\r\n     <path d=\"M 0 3 \r\nC 0.795609 3 1.55874 2.683901 2.12132 2.12132 \r\nC 2.683901 1.55874 3 0.795609 3 0 \r\nC 3 -0.795609 2.683901 -1.55874 2.12132 -2.12132 \r\nC 1.55874 -2.683901 0.795609 -3 0 -3 \r\nC -0.795609 -3 -1.55874 -2.683901 -2.12132 -2.12132 \r\nC -2.683901 -1.55874 -3 -0.795609 -3 0 \r\nC -3 0.795609 -2.683901 1.55874 -2.12132 2.12132 \r\nC -1.55874 2.683901 -0.795609 3 0 3 \r\nz\r\n\" id=\"m7e5696184b\" style=\"stroke:#1f77b4;\"/>\r\n    </defs>\r\n    <g clip-path=\"url(#pd548fb3a16)\">\r\n     <use style=\"fill:#1f77b4;stroke:#1f77b4;\" x=\"121.324981\" xlink:href=\"#m7e5696184b\" y=\"175.052216\"/>\r\n     <use style=\"fill:#1f77b4;stroke:#1f77b4;\" x=\"349.92262\" xlink:href=\"#m7e5696184b\" y=\"71.14725\"/>\r\n     <use style=\"fill:#1f77b4;stroke:#1f77b4;\" x=\"156.709605\" xlink:href=\"#m7e5696184b\" y=\"201.622348\"/>\r\n     <use style=\"fill:#1f77b4;stroke:#1f77b4;\" x=\"329.917951\" xlink:href=\"#m7e5696184b\" y=\"93.881706\"/>\r\n     <use style=\"fill:#1f77b4;stroke:#1f77b4;\" x=\"231.938942\" xlink:href=\"#m7e5696184b\" y=\"59.448985\"/>\r\n     <use style=\"fill:#1f77b4;stroke:#1f77b4;\" x=\"154.272462\" xlink:href=\"#m7e5696184b\" y=\"155.800696\"/>\r\n     <use style=\"fill:#1f77b4;stroke:#1f77b4;\" x=\"288.869703\" xlink:href=\"#m7e5696184b\" y=\"114.96002\"/>\r\n     <use style=\"fill:#1f77b4;stroke:#1f77b4;\" x=\"142.555508\" xlink:href=\"#m7e5696184b\" y=\"174.628183\"/>\r\n     <use style=\"fill:#1f77b4;stroke:#1f77b4;\" x=\"329.91082\" xlink:href=\"#m7e5696184b\" y=\"82.251551\"/>\r\n     <use style=\"fill:#1f77b4;stroke:#1f77b4;\" x=\"105.170881\" xlink:href=\"#m7e5696184b\" y=\"172.14076\"/>\r\n     <use style=\"fill:#1f77b4;stroke:#1f77b4;\" x=\"270.637164\" xlink:href=\"#m7e5696184b\" y=\"74.620787\"/>\r\n     <use style=\"fill:#1f77b4;stroke:#1f77b4;\" x=\"354.886506\" xlink:href=\"#m7e5696184b\" y=\"94.698231\"/>\r\n     <use style=\"fill:#1f77b4;stroke:#1f77b4;\" x=\"77.066686\" xlink:href=\"#m7e5696184b\" y=\"182.185202\"/>\r\n     <use style=\"fill:#1f77b4;stroke:#1f77b4;\" x=\"217.188037\" xlink:href=\"#m7e5696184b\" y=\"90.533172\"/>\r\n     <use style=\"fill:#1f77b4;stroke:#1f77b4;\" x=\"300.376457\" xlink:href=\"#m7e5696184b\" y=\"116.015122\"/>\r\n     <use style=\"fill:#1f77b4;stroke:#1f77b4;\" x=\"270.220484\" xlink:href=\"#m7e5696184b\" y=\"50.276179\"/>\r\n     <use style=\"fill:#1f77b4;stroke:#1f77b4;\" x=\"294.670979\" xlink:href=\"#m7e5696184b\" y=\"65.478398\"/>\r\n     <use style=\"fill:#1f77b4;stroke:#1f77b4;\" x=\"194.061988\" xlink:href=\"#m7e5696184b\" y=\"157.437025\"/>\r\n     <use style=\"fill:#1f77b4;stroke:#1f77b4;\" x=\"143.551013\" xlink:href=\"#m7e5696184b\" y=\"189.357503\"/>\r\n     <use style=\"fill:#1f77b4;stroke:#1f77b4;\" x=\"303.184396\" xlink:href=\"#m7e5696184b\" y=\"65.770273\"/>\r\n     <use style=\"fill:#1f77b4;stroke:#1f77b4;\" x=\"93.810462\" xlink:href=\"#m7e5696184b\" y=\"166.349391\"/>\r\n     <use style=\"fill:#1f77b4;stroke:#1f77b4;\" x=\"71.641165\" xlink:href=\"#m7e5696184b\" y=\"186.737987\"/>\r\n     <use style=\"fill:#1f77b4;stroke:#1f77b4;\" x=\"192.30164\" xlink:href=\"#m7e5696184b\" y=\"203.851465\"/>\r\n     <use style=\"fill:#1f77b4;stroke:#1f77b4;\" x=\"256.815418\" xlink:href=\"#m7e5696184b\" y=\"77.344921\"/>\r\n     <use style=\"fill:#1f77b4;stroke:#1f77b4;\" x=\"76.69093\" xlink:href=\"#m7e5696184b\" y=\"194.86836\"/>\r\n     <use style=\"fill:#1f77b4;stroke:#1f77b4;\" x=\"346.432305\" xlink:href=\"#m7e5696184b\" y=\"81.524761\"/>\r\n     <use style=\"fill:#1f77b4;stroke:#1f77b4;\" x=\"346.181491\" xlink:href=\"#m7e5696184b\" y=\"54.345527\"/>\r\n     <use style=\"fill:#1f77b4;stroke:#1f77b4;\" x=\"201.546106\" xlink:href=\"#m7e5696184b\" y=\"147.868591\"/>\r\n     <use style=\"fill:#1f77b4;stroke:#1f77b4;\" x=\"285.912329\" xlink:href=\"#m7e5696184b\" y=\"99.494929\"/>\r\n     <use style=\"fill:#1f77b4;stroke:#1f77b4;\" x=\"191.293733\" xlink:href=\"#m7e5696184b\" y=\"191.44982\"/>\r\n     <use style=\"fill:#1f77b4;stroke:#1f77b4;\" x=\"142.210135\" xlink:href=\"#m7e5696184b\" y=\"186.581606\"/>\r\n     <use style=\"fill:#1f77b4;stroke:#1f77b4;\" x=\"98.828913\" xlink:href=\"#m7e5696184b\" y=\"166.149503\"/>\r\n     <use style=\"fill:#1f77b4;stroke:#1f77b4;\" x=\"183.316668\" xlink:href=\"#m7e5696184b\" y=\"159.201316\"/>\r\n     <use style=\"fill:#1f77b4;stroke:#1f77b4;\" x=\"313.106588\" xlink:href=\"#m7e5696184b\" y=\"103.904568\"/>\r\n     <use style=\"fill:#1f77b4;stroke:#1f77b4;\" x=\"205.201357\" xlink:href=\"#m7e5696184b\" y=\"162.192016\"/>\r\n     <use style=\"fill:#1f77b4;stroke:#1f77b4;\" x=\"113.687398\" xlink:href=\"#m7e5696184b\" y=\"193.279597\"/>\r\n     <use style=\"fill:#1f77b4;stroke:#1f77b4;\" x=\"220.506905\" xlink:href=\"#m7e5696184b\" y=\"97.675404\"/>\r\n     <use style=\"fill:#1f77b4;stroke:#1f77b4;\" x=\"295.463725\" xlink:href=\"#m7e5696184b\" y=\"73.165512\"/>\r\n     <use style=\"fill:#1f77b4;stroke:#1f77b4;\" x=\"341.178851\" xlink:href=\"#m7e5696184b\" y=\"64.293184\"/>\r\n     <use style=\"fill:#1f77b4;stroke:#1f77b4;\" x=\"118.129505\" xlink:href=\"#m7e5696184b\" y=\"171.719877\"/>\r\n     <use style=\"fill:#1f77b4;stroke:#1f77b4;\" x=\"119.64214\" xlink:href=\"#m7e5696184b\" y=\"158.949942\"/>\r\n     <use style=\"fill:#1f77b4;stroke:#1f77b4;\" x=\"328.441899\" xlink:href=\"#m7e5696184b\" y=\"76.027567\"/>\r\n     <use style=\"fill:#1f77b4;stroke:#1f77b4;\" x=\"230.97723\" xlink:href=\"#m7e5696184b\" y=\"98.151345\"/>\r\n     <use style=\"fill:#1f77b4;stroke:#1f77b4;\" x=\"267.129488\" xlink:href=\"#m7e5696184b\" y=\"89.196354\"/>\r\n     <use style=\"fill:#1f77b4;stroke:#1f77b4;\" x=\"305.860883\" xlink:href=\"#m7e5696184b\" y=\"119.219076\"/>\r\n     <use style=\"fill:#1f77b4;stroke:#1f77b4;\" x=\"169.811462\" xlink:href=\"#m7e5696184b\" y=\"150.5079\"/>\r\n     <use style=\"fill:#1f77b4;stroke:#1f77b4;\" x=\"69.423212\" xlink:href=\"#m7e5696184b\" y=\"166.930498\"/>\r\n     <use style=\"fill:#1f77b4;stroke:#1f77b4;\" x=\"311.348099\" xlink:href=\"#m7e5696184b\" y=\"68.172676\"/>\r\n     <use style=\"fill:#1f77b4;stroke:#1f77b4;\" x=\"287.097883\" xlink:href=\"#m7e5696184b\" y=\"68.598468\"/>\r\n     <use style=\"fill:#1f77b4;stroke:#1f77b4;\" x=\"340.275734\" xlink:href=\"#m7e5696184b\" y=\"68.095678\"/>\r\n     <use style=\"fill:#1f77b4;stroke:#1f77b4;\" x=\"119.354122\" xlink:href=\"#m7e5696184b\" y=\"181.386562\"/>\r\n     <use style=\"fill:#1f77b4;stroke:#1f77b4;\" x=\"117.786302\" xlink:href=\"#m7e5696184b\" y=\"176.586035\"/>\r\n     <use style=\"fill:#1f77b4;stroke:#1f77b4;\" x=\"269.622437\" xlink:href=\"#m7e5696184b\" y=\"76.771778\"/>\r\n     <use style=\"fill:#1f77b4;stroke:#1f77b4;\" x=\"325.881983\" xlink:href=\"#m7e5696184b\" y=\"86.998033\"/>\r\n     <use style=\"fill:#1f77b4;stroke:#1f77b4;\" x=\"220.902193\" xlink:href=\"#m7e5696184b\" y=\"48.598872\"/>\r\n     <use style=\"fill:#1f77b4;stroke:#1f77b4;\" x=\"83.914312\" xlink:href=\"#m7e5696184b\" y=\"174.170359\"/>\r\n     <use style=\"fill:#1f77b4;stroke:#1f77b4;\" x=\"76.830443\" xlink:href=\"#m7e5696184b\" y=\"138.723206\"/>\r\n     <use style=\"fill:#1f77b4;stroke:#1f77b4;\" x=\"170.979654\" xlink:href=\"#m7e5696184b\" y=\"153.443202\"/>\r\n     <use style=\"fill:#1f77b4;stroke:#1f77b4;\" x=\"195.346132\" xlink:href=\"#m7e5696184b\" y=\"181.800787\"/>\r\n     <use style=\"fill:#1f77b4;stroke:#1f77b4;\" x=\"243.873847\" xlink:href=\"#m7e5696184b\" y=\"93.989334\"/>\r\n     <use style=\"fill:#1f77b4;stroke:#1f77b4;\" x=\"166.23992\" xlink:href=\"#m7e5696184b\" y=\"180.455334\"/>\r\n     <use style=\"fill:#1f77b4;stroke:#1f77b4;\" x=\"209.591688\" xlink:href=\"#m7e5696184b\" y=\"81.398048\"/>\r\n     <use style=\"fill:#1f77b4;stroke:#1f77b4;\" x=\"159.178682\" xlink:href=\"#m7e5696184b\" y=\"209.32707\"/>\r\n     <use style=\"fill:#1f77b4;stroke:#1f77b4;\" x=\"272.490212\" xlink:href=\"#m7e5696184b\" y=\"79.341121\"/>\r\n     <use style=\"fill:#1f77b4;stroke:#1f77b4;\" x=\"277.27242\" xlink:href=\"#m7e5696184b\" y=\"106.015198\"/>\r\n     <use style=\"fill:#1f77b4;stroke:#1f77b4;\" x=\"135.349176\" xlink:href=\"#m7e5696184b\" y=\"181.569357\"/>\r\n     <use style=\"fill:#1f77b4;stroke:#1f77b4;\" x=\"116.056026\" xlink:href=\"#m7e5696184b\" y=\"180.549503\"/>\r\n     <use style=\"fill:#1f77b4;stroke:#1f77b4;\" x=\"343.180093\" xlink:href=\"#m7e5696184b\" y=\"82.263845\"/>\r\n     <use style=\"fill:#1f77b4;stroke:#1f77b4;\" x=\"67.111941\" xlink:href=\"#m7e5696184b\" y=\"185.442823\"/>\r\n     <use style=\"fill:#1f77b4;stroke:#1f77b4;\" x=\"89.765504\" xlink:href=\"#m7e5696184b\" y=\"152.252683\"/>\r\n     <use style=\"fill:#1f77b4;stroke:#1f77b4;\" x=\"345.850069\" xlink:href=\"#m7e5696184b\" y=\"81.784129\"/>\r\n     <use style=\"fill:#1f77b4;stroke:#1f77b4;\" x=\"171.853938\" xlink:href=\"#m7e5696184b\" y=\"170.278626\"/>\r\n     <use style=\"fill:#1f77b4;stroke:#1f77b4;\" x=\"224.153475\" xlink:href=\"#m7e5696184b\" y=\"97.866222\"/>\r\n     <use style=\"fill:#1f77b4;stroke:#1f77b4;\" x=\"89.111341\" xlink:href=\"#m7e5696184b\" y=\"174.269685\"/>\r\n     <use style=\"fill:#1f77b4;stroke:#1f77b4;\" x=\"194.818151\" xlink:href=\"#m7e5696184b\" y=\"194.546916\"/>\r\n     <use style=\"fill:#1f77b4;stroke:#1f77b4;\" x=\"267.424946\" xlink:href=\"#m7e5696184b\" y=\"68.247376\"/>\r\n     <use style=\"fill:#1f77b4;stroke:#1f77b4;\" x=\"101.329923\" xlink:href=\"#m7e5696184b\" y=\"197.834522\"/>\r\n     <use style=\"fill:#1f77b4;stroke:#1f77b4;\" x=\"191.742966\" xlink:href=\"#m7e5696184b\" y=\"164.079081\"/>\r\n     <use style=\"fill:#1f77b4;stroke:#1f77b4;\" x=\"208.106646\" xlink:href=\"#m7e5696184b\" y=\"85.632289\"/>\r\n     <use style=\"fill:#1f77b4;stroke:#1f77b4;\" x=\"93.419514\" xlink:href=\"#m7e5696184b\" y=\"199.359072\"/>\r\n     <use style=\"fill:#1f77b4;stroke:#1f77b4;\" x=\"154.35989\" xlink:href=\"#m7e5696184b\" y=\"170.489674\"/>\r\n     <use style=\"fill:#1f77b4;stroke:#1f77b4;\" x=\"332.145514\" xlink:href=\"#m7e5696184b\" y=\"65.594883\"/>\r\n     <use style=\"fill:#1f77b4;stroke:#1f77b4;\" x=\"219.906068\" xlink:href=\"#m7e5696184b\" y=\"85.708713\"/>\r\n     <use style=\"fill:#1f77b4;stroke:#1f77b4;\" x=\"167.933922\" xlink:href=\"#m7e5696184b\" y=\"160.688219\"/>\r\n     <use style=\"fill:#1f77b4;stroke:#1f77b4;\" x=\"350.744818\" xlink:href=\"#m7e5696184b\" y=\"83.597769\"/>\r\n     <use style=\"fill:#1f77b4;stroke:#1f77b4;\" x=\"248.242166\" xlink:href=\"#m7e5696184b\" y=\"89.934063\"/>\r\n     <use style=\"fill:#1f77b4;stroke:#1f77b4;\" x=\"158.974063\" xlink:href=\"#m7e5696184b\" y=\"174.194517\"/>\r\n     <use style=\"fill:#1f77b4;stroke:#1f77b4;\" x=\"246.596528\" xlink:href=\"#m7e5696184b\" y=\"88.131814\"/>\r\n     <use style=\"fill:#1f77b4;stroke:#1f77b4;\" x=\"340.793794\" xlink:href=\"#m7e5696184b\" y=\"113.594767\"/>\r\n     <use style=\"fill:#1f77b4;stroke:#1f77b4;\" x=\"146.84911\" xlink:href=\"#m7e5696184b\" y=\"218.256364\"/>\r\n     <use style=\"fill:#1f77b4;stroke:#1f77b4;\" x=\"186.128637\" xlink:href=\"#m7e5696184b\" y=\"155.104172\"/>\r\n     <use style=\"fill:#1f77b4;stroke:#1f77b4;\" x=\"102.145611\" xlink:href=\"#m7e5696184b\" y=\"186.356656\"/>\r\n     <use style=\"fill:#1f77b4;stroke:#1f77b4;\" x=\"227.53683\" xlink:href=\"#m7e5696184b\" y=\"68.89494\"/>\r\n     <use style=\"fill:#1f77b4;stroke:#1f77b4;\" x=\"345.708695\" xlink:href=\"#m7e5696184b\" y=\"106.369749\"/>\r\n     <use style=\"fill:#1f77b4;stroke:#1f77b4;\" x=\"256.715279\" xlink:href=\"#m7e5696184b\" y=\"62.452775\"/>\r\n     <use style=\"fill:#1f77b4;stroke:#1f77b4;\" x=\"130.452877\" xlink:href=\"#m7e5696184b\" y=\"191.50879\"/>\r\n     <use style=\"fill:#1f77b4;stroke:#1f77b4;\" x=\"333.240539\" xlink:href=\"#m7e5696184b\" y=\"95.961811\"/>\r\n     <use style=\"fill:#1f77b4;stroke:#1f77b4;\" x=\"291.517047\" xlink:href=\"#m7e5696184b\" y=\"81.612979\"/>\r\n     <use style=\"fill:#1f77b4;stroke:#1f77b4;\" x=\"249.701786\" xlink:href=\"#m7e5696184b\" y=\"98.231605\"/>\r\n     <use style=\"fill:#1f77b4;stroke:#1f77b4;\" x=\"325.029402\" xlink:href=\"#m7e5696184b\" y=\"75.081139\"/>\r\n     <use style=\"fill:#1f77b4;stroke:#1f77b4;\" x=\"75.264793\" xlink:href=\"#m7e5696184b\" y=\"170.977558\"/>\r\n     <use style=\"fill:#1f77b4;stroke:#1f77b4;\" x=\"62.818029\" xlink:href=\"#m7e5696184b\" y=\"162.830115\"/>\r\n     <use style=\"fill:#1f77b4;stroke:#1f77b4;\" x=\"347.610728\" xlink:href=\"#m7e5696184b\" y=\"49.895328\"/>\r\n     <use style=\"fill:#1f77b4;stroke:#1f77b4;\" x=\"167.443455\" xlink:href=\"#m7e5696184b\" y=\"168.24853\"/>\r\n     <use style=\"fill:#1f77b4;stroke:#1f77b4;\" x=\"255.395792\" xlink:href=\"#m7e5696184b\" y=\"68.155917\"/>\r\n     <use style=\"fill:#1f77b4;stroke:#1f77b4;\" x=\"191.313265\" xlink:href=\"#m7e5696184b\" y=\"170.239831\"/>\r\n     <use style=\"fill:#1f77b4;stroke:#1f77b4;\" x=\"178.33573\" xlink:href=\"#m7e5696184b\" y=\"196.941024\"/>\r\n     <use style=\"fill:#1f77b4;stroke:#1f77b4;\" x=\"315.509628\" xlink:href=\"#m7e5696184b\" y=\"92.151387\"/>\r\n     <use style=\"fill:#1f77b4;stroke:#1f77b4;\" x=\"266.990594\" xlink:href=\"#m7e5696184b\" y=\"63.774714\"/>\r\n     <use style=\"fill:#1f77b4;stroke:#1f77b4;\" x=\"194.781257\" xlink:href=\"#m7e5696184b\" y=\"145.76366\"/>\r\n     <use style=\"fill:#1f77b4;stroke:#1f77b4;\" x=\"152.409183\" xlink:href=\"#m7e5696184b\" y=\"136.944721\"/>\r\n     <use style=\"fill:#1f77b4;stroke:#1f77b4;\" x=\"146.283925\" xlink:href=\"#m7e5696184b\" y=\"165.009999\"/>\r\n     <use style=\"fill:#1f77b4;stroke:#1f77b4;\" x=\"180.328291\" xlink:href=\"#m7e5696184b\" y=\"132.976789\"/>\r\n     <use style=\"fill:#1f77b4;stroke:#1f77b4;\" x=\"222.137042\" xlink:href=\"#m7e5696184b\" y=\"63.470759\"/>\r\n     <use style=\"fill:#1f77b4;stroke:#1f77b4;\" x=\"298.42792\" xlink:href=\"#m7e5696184b\" y=\"90.195195\"/>\r\n     <use style=\"fill:#1f77b4;stroke:#1f77b4;\" x=\"301.990162\" xlink:href=\"#m7e5696184b\" y=\"70.608524\"/>\r\n     <use style=\"fill:#1f77b4;stroke:#1f77b4;\" x=\"293.994805\" xlink:href=\"#m7e5696184b\" y=\"76.006862\"/>\r\n     <use style=\"fill:#1f77b4;stroke:#1f77b4;\" x=\"344.723111\" xlink:href=\"#m7e5696184b\" y=\"77.159582\"/>\r\n     <use style=\"fill:#1f77b4;stroke:#1f77b4;\" x=\"257.063442\" xlink:href=\"#m7e5696184b\" y=\"64.234357\"/>\r\n     <use style=\"fill:#1f77b4;stroke:#1f77b4;\" x=\"252.726126\" xlink:href=\"#m7e5696184b\" y=\"70.84906\"/>\r\n     <use style=\"fill:#1f77b4;stroke:#1f77b4;\" x=\"140.584339\" xlink:href=\"#m7e5696184b\" y=\"186.040874\"/>\r\n     <use style=\"fill:#1f77b4;stroke:#1f77b4;\" x=\"208.108506\" xlink:href=\"#m7e5696184b\" y=\"88.451237\"/>\r\n     <use style=\"fill:#1f77b4;stroke:#1f77b4;\" x=\"261.414399\" xlink:href=\"#m7e5696184b\" y=\"72.977605\"/>\r\n     <use style=\"fill:#1f77b4;stroke:#1f77b4;\" x=\"161.059013\" xlink:href=\"#m7e5696184b\" y=\"190.69443\"/>\r\n     <use style=\"fill:#1f77b4;stroke:#1f77b4;\" x=\"112.419377\" xlink:href=\"#m7e5696184b\" y=\"176.054715\"/>\r\n     <use style=\"fill:#1f77b4;stroke:#1f77b4;\" x=\"132.578441\" xlink:href=\"#m7e5696184b\" y=\"168.212839\"/>\r\n     <use style=\"fill:#1f77b4;stroke:#1f77b4;\" x=\"102.042061\" xlink:href=\"#m7e5696184b\" y=\"178.900389\"/>\r\n     <use style=\"fill:#1f77b4;stroke:#1f77b4;\" x=\"165.167527\" xlink:href=\"#m7e5696184b\" y=\"202.1114\"/>\r\n     <use style=\"fill:#1f77b4;stroke:#1f77b4;\" x=\"245.16109\" xlink:href=\"#m7e5696184b\" y=\"66.397036\"/>\r\n     <use style=\"fill:#1f77b4;stroke:#1f77b4;\" x=\"121.276926\" xlink:href=\"#m7e5696184b\" y=\"155.394234\"/>\r\n     <use style=\"fill:#1f77b4;stroke:#1f77b4;\" x=\"64.313302\" xlink:href=\"#m7e5696184b\" y=\"169.504422\"/>\r\n     <use style=\"fill:#1f77b4;stroke:#1f77b4;\" x=\"110.36667\" xlink:href=\"#m7e5696184b\" y=\"156.496907\"/>\r\n     <use style=\"fill:#1f77b4;stroke:#1f77b4;\" x=\"211.395441\" xlink:href=\"#m7e5696184b\" y=\"67.713086\"/>\r\n     <use style=\"fill:#1f77b4;stroke:#1f77b4;\" x=\"159.412135\" xlink:href=\"#m7e5696184b\" y=\"173.416282\"/>\r\n     <use style=\"fill:#1f77b4;stroke:#1f77b4;\" x=\"320.851131\" xlink:href=\"#m7e5696184b\" y=\"71.90311\"/>\r\n     <use style=\"fill:#1f77b4;stroke:#1f77b4;\" x=\"86.143426\" xlink:href=\"#m7e5696184b\" y=\"160.495846\"/>\r\n     <use style=\"fill:#1f77b4;stroke:#1f77b4;\" x=\"150.978086\" xlink:href=\"#m7e5696184b\" y=\"184.95122\"/>\r\n     <use style=\"fill:#1f77b4;stroke:#1f77b4;\" x=\"188.777532\" xlink:href=\"#m7e5696184b\" y=\"177.627703\"/>\r\n     <use style=\"fill:#1f77b4;stroke:#1f77b4;\" x=\"240.492972\" xlink:href=\"#m7e5696184b\" y=\"20.583636\"/>\r\n     <use style=\"fill:#1f77b4;stroke:#1f77b4;\" x=\"215.847778\" xlink:href=\"#m7e5696184b\" y=\"55.396545\"/>\r\n     <use style=\"fill:#1f77b4;stroke:#1f77b4;\" x=\"280.131825\" xlink:href=\"#m7e5696184b\" y=\"88.015237\"/>\r\n     <use style=\"fill:#1f77b4;stroke:#1f77b4;\" x=\"257.497174\" xlink:href=\"#m7e5696184b\" y=\"89.21536\"/>\r\n     <use style=\"fill:#1f77b4;stroke:#1f77b4;\" x=\"329.686978\" xlink:href=\"#m7e5696184b\" y=\"74.045923\"/>\r\n     <use style=\"fill:#1f77b4;stroke:#1f77b4;\" x=\"236.19534\" xlink:href=\"#m7e5696184b\" y=\"54.84211\"/>\r\n     <use style=\"fill:#1f77b4;stroke:#1f77b4;\" x=\"122.619045\" xlink:href=\"#m7e5696184b\" y=\"171.890661\"/>\r\n     <use style=\"fill:#1f77b4;stroke:#1f77b4;\" x=\"310.430411\" xlink:href=\"#m7e5696184b\" y=\"51.478864\"/>\r\n     <use style=\"fill:#1f77b4;stroke:#1f77b4;\" x=\"138.738111\" xlink:href=\"#m7e5696184b\" y=\"140.714171\"/>\r\n     <use style=\"fill:#1f77b4;stroke:#1f77b4;\" x=\"90.941447\" xlink:href=\"#m7e5696184b\" y=\"208.817661\"/>\r\n     <use style=\"fill:#1f77b4;stroke:#1f77b4;\" x=\"249.598236\" xlink:href=\"#m7e5696184b\" y=\"45.56621\"/>\r\n     <use style=\"fill:#1f77b4;stroke:#1f77b4;\" x=\"294.395053\" xlink:href=\"#m7e5696184b\" y=\"81.830136\"/>\r\n     <use style=\"fill:#1f77b4;stroke:#1f77b4;\" x=\"175.456174\" xlink:href=\"#m7e5696184b\" y=\"174.565531\"/>\r\n     <use style=\"fill:#1f77b4;stroke:#1f77b4;\" x=\"324.39043\" xlink:href=\"#m7e5696184b\" y=\"86.58856\"/>\r\n     <use style=\"fill:#1f77b4;stroke:#1f77b4;\" x=\"332.872844\" xlink:href=\"#m7e5696184b\" y=\"76.196994\"/>\r\n     <use style=\"fill:#1f77b4;stroke:#1f77b4;\" x=\"304.5817\" xlink:href=\"#m7e5696184b\" y=\"109.511097\"/>\r\n     <use style=\"fill:#1f77b4;stroke:#1f77b4;\" x=\"297.90862\" xlink:href=\"#m7e5696184b\" y=\"103.349266\"/>\r\n     <use style=\"fill:#1f77b4;stroke:#1f77b4;\" x=\"238.450806\" xlink:href=\"#m7e5696184b\" y=\"88.244097\"/>\r\n     <use style=\"fill:#1f77b4;stroke:#1f77b4;\" x=\"84.175047\" xlink:href=\"#m7e5696184b\" y=\"187.594696\"/>\r\n     <use style=\"fill:#1f77b4;stroke:#1f77b4;\" x=\"149.128758\" xlink:href=\"#m7e5696184b\" y=\"198.015966\"/>\r\n     <use style=\"fill:#1f77b4;stroke:#1f77b4;\" x=\"315.959482\" xlink:href=\"#m7e5696184b\" y=\"75.877828\"/>\r\n     <use style=\"fill:#1f77b4;stroke:#1f77b4;\" x=\"311.779971\" xlink:href=\"#m7e5696184b\" y=\"86.094698\"/>\r\n     <use style=\"fill:#1f77b4;stroke:#1f77b4;\" x=\"242.310987\" xlink:href=\"#m7e5696184b\" y=\"103.291322\"/>\r\n     <use style=\"fill:#1f77b4;stroke:#1f77b4;\" x=\"215.361962\" xlink:href=\"#m7e5696184b\" y=\"59.901767\"/>\r\n     <use style=\"fill:#1f77b4;stroke:#1f77b4;\" x=\"59.293611\" xlink:href=\"#m7e5696184b\" y=\"180.590182\"/>\r\n     <use style=\"fill:#1f77b4;stroke:#1f77b4;\" x=\"334.202252\" xlink:href=\"#m7e5696184b\" y=\"85.34751\"/>\r\n     <use style=\"fill:#1f77b4;stroke:#1f77b4;\" x=\"337.463454\" xlink:href=\"#m7e5696184b\" y=\"89.555247\"/>\r\n     <use style=\"fill:#1f77b4;stroke:#1f77b4;\" x=\"244.158454\" xlink:href=\"#m7e5696184b\" y=\"76.961805\"/>\r\n     <use style=\"fill:#1f77b4;stroke:#1f77b4;\" x=\"153.176196\" xlink:href=\"#m7e5696184b\" y=\"174.168211\"/>\r\n     <use style=\"fill:#1f77b4;stroke:#1f77b4;\" x=\"156.380664\" xlink:href=\"#m7e5696184b\" y=\"194.33864\"/>\r\n     <use style=\"fill:#1f77b4;stroke:#1f77b4;\" x=\"156.521727\" xlink:href=\"#m7e5696184b\" y=\"188.341679\"/>\r\n     <use style=\"fill:#1f77b4;stroke:#1f77b4;\" x=\"276.578264\" xlink:href=\"#m7e5696184b\" y=\"72.492073\"/>\r\n     <use style=\"fill:#1f77b4;stroke:#1f77b4;\" x=\"249.022201\" xlink:href=\"#m7e5696184b\" y=\"98.038704\"/>\r\n     <use style=\"fill:#1f77b4;stroke:#1f77b4;\" x=\"121.363115\" xlink:href=\"#m7e5696184b\" y=\"200.92277\"/>\r\n     <use style=\"fill:#1f77b4;stroke:#1f77b4;\" x=\"344.60654\" xlink:href=\"#m7e5696184b\" y=\"110.177974\"/>\r\n     <use style=\"fill:#1f77b4;stroke:#1f77b4;\" x=\"269.44541\" xlink:href=\"#m7e5696184b\" y=\"77.785225\"/>\r\n     <use style=\"fill:#1f77b4;stroke:#1f77b4;\" x=\"75.13179\" xlink:href=\"#m7e5696184b\" y=\"146.33629\"/>\r\n     <use style=\"fill:#1f77b4;stroke:#1f77b4;\" x=\"190.293887\" xlink:href=\"#m7e5696184b\" y=\"199.030302\"/>\r\n     <use style=\"fill:#1f77b4;stroke:#1f77b4;\" x=\"308.706336\" xlink:href=\"#m7e5696184b\" y=\"103.466982\"/>\r\n     <use style=\"fill:#1f77b4;stroke:#1f77b4;\" x=\"233.300902\" xlink:href=\"#m7e5696184b\" y=\"83.573728\"/>\r\n     <use style=\"fill:#1f77b4;stroke:#1f77b4;\" x=\"182.736602\" xlink:href=\"#m7e5696184b\" y=\"192.568322\"/>\r\n     <use style=\"fill:#1f77b4;stroke:#1f77b4;\" x=\"321.063191\" xlink:href=\"#m7e5696184b\" y=\"86.099609\"/>\r\n     <use style=\"fill:#1f77b4;stroke:#1f77b4;\" x=\"319.06908\" xlink:href=\"#m7e5696184b\" y=\"87.445952\"/>\r\n     <use style=\"fill:#1f77b4;stroke:#1f77b4;\" x=\"348.195444\" xlink:href=\"#m7e5696184b\" y=\"61.02167\"/>\r\n     <use style=\"fill:#1f77b4;stroke:#1f77b4;\" x=\"200.43682\" xlink:href=\"#m7e5696184b\" y=\"168.263902\"/>\r\n     <use style=\"fill:#1f77b4;stroke:#1f77b4;\" x=\"302.064259\" xlink:href=\"#m7e5696184b\" y=\"82.516576\"/>\r\n     <use style=\"fill:#1f77b4;stroke:#1f77b4;\" x=\"285.2994\" xlink:href=\"#m7e5696184b\" y=\"115.405977\"/>\r\n     <use style=\"fill:#1f77b4;stroke:#1f77b4;\" x=\"226.951803\" xlink:href=\"#m7e5696184b\" y=\"74.728203\"/>\r\n     <use style=\"fill:#1f77b4;stroke:#1f77b4;\" x=\"311.372282\" xlink:href=\"#m7e5696184b\" y=\"118.12252\"/>\r\n     <use style=\"fill:#1f77b4;stroke:#1f77b4;\" x=\"132.489462\" xlink:href=\"#m7e5696184b\" y=\"170.680261\"/>\r\n     <use style=\"fill:#1f77b4;stroke:#1f77b4;\" x=\"113.119424\" xlink:href=\"#m7e5696184b\" y=\"174.796304\"/>\r\n     <use style=\"fill:#1f77b4;stroke:#1f77b4;\" x=\"67.762383\" xlink:href=\"#m7e5696184b\" y=\"175.83633\"/>\r\n     <use style=\"fill:#1f77b4;stroke:#1f77b4;\" x=\"219.051006\" xlink:href=\"#m7e5696184b\" y=\"83.857263\"/>\r\n     <use style=\"fill:#1f77b4;stroke:#1f77b4;\" x=\"264.084685\" xlink:href=\"#m7e5696184b\" y=\"71.155003\"/>\r\n     <use style=\"fill:#1f77b4;stroke:#1f77b4;\" x=\"347.126771\" xlink:href=\"#m7e5696184b\" y=\"98.670437\"/>\r\n     <use style=\"fill:#1f77b4;stroke:#1f77b4;\" x=\"168.886333\" xlink:href=\"#m7e5696184b\" y=\"199.286862\"/>\r\n     <use style=\"fill:#1f77b4;stroke:#1f77b4;\" x=\"91.315652\" xlink:href=\"#m7e5696184b\" y=\"152.627314\"/>\r\n     <use style=\"fill:#1f77b4;stroke:#1f77b4;\" x=\"98.892779\" xlink:href=\"#m7e5696184b\" y=\"172.793683\"/>\r\n     <use style=\"fill:#1f77b4;stroke:#1f77b4;\" x=\"50.522869\" xlink:href=\"#m7e5696184b\" y=\"164.236617\"/>\r\n     <use style=\"fill:#1f77b4;stroke:#1f77b4;\" x=\"327.299749\" xlink:href=\"#m7e5696184b\" y=\"98.289678\"/>\r\n     <use style=\"fill:#1f77b4;stroke:#1f77b4;\" x=\"114.373804\" xlink:href=\"#m7e5696184b\" y=\"184.434466\"/>\r\n     <use style=\"fill:#1f77b4;stroke:#1f77b4;\" x=\"201.594471\" xlink:href=\"#m7e5696184b\" y=\"168.331778\"/>\r\n    </g>\r\n   </g>\r\n   <g id=\"patch_3\">\r\n    <path d=\"M 35.304688 228.14 \r\nL 35.304688 10.7 \r\n\" style=\"fill:none;stroke:#000000;stroke-linecap:square;stroke-linejoin:miter;stroke-width:0.8;\"/>\r\n   </g>\r\n   <g id=\"patch_4\">\r\n    <path d=\"M 370.104688 228.14 \r\nL 370.104688 10.7 \r\n\" style=\"fill:none;stroke:#000000;stroke-linecap:square;stroke-linejoin:miter;stroke-width:0.8;\"/>\r\n   </g>\r\n   <g id=\"patch_5\">\r\n    <path d=\"M 35.304688 228.14 \r\nL 370.104688 228.14 \r\n\" style=\"fill:none;stroke:#000000;stroke-linecap:square;stroke-linejoin:miter;stroke-width:0.8;\"/>\r\n   </g>\r\n   <g id=\"patch_6\">\r\n    <path d=\"M 35.304688 10.7 \r\nL 370.104688 10.7 \r\n\" style=\"fill:none;stroke:#000000;stroke-linecap:square;stroke-linejoin:miter;stroke-width:0.8;\"/>\r\n   </g>\r\n  </g>\r\n </g>\r\n <defs>\r\n  <clipPath id=\"pd548fb3a16\">\r\n   <rect height=\"217.44\" width=\"334.8\" x=\"35.304688\" y=\"10.7\"/>\r\n  </clipPath>\r\n </defs>\r\n</svg>\r\n",
      "image/png": "[encoded data removed]"
     },
     "metadata": {}
    }
   ],
   "source": [
    "plt.plot(dataMat2[:,0], dataMat2[:,1], 'o')"
   ]
  },
  {
   "source": [
    "https://zhuanlan.zhihu.com/p/139519852\n",
    "\n",
    "https://blog.csdn.net/leaf_zizi/article/details/83503167"
   ],
   "cell_type": "markdown",
   "metadata": {}
  },
  {
   "cell_type": "code",
   "execution_count": null,
   "metadata": {},
   "outputs": [],
   "source": []
  }
 ],
 "metadata": {
  "hide_input": false,
  "kernelspec": {
   "display_name": "Python 3",
   "language": "python",
   "name": "python3"
  },
  "language_info": {
   "codemirror_mode": {
    "name": "ipython",
    "version": 3
   },
   "file_extension": ".py",
   "mimetype": "text/x-python",
   "name": "python",
   "nbconvert_exporter": "python",
   "pygments_lexer": "ipython3",
   "version": "3.6.5-final"
  },
  "latex_envs": {
   "LaTeX_envs_menu_present": true,
   "autoclose": false,
   "autocomplete": true,
   "bibliofile": "biblio.bib",
   "cite_by": "apalike",
   "current_citInitial": 1,
   "eqLabelWithNumbers": true,
   "eqNumInitial": 1,
   "hotkeys": {
    "equation": "Ctrl-E",
    "itemize": "Ctrl-I"
   },
   "labels_anchors": false,
   "latex_user_defs": false,
   "report_style_numbering": false,
   "user_envs_cfg": false
  },
  "toc": {
   "base_numbering": 1,
   "nav_menu": {},
   "number_sections": true,
   "sideBar": true,
   "skip_h1_title": false,
   "title_cell": "Table of Contents",
   "title_sidebar": "Contents",
   "toc_cell": false,
   "toc_position": {},
   "toc_section_display": true,
   "toc_window_display": false
  }
 },
 "nbformat": 4,
 "nbformat_minor": 2
}