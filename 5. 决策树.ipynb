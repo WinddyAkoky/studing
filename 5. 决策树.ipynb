{
 "cells": [
  {
   "cell_type": "markdown",
   "metadata": {},
   "source": [
    "# 第五章 决策树"
   ]
  },
  {
   "cell_type": "markdown",
   "metadata": {},
   "source": [
    "1. 什么是决策树？\n",
    "2. 决策树算法包括哪些？\n",
    "3. 如何进行特征选择？"
   ]
  },
  {
   "cell_type": "markdown",
   "metadata": {},
   "source": [
    "1. 分类决策树模型是表示基于特征对实例进行分类的树形结构。决策树可以转换成if-then规则的集合。也可以看做是定义在特征空间划分上的类的条件概率分布。\n",
    "2. 决策树学习旨在构建一个与训练数据拟合很好，并且复杂度小的决策树。因为从可能的决策树中直接选取最优决策树是个NP完全问题。现实中采用启发式方法学习次优的决策树。\n",
    "决策树学习算法包括3部分：特征选择、树的生成和树的剪枝。常用的算法有ID3、C4.5、CART。\n",
    "3. 特征选择的目的在于选取对训练数据能够分类的特征。特征选择的关键是准则。常用准则如下：\n",
    "\n",
    "（1）样本集合D对特征A的信息增益（ID3）\n",
    "$$g(D,A)=H(D) - H(D|A)$$\n",
    "$$H(D) = -\\sum_{k=1}^K{\\frac{|C_k|}{|D|}log_2 \\frac{|C_k|}{|D|}}$$\n",
    "$$H(D|A) = \\sum_{i=1}^{n}{\\frac{|D_i|}{|D|}H(D_i)}$$\n",
    "\n",
    "其中H(D)是数据集$D$的熵，$D(D_i)$是数据集$D_i$的熵，$H(H|A)$是数据集D对特征A的条件熵。$D_i$是D中特征A取第i个值的样本子集，$C_k$是D中属于第k类的样本的子集。$n$是特征A取值的个数，K是类的个数。\n",
    "\n",
    "（2）样本集合D对特征A的信息增益比（C4.5）\n",
    "$$g_R(D,A)=\\frac{g(D,A)}{H(D)}$$\n",
    "其中，$g(D,A)$是信息增益，$H(D)$是数据集D的熵。\n",
    "\n",
    "（3）样本集合D的基尼指数（CART）\n",
    "$$Gini(D)=1-\\sum_{k=1}^{K}{(\\frac{|C_k|}{|D|})^2}$$\n",
    "特征A条件下集合D的基尼指数：\n",
    "$$Gini(D,A)=\\frac{|D_1|}{|D|}Gini(|D_1|)+\\frac{|D_2|}{|D|}Gini(D_2)$$\n",
    "\n",
    "4. 决策树的生成。通常使用信息增益最大、信息增益比最大或基尼指数最小作为特征选择的准则。决策树的生成往往通过计算信息增益或者其他指标，从根节点开始，递归的产生决策树。这相当于用信息增益或其他准则不断地选取局部最优的特征，或将训练集分割为能够基本正确分类的子集。\n",
    "\n",
    "5. 决策树的剪枝。由于生产决策树存在过拟合问题，需要对它进行剪枝，以简化学到的决策树。决策树的剪枝，往往从已生产的树上剪掉一些叶节点或叶节点以上的子树，并将其父节点或跟节点作为新的叶节点，从而简化生成的决策树。"
   ]
  },
  {
   "cell_type": "code",
   "execution_count": 112,
   "metadata": {},
   "outputs": [],
   "source": [
    "import numpy as np\n",
    "import pandas as pd\n",
    "from math import log"
   ]
  },
  {
   "cell_type": "code",
   "execution_count": 113,
   "metadata": {},
   "outputs": [],
   "source": [
    "# 数据集\n",
    "# 样本数 x 特征数\n",
    "# 书上题目5.1\n",
    "def create_data():\n",
    "    datasets = [['青年', '否', '否', '一般', '否'],\n",
    "               ['青年', '否', '否', '好', '否'],\n",
    "               ['青年', '是', '否', '好', '是'],\n",
    "               ['青年', '是', '是', '一般', '是'],\n",
    "               ['青年', '否', '否', '一般', '否'],\n",
    "               ['中年', '否', '否', '一般', '否'],\n",
    "               ['中年', '否', '否', '好', '否'],\n",
    "               ['中年', '是', '是', '好', '是'],\n",
    "               ['中年', '否', '是', '非常好', '是'],\n",
    "               ['中年', '否', '是', '非常好', '是'],\n",
    "               ['老年', '否', '是', '非常好', '是'],\n",
    "               ['老年', '否', '是', '好', '是'],\n",
    "               ['老年', '是', '否', '好', '是'],\n",
    "               ['老年', '是', '否', '非常好', '是'],\n",
    "               ['老年', '否', '否', '一般', '否'],\n",
    "               ]\n",
    "    labels = [u'年龄', u'有工作', u'有自己的房子', u'信贷情况', u'类别']\n",
    "    # 返回数据集和每个维度的名称\n",
    "    return datasets, labels"
   ]
  },
  {
   "cell_type": "code",
   "execution_count": 114,
   "metadata": {},
   "outputs": [],
   "source": [
    "datasets, labels = create_data()"
   ]
  },
  {
   "cell_type": "code",
   "execution_count": 115,
   "metadata": {},
   "outputs": [],
   "source": [
    "train_data = pd.DataFrame(datasets, columns=labels)"
   ]
  },
  {
   "cell_type": "code",
   "execution_count": 116,
   "metadata": {},
   "outputs": [
    {
     "data": {
      "text/html": [
       "<div>\n",
       "<style scoped>\n",
       "    .dataframe tbody tr th:only-of-type {\n",
       "        vertical-align: middle;\n",
       "    }\n",
       "\n",
       "    .dataframe tbody tr th {\n",
       "        vertical-align: top;\n",
       "    }\n",
       "\n",
       "    .dataframe thead th {\n",
       "        text-align: right;\n",
       "    }\n",
       "</style>\n",
       "<table border=\"1\" class=\"dataframe\">\n",
       "  <thead>\n",
       "    <tr style=\"text-align: right;\">\n",
       "      <th></th>\n",
       "      <th>年龄</th>\n",
       "      <th>有工作</th>\n",
       "      <th>有自己的房子</th>\n",
       "      <th>信贷情况</th>\n",
       "      <th>类别</th>\n",
       "    </tr>\n",
       "  </thead>\n",
       "  <tbody>\n",
       "    <tr>\n",
       "      <th>0</th>\n",
       "      <td>青年</td>\n",
       "      <td>否</td>\n",
       "      <td>否</td>\n",
       "      <td>一般</td>\n",
       "      <td>否</td>\n",
       "    </tr>\n",
       "    <tr>\n",
       "      <th>1</th>\n",
       "      <td>青年</td>\n",
       "      <td>否</td>\n",
       "      <td>否</td>\n",
       "      <td>好</td>\n",
       "      <td>否</td>\n",
       "    </tr>\n",
       "    <tr>\n",
       "      <th>2</th>\n",
       "      <td>青年</td>\n",
       "      <td>是</td>\n",
       "      <td>否</td>\n",
       "      <td>好</td>\n",
       "      <td>是</td>\n",
       "    </tr>\n",
       "    <tr>\n",
       "      <th>3</th>\n",
       "      <td>青年</td>\n",
       "      <td>是</td>\n",
       "      <td>是</td>\n",
       "      <td>一般</td>\n",
       "      <td>是</td>\n",
       "    </tr>\n",
       "    <tr>\n",
       "      <th>4</th>\n",
       "      <td>青年</td>\n",
       "      <td>否</td>\n",
       "      <td>否</td>\n",
       "      <td>一般</td>\n",
       "      <td>否</td>\n",
       "    </tr>\n",
       "    <tr>\n",
       "      <th>5</th>\n",
       "      <td>中年</td>\n",
       "      <td>否</td>\n",
       "      <td>否</td>\n",
       "      <td>一般</td>\n",
       "      <td>否</td>\n",
       "    </tr>\n",
       "    <tr>\n",
       "      <th>6</th>\n",
       "      <td>中年</td>\n",
       "      <td>否</td>\n",
       "      <td>否</td>\n",
       "      <td>好</td>\n",
       "      <td>否</td>\n",
       "    </tr>\n",
       "    <tr>\n",
       "      <th>7</th>\n",
       "      <td>中年</td>\n",
       "      <td>是</td>\n",
       "      <td>是</td>\n",
       "      <td>好</td>\n",
       "      <td>是</td>\n",
       "    </tr>\n",
       "    <tr>\n",
       "      <th>8</th>\n",
       "      <td>中年</td>\n",
       "      <td>否</td>\n",
       "      <td>是</td>\n",
       "      <td>非常好</td>\n",
       "      <td>是</td>\n",
       "    </tr>\n",
       "    <tr>\n",
       "      <th>9</th>\n",
       "      <td>中年</td>\n",
       "      <td>否</td>\n",
       "      <td>是</td>\n",
       "      <td>非常好</td>\n",
       "      <td>是</td>\n",
       "    </tr>\n",
       "    <tr>\n",
       "      <th>10</th>\n",
       "      <td>老年</td>\n",
       "      <td>否</td>\n",
       "      <td>是</td>\n",
       "      <td>非常好</td>\n",
       "      <td>是</td>\n",
       "    </tr>\n",
       "    <tr>\n",
       "      <th>11</th>\n",
       "      <td>老年</td>\n",
       "      <td>否</td>\n",
       "      <td>是</td>\n",
       "      <td>好</td>\n",
       "      <td>是</td>\n",
       "    </tr>\n",
       "    <tr>\n",
       "      <th>12</th>\n",
       "      <td>老年</td>\n",
       "      <td>是</td>\n",
       "      <td>否</td>\n",
       "      <td>好</td>\n",
       "      <td>是</td>\n",
       "    </tr>\n",
       "    <tr>\n",
       "      <th>13</th>\n",
       "      <td>老年</td>\n",
       "      <td>是</td>\n",
       "      <td>否</td>\n",
       "      <td>非常好</td>\n",
       "      <td>是</td>\n",
       "    </tr>\n",
       "    <tr>\n",
       "      <th>14</th>\n",
       "      <td>老年</td>\n",
       "      <td>否</td>\n",
       "      <td>否</td>\n",
       "      <td>一般</td>\n",
       "      <td>否</td>\n",
       "    </tr>\n",
       "  </tbody>\n",
       "</table>\n",
       "</div>"
      ],
      "text/plain": [
       "    年龄 有工作 有自己的房子 信贷情况 类别\n",
       "0   青年   否      否   一般  否\n",
       "1   青年   否      否    好  否\n",
       "2   青年   是      否    好  是\n",
       "3   青年   是      是   一般  是\n",
       "4   青年   否      否   一般  否\n",
       "5   中年   否      否   一般  否\n",
       "6   中年   否      否    好  否\n",
       "7   中年   是      是    好  是\n",
       "8   中年   否      是  非常好  是\n",
       "9   中年   否      是  非常好  是\n",
       "10  老年   否      是  非常好  是\n",
       "11  老年   否      是    好  是\n",
       "12  老年   是      否    好  是\n",
       "13  老年   是      否  非常好  是\n",
       "14  老年   否      否   一般  否"
      ]
     },
     "execution_count": 116,
     "metadata": {},
     "output_type": "execute_result"
    }
   ],
   "source": [
    "train_data"
   ]
  },
  {
   "cell_type": "code",
   "execution_count": 117,
   "metadata": {},
   "outputs": [],
   "source": [
    "# 计算熵\n",
    "def calc_ent(datasets):\n",
    "    catogeries = pd.unique(datasets[datasets.columns[-1]])\n",
    "    ans = 0\n",
    "    for x in catogeries:\n",
    "        tmp = sum(datasets[datasets.columns[-1]]==x)/len(datasets)\n",
    "        ans += -tmp*np.log(tmp)\n",
    "    return ans"
   ]
  },
  {
   "cell_type": "code",
   "execution_count": 118,
   "metadata": {},
   "outputs": [
    {
     "data": {
      "text/plain": [
       "0.6730116670092565"
      ]
     },
     "execution_count": 118,
     "metadata": {},
     "output_type": "execute_result"
    }
   ],
   "source": [
    "calc_ent(train_data)"
   ]
  },
  {
   "cell_type": "code",
   "execution_count": 119,
   "metadata": {},
   "outputs": [],
   "source": [
    "# 经验条件熵\n",
    "def cond_ent(datasets, axis=0):\n",
    "    features = datasets.columns\n",
    "    sel_feature = features[axis]\n",
    "    sel_feature_vals = pd.unique(datasets[sel_feature])\n",
    "    ans = 0\n",
    "    for x in sel_feature_vals:\n",
    "        t_dataset = datasets[datasets[sel_feature]==x]\n",
    "        ans = len(t_dataset)/len(datasets) * calc_ent(t_dataset)\n",
    "    return ans"
   ]
  },
  {
   "cell_type": "code",
   "execution_count": 120,
   "metadata": {
    "scrolled": true
   },
   "outputs": [
    {
     "data": {
      "text/plain": [
       "0.1668008078460626"
      ]
     },
     "execution_count": 120,
     "metadata": {},
     "output_type": "execute_result"
    }
   ],
   "source": [
    "cond_ent(train_data, 0)"
   ]
  },
  {
   "cell_type": "code",
   "execution_count": 121,
   "metadata": {},
   "outputs": [],
   "source": [
    "# 信息增益\n",
    "def info_gain(ent, cond_ent):\n",
    "    return ent - cond_ent\n",
    "\n",
    "def info_gain_train(datasets):\n",
    "    count = len(datasets.columns) - 1\n",
    "    ent = calc_ent(datasets)\n",
    "    best_feature = []\n",
    "    for c in range(count):\n",
    "        c_info_gain = info_gain(ent, cond_ent(datasets, c))\n",
    "        best_feature.append((c, c_info_gain))\n",
    "        \n",
    "    return max(best_feature, key=lambda x: x[-1])"
   ]
  },
  {
   "cell_type": "code",
   "execution_count": 122,
   "metadata": {},
   "outputs": [],
   "source": [
    "# def calc_ent(datasets):\n",
    "#         data_length = len(datasets)\n",
    "#         label_count = {}\n",
    "#         for i in range(data_length):\n",
    "#             label = datasets[i][-1]\n",
    "#             if label not in label_count:\n",
    "#                 label_count[label] = 0\n",
    "#             label_count[label] += 1\n",
    "#         ent = -sum([(p / data_length) * log(p / data_length, 2)\n",
    "#                     for p in label_count.values()])\n",
    "#         return ent\n",
    "\n",
    "# # 经验条件熵\n",
    "# def cond_ent(datasets, axis=0):\n",
    "#     data_length = len(datasets)\n",
    "#     feature_sets = {}\n",
    "#     for i in range(data_length):\n",
    "#         feature = datasets[i][axis]\n",
    "#         if feature not in feature_sets:\n",
    "#             feature_sets[feature] = []\n",
    "#         feature_sets[feature].append(datasets[i])\n",
    "#     cond_ent = sum([(len(p) / data_length) * calc_ent(p)\n",
    "#                     for p in feature_sets.values()])\n",
    "#     return cond_ent\n",
    "\n",
    "# # 信息增益\n",
    "# def info_gain(ent, cond_ent):\n",
    "#     return ent - cond_ent\n",
    "\n",
    "# def info_gain_train(datasets):\n",
    "#     count = len(datasets[0]) - 1\n",
    "#     ent = calc_ent(datasets)\n",
    "#     best_feature = []\n",
    "#     for c in range(count):\n",
    "#         c_info_gain = info_gain(ent, cond_ent(datasets, axis=c))\n",
    "#         best_feature.append((c, c_info_gain))\n",
    "#     # 比较大小\n",
    "#     best_ = max(best_feature, key=lambda x: x[-1])\n",
    "#     return best_"
   ]
  },
  {
   "cell_type": "code",
   "execution_count": 123,
   "metadata": {},
   "outputs": [],
   "source": [
    "class Node:\n",
    "    def __init__(self, root=True, label=None, feature_name=None, feature=None):\n",
    "        self.root = root\n",
    "        self.label = label\n",
    "        self.feature_name = feature_name\n",
    "        self.feature = feature\n",
    "        self.tree = {}\n",
    "        self.result = {\n",
    "            'label': self.label,\n",
    "            'feature': self.feature,\n",
    "            'tree': self.tree\n",
    "        }\n",
    "        \n",
    "    def __repr__(self):\n",
    "        return '{}'.format(self.result)\n",
    "    \n",
    "    def add_node(self, val, node):\n",
    "        self.tree[val] = node\n",
    "    \n",
    "    def predict(self, features):\n",
    "        if self.root is True:\n",
    "            return self.label\n",
    "        return self.tree[features[self.feature]].predict(features)\n",
    "\n",
    "# class Node:\n",
    "#     def __init__(self, root=True, label=None, feature_name=None, feature=None):\n",
    "#         self.root = root\n",
    "#         self.label = label\n",
    "#         self.feature_name = feature_name\n",
    "#         self.feature = feature\n",
    "#         self.tree = {}\n",
    "#         self.result = {\n",
    "#             'label:': self.label,\n",
    "#             'feature': self.feature,\n",
    "#             'tree': self.tree\n",
    "#         }\n",
    "\n",
    "#     def __repr__(self):\n",
    "#         return '{}'.format(self.result)\n",
    "\n",
    "#     def add_node(self, val, node):\n",
    "#         self.tree[val] = node\n",
    "\n",
    "#     def predict(self, features):\n",
    "#         if self.root is True:\n",
    "#             return self.label\n",
    "#         return self.tree[features[self.feature]].predict(features)"
   ]
  },
  {
   "cell_type": "code",
   "execution_count": 128,
   "metadata": {},
   "outputs": [],
   "source": [
    "def train(train_data):\n",
    "    y_train = train_data.iloc[:, -1]\n",
    "    features = train_data.columns[:-1]\n",
    "    \n",
    "    # 1. 仅剩一个类\n",
    "    if len(y_train.value_counts())==1:\n",
    "        return Node(root=True, label=y_train.iloc[0])\n",
    "    # 2. 已无特征可以挑选\n",
    "    if len(features) == 0:\n",
    "        return Node(root=True, label=y_train.value_counts().sort_values(ascending=False).index[0])\n",
    "    \n",
    "    # 3. 计算最大信息增益\n",
    "    max_feature, max_info_gain = info_gain_train(train_data)\n",
    "    max_feature_name = features[max_feature]\n",
    "    \n",
    "    # 4. \n",
    "    if max_info_gain < 0.1:\n",
    "        return Node(root=True, label=y_train.value_counts().sort_values(ascending=False).index[0])\n",
    "    \n",
    "    # 5. 构建 ag 子集\n",
    "    node_tree = Node(root=False, feature_name=max_feature_name, feature=max_feature)\n",
    "    feature_list = train_data[max_feature_name].value_counts().index\n",
    "    for f in feature_list:\n",
    "        sub_train_df = train_data.loc[train_data[max_feature_name]==f].drop([max_feature_name], axis=1)\n",
    "     \n",
    "    # 6. 递归生成树\n",
    "        sub_tree = train(sub_train_df)\n",
    "        node_tree.add_node(f, sub_tree)\n",
    "    \n",
    "    return node_tree\n",
    "\n",
    "# def train(train_data):\n",
    "#     \"\"\"\n",
    "#     input:数据集D(DataFrame格式)，特征集A，阈值eta\n",
    "#     output:决策树T\n",
    "#     \"\"\"\n",
    "# #     _, y_train, features = train_data.iloc[:, :-1], train_data.iloc[:,-1], train_data.columns[:-1]\n",
    "#     y_train = train_data.iloc[:, -1]\n",
    "#     features = train_data.columns[:-1]\n",
    "# #     # 1,若D中实例属于同一类Ck，则T为单节点树，并将类Ck作为结点的类标记，返回T\n",
    "# #     if len(y_train.value_counts()) == 1:\n",
    "# #         return Node(root=True, label=y_train.iloc[0])\n",
    "\n",
    "# #     # 2, 若A为空，则T为单节点树，将D中实例树最大的类Ck作为该节点的类标记，返回T\n",
    "# #     if len(features) == 0:\n",
    "# #         return Node(\n",
    "# #             root=True,\n",
    "# #             label=y_train.value_counts().sort_values(\n",
    "# #                 ascending=False).index[0])\n",
    "# # 1. 仅剩一个类\n",
    "#     if len(y_train.value_counts())==1:\n",
    "#         return Node(root=True, label=y_train.iloc[0])\n",
    "#     # 2. 已无特征可以挑选\n",
    "#     if len(features) == 0:\n",
    "#         return Node(root=True, label=y_train.value_counts().sort_values(ascending=False).index[0])\n",
    "\n",
    "#     # 3,计算最大信息增益 同5.1,Ag为信息增益最大的特征\n",
    "# #     max_feature, max_info_gain = info_gain_train(np.array(train_data))\n",
    "# #     max_feature_name = features[max_feature]\n",
    "# # 3. 计算最大信息增益\n",
    "#     max_feature, max_info_gain = info_gain_train(np.array(train_data))\n",
    "#     max_feature_name = features[max_feature]\n",
    "\n",
    "#     # 4,Ag的信息增益小于阈值eta,则置T为单节点树，并将D中是实例数最大的类Ck作为该节点的类标记，返回T\n",
    "# #     if max_info_gain < 0.1:\n",
    "# #         return Node(\n",
    "# #             root=True,\n",
    "# #             label=y_train.value_counts().sort_values(\n",
    "# #                 ascending=False).index[0])\n",
    "#     if max_info_gain < 0.1:\n",
    "#         return Node(root=True, label=y_train.value_counts().sort_values(ascending=False).index[0])\n",
    "\n",
    "# #     # 5,构建Ag子集\n",
    "# #     node_tree = Node(\n",
    "# #         root=False, feature_name=max_feature_name, feature=max_feature)\n",
    "\n",
    "# #     feature_list = train_data[max_feature_name].value_counts().index\n",
    "# #     for f in feature_list:\n",
    "# #         sub_train_df = train_data.loc[train_data[max_feature_name] ==\n",
    "# #                                       f].drop([max_feature_name], axis=1)\n",
    "#     node_tree = Node(root=False, feature_name=max_feature_name, feature=max_feature)\n",
    "#     feature_list = train_data[max_feature_name].value_counts().index\n",
    "#     for f in feature_list:\n",
    "#         sub_train_df = train_data.loc[train_data[max_feature_name]==f].drop([max_feature_name], axis=1)\n",
    "     \n",
    "\n",
    "#         # 6, 递归生成树\n",
    "#         sub_tree = train(sub_train_df)\n",
    "#         node_tree.add_node(f, sub_tree)\n",
    "# #         sub_tree = train(sub_train_df)\n",
    "# #     node_tree.add_node(f, sub_tree)\n",
    "\n",
    "#     # pprint.pprint(node_tree.tree)\n",
    "#     return node_tree"
   ]
  },
  {
   "cell_type": "code",
   "execution_count": 129,
   "metadata": {},
   "outputs": [],
   "source": [
    "def fit(train_data):\n",
    "    return train(train_data)"
   ]
  },
  {
   "cell_type": "code",
   "execution_count": 130,
   "metadata": {},
   "outputs": [],
   "source": [
    "tree = fit(train_data)"
   ]
  },
  {
   "cell_type": "code",
   "execution_count": 131,
   "metadata": {},
   "outputs": [
    {
     "data": {
      "text/plain": [
       "{'label': None, 'feature': 1, 'tree': {'否': {'label': None, 'feature': 1, 'tree': {'否': {'label': '否', 'feature': None, 'tree': {}}, '是': {'label': '是', 'feature': None, 'tree': {}}}}, '是': {'label': '是', 'feature': None, 'tree': {}}}}"
      ]
     },
     "execution_count": 131,
     "metadata": {},
     "output_type": "execute_result"
    }
   ],
   "source": [
    "tree"
   ]
  },
  {
   "cell_type": "code",
   "execution_count": 132,
   "metadata": {},
   "outputs": [
    {
     "data": {
      "text/plain": [
       "'否'"
      ]
     },
     "execution_count": 132,
     "metadata": {},
     "output_type": "execute_result"
    }
   ],
   "source": [
    "tree.predict(['老年', '否', '否', '一般'])"
   ]
  },
  {
   "cell_type": "code",
   "execution_count": null,
   "metadata": {},
   "outputs": [],
   "source": []
  },
  {
   "cell_type": "code",
   "execution_count": null,
   "metadata": {},
   "outputs": [],
   "source": []
  },
  {
   "cell_type": "code",
   "execution_count": null,
   "metadata": {},
   "outputs": [],
   "source": []
  },
  {
   "cell_type": "code",
   "execution_count": null,
   "metadata": {},
   "outputs": [],
   "source": []
  },
  {
   "cell_type": "code",
   "execution_count": null,
   "metadata": {},
   "outputs": [],
   "source": []
  },
  {
   "cell_type": "code",
   "execution_count": null,
   "metadata": {},
   "outputs": [],
   "source": []
  }
 ],
 "metadata": {
  "hide_input": false,
  "kernelspec": {
   "display_name": "Python 3",
   "language": "python",
   "name": "python3"
  },
  "language_info": {
   "codemirror_mode": {
    "name": "ipython",
    "version": 3
   },
   "file_extension": ".py",
   "mimetype": "text/x-python",
   "name": "python",
   "nbconvert_exporter": "python",
   "pygments_lexer": "ipython3",
   "version": "3.6.5"
  },
  "latex_envs": {
   "LaTeX_envs_menu_present": true,
   "autoclose": false,
   "autocomplete": true,
   "bibliofile": "biblio.bib",
   "cite_by": "apalike",
   "current_citInitial": 1,
   "eqLabelWithNumbers": true,
   "eqNumInitial": 1,
   "hotkeys": {
    "equation": "Ctrl-E",
    "itemize": "Ctrl-I"
   },
   "labels_anchors": false,
   "latex_user_defs": false,
   "report_style_numbering": false,
   "user_envs_cfg": false
  },
  "toc": {
   "base_numbering": 1,
   "nav_menu": {},
   "number_sections": true,
   "sideBar": true,
   "skip_h1_title": false,
   "title_cell": "Table of Contents",
   "title_sidebar": "Contents",
   "toc_cell": false,
   "toc_position": {},
   "toc_section_display": true,
   "toc_window_display": false
  }
 },
 "nbformat": 4,
 "nbformat_minor": 2
}
