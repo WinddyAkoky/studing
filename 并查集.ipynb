{
 "metadata": {
  "language_info": {
   "codemirror_mode": {
    "name": "ipython",
    "version": 3
   },
   "file_extension": ".py",
   "mimetype": "text/x-python",
   "name": "python",
   "nbconvert_exporter": "python",
   "pygments_lexer": "ipython3",
   "version": "3.6.5-final"
  },
  "orig_nbformat": 2,
  "kernelspec": {
   "name": "python3",
   "display_name": "Python 3",
   "language": "python"
  }
 },
 "nbformat": 4,
 "nbformat_minor": 2,
 "cells": [
  {
   "source": [
    "1. 并查集主要用于解决一些元素分组问题，它管理一系列不想交的集合，并支持两种操作：\n",
    "    - 合并：把两个不相交的集合合并为一个集合。\n",
    "    - 查询：查询两个元素是否在同一个集合中。\n",
    "2. 并查集的重要思想在于，用集合中的一个元素代表集合。"
   ],
   "cell_type": "markdown",
   "metadata": {}
  },
  {
   "cell_type": "code",
   "execution_count": 1,
   "metadata": {},
   "outputs": [],
   "source": [
    "n = 6 # 表示有n个人\n",
    "pairs = [[1,2],[1,4],[1,6],[3,5],[5,6]] #表示i与j是否是亲戚关系\n",
    "# 求以下两个数是否是亲戚关系\n",
    "P = [[2,3],[2,6]]"
   ]
  },
  {
   "cell_type": "code",
   "execution_count": 2,
   "metadata": {},
   "outputs": [],
   "source": [
    "# 初始化并查集\n",
    "def init(n):\n",
    "    fathers = [i+1 for i in range(n)]\n",
    "    rank = [1 for i in range(n)]\n",
    "    return fathers, rank\n",
    "\n",
    "fa, rank = init(n)"
   ]
  },
  {
   "cell_type": "code",
   "execution_count": 6,
   "metadata": {},
   "outputs": [],
   "source": [
    "# 查询\n",
    "def find(x):\n",
    "    if(fa[x] == x):\n",
    "        return x;\n",
    "    fa[x] = find[fa[x]]\n",
    "    return fa[x]"
   ]
  },
  {
   "cell_type": "code",
   "execution_count": 8,
   "metadata": {},
   "outputs": [],
   "source": [
    "# 合并\n",
    "def merge(x, y):\n",
    "    fa_x = find(x)\n",
    "    fa_y = find(y)\n",
    "\n",
    "    if rank[fa_x] < rank[fa_y]:\n",
    "        fa[fa_x] = fa_y\n",
    "    elif rank[fa_x] > rank[f_y]:\n",
    "        fa[fa_y] = fa_x\n",
    "    else:\n",
    "        fa[fa_x] = fa_y\n",
    "        rank[fa_x]+=1"
   ]
  },
  {
   "cell_type": "code",
   "execution_count": null,
   "metadata": {},
   "outputs": [],
   "source": []
  },
  {
   "cell_type": "code",
   "execution_count": null,
   "metadata": {},
   "outputs": [],
   "source": []
  },
  {
   "cell_type": "code",
   "execution_count": null,
   "metadata": {},
   "outputs": [],
   "source": []
  },
  {
   "cell_type": "code",
   "execution_count": null,
   "metadata": {},
   "outputs": [],
   "source": []
  },
  {
   "cell_type": "code",
   "execution_count": null,
   "metadata": {},
   "outputs": [],
   "source": []
  },
  {
   "cell_type": "code",
   "execution_count": null,
   "metadata": {},
   "outputs": [],
   "source": []
  },
  {
   "cell_type": "code",
   "execution_count": null,
   "metadata": {},
   "outputs": [],
   "source": []
  }
 ]
}